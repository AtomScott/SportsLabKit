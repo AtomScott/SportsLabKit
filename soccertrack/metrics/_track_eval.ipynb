{
 "cells": [
  {
   "cell_type": "code",
   "execution_count": 1,
   "metadata": {},
   "outputs": [],
   "source": [
    "%load_ext autoreload\n",
    "%autoreload 2\n",
    "\n",
    "from typing import Any\n",
    "\n",
    "from soccertrack.metrics import mota_score, identity_score, hota_score\n",
    "import soccertrack\n",
    "from soccertrack import Camera\n",
    "\n",
    "import numpy as np\n",
    "from scipy.spatial.distance import cdist\n",
    "from soccertrack.metrics import iou_score\n",
    "from soccertrack.logger import tqdm\n",
    "\n",
    "from scipy.optimize import linear_sum_assignment\n",
    "\n",
    "from soccertrack.logger import tqdm\n",
    "\n",
    "dataset_path = soccertrack.datasets.get_path('top-view')\n",
    "path_to_csv = sorted(dataset_path.glob('annotations/*.csv'))[0]\n",
    "path_to_mp4 = sorted(dataset_path.glob('videos/*.mp4'))[0]\n",
    "\n",
    "bbdf = soccertrack.load_df(path_to_csv) # We will use this as ground truth"
   ]
  },
  {
   "attachments": {},
   "cell_type": "markdown",
   "metadata": {},
   "source": [
    "### Confirmation of Script Operation"
   ]
  },
  {
   "cell_type": "code",
   "execution_count": 3,
   "metadata": {},
   "outputs": [
    {
     "name": "stderr",
     "output_type": "stream",
     "text": [
      "100%|██████████| 900/900 [00:01<00:00, 629.96it/s]\n"
     ]
    }
   ],
   "source": [
    "bbdf_gt = bbdf\n",
    "bbdf_track = bbdf\n",
    "mota = mota_score(bbdf_gt,bbdf_track)"
   ]
  },
  {
   "cell_type": "code",
   "execution_count": 4,
   "metadata": {},
   "outputs": [
    {
     "data": {
      "text/plain": [
       "{'MOTA': 1.0,\n",
       " 'MOTP': 1.0,\n",
       " 'MODA': 1.0,\n",
       " 'CLR_Re': 1.0,\n",
       " 'CLR_Pr': 1.0,\n",
       " 'MTR': 1.0,\n",
       " 'PTR': 0.0,\n",
       " 'MLR': 0.0,\n",
       " 'sMOTA': 1.0,\n",
       " 'CLR_F1': 1.0,\n",
       " 'FP_per_frame': 0.0,\n",
       " 'MOTAL': 1.0,\n",
       " 'MOTP_sum': 20700.0,\n",
       " 'CLR_TP': 20700,\n",
       " 'CLR_FN': 0,\n",
       " 'CLR_FP': 0,\n",
       " 'IDSW': 0,\n",
       " 'MT': 23,\n",
       " 'PT': 0,\n",
       " 'ML': 0,\n",
       " 'Frag': 0.0,\n",
       " 'CLR_Frames': 900}"
      ]
     },
     "execution_count": 4,
     "metadata": {},
     "output_type": "execute_result"
    }
   ],
   "source": [
    "mota"
   ]
  },
  {
   "cell_type": "code",
   "execution_count": 4,
   "metadata": {},
   "outputs": [
    {
     "name": "stderr",
     "output_type": "stream",
     "text": [
      "100%|██████████| 900/900 [00:01<00:00, 681.91it/s]\n"
     ]
    }
   ],
   "source": [
    "identity = identity_score(bbdf_gt,bbdf_track)\n",
    "identity"
   ]
  },
  {
   "cell_type": "code",
   "execution_count": 8,
   "metadata": {},
   "outputs": [
    {
     "name": "stderr",
     "output_type": "stream",
     "text": [
      "100%|██████████| 900/900 [00:01<00:00, 684.56it/s]\n"
     ]
    }
   ],
   "source": [
    "hota = hota_score(bbdf_gt,bbdf_track)\n",
    "hota"
   ]
  }
 ],
 "metadata": {
  "kernelspec": {
   "display_name": "soccertrack",
   "language": "python",
   "name": "python3"
  },
  "language_info": {
   "codemirror_mode": {
    "name": "ipython",
    "version": 3
   },
   "file_extension": ".py",
   "mimetype": "text/x-python",
   "name": "python",
   "nbconvert_exporter": "python",
   "pygments_lexer": "ipython3",
   "version": "3.9.12 (main, Jun  1 2022, 11:38:51) \n[GCC 7.5.0]"
  },
  "orig_nbformat": 4,
  "vscode": {
   "interpreter": {
    "hash": "22be08ea6f291daab158c51b4a554c3a352d304a3abd30c2197fc43f23816079"
   }
  }
 },
 "nbformat": 4,
 "nbformat_minor": 2
}
