{
 "cells": [
  {
   "cell_type": "markdown",
   "metadata": {},
   "source": [
    "# Logger Usage\n",
    "\n",
    "[![Open In Colab](https://colab.research.google.com/assets/colab-badge.svg)](ここに以下の書式でURLを入れる) \n",
    "[![github](https://badgen.net/badge/:status/View%20On%20Github/black?icon=github&label)](https://github.com/AtomScott/SoccerTrack)\n",
    "[![badge](https://img.shields.io/badge/launch-binder-579ACA.svg?logo=data:image/png;base64,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)](https://)\n",
    "\n",
    "---\n",
    "\n",
    "This tutorial demonstrates how to use the loggers provided with `SoccerTrack`. "
   ]
  },
  {
   "cell_type": "code",
   "execution_count": 1,
   "metadata": {},
   "outputs": [
    {
     "name": "stdout",
     "output_type": "stream",
     "text": [
      "\u001b[36mIPython:0007  💬| This is an info message \u001b[0m\n",
      "\u001b[32mIPython:0008  ✅| success! \u001b[0m\n",
      "\u001b[33mIPython:0009  🤔| I am warning you Github copilot! \u001b[0m\n",
      "\u001b[91mIPython:0010  ❌| I am error you Github copilot! \u001b[0m\n",
      "\u001b[31mIPython:0011  🔥| Fire in the hole! \u001b[0m\n"
     ]
    }
   ],
   "source": [
    "from soccertrack.logging import logger\n",
    "\n",
    "# The default level is INFO so debug messages are not printed\n",
    "logger.debug(\"That's it, beautiful and simple logging!\") \n",
    "\n",
    "# The following messages are printed\n",
    "logger.info(\"This is an info message\")\n",
    "logger.success(\"success!\")\n",
    "logger.warning(\"I am warning you Github copilot!\")\n",
    "logger.error(\"I am error you Github copilot!\")\n",
    "logger.critical(\"Fire in the hole!\")"
   ]
  },
  {
   "cell_type": "code",
   "execution_count": 2,
   "metadata": {},
   "outputs": [
    {
     "name": "stdout",
     "output_type": "stream",
     "text": [
      "\u001b[37mIPython:0005  🐛| That's it, beautiful and simple logging! \u001b[0m\n",
      "\u001b[31mIPython:0010  🔥| Fire in the hole! \u001b[0m\n"
     ]
    }
   ],
   "source": [
    "from soccertrack.logging import set_log_level\n",
    "\n",
    "# set the log level to DEBUG\n",
    "set_log_level('DEBUG') \n",
    "logger.debug(\"That's it, beautiful and simple logging!\") \n",
    "\n",
    "# set the log level to CRITICAL\n",
    "set_log_level('critical') # <- using lower case is OK\n",
    "logger.debug(\"That's it, beautiful and simple logging!\")\n",
    "logger.critical(\"Fire in the hole!\")"
   ]
  },
  {
   "cell_type": "markdown",
   "metadata": {},
   "source": [
    "## Classes"
   ]
  },
  {
   "cell_type": "code",
   "execution_count": 3,
   "metadata": {},
   "outputs": [
    {
     "name": "stdout",
     "output_type": "stream",
     "text": [
      "\u001b[36mHello:world:0008  💬| hello world \u001b[0m\n"
     ]
    }
   ],
   "source": [
    "from soccertrack.logging import LoggerMixin\n",
    "\n",
    "class Hello(LoggerMixin):\n",
    "    def __init__(self):\n",
    "        super().__init__()\n",
    "\n",
    "    def world(self):\n",
    "        self.logger.info(\"hello world\")\n",
    "\n",
    "hello = Hello()\n",
    "hello.world() # <- this won't print anything because the log level is set to CRITICAL\n",
    "\n",
    "# set the log level to INFO\n",
    "set_log_level('INFO')\n",
    "hello.world() # <- this will print the message "
   ]
  },
  {
   "cell_type": "markdown",
   "metadata": {},
   "source": [
    "## Tqdm"
   ]
  },
  {
   "cell_type": "markdown",
   "metadata": {},
   "source": [
    "SoccerTrack wraps `tqdm` to provide a progress bar that is only visible when it matches the currently set verbosity level.\n",
    "\n",
    "Below is a snippet of the implemented code. As you can see there is an extra parameter `level` which can be used to set the verbosity level. The default value is \"INFO\".\n",
    "\n",
    "``` python\n",
    "def tqdm(*args, **kwargs, level=\"INFO\"):\n",
    "    LOG_LEVEL = os.environ.get(\"LOG_LEVEL\", \"INFO\")\n",
    "    enable = logger.level(LOG_LEVEL).no <= logger.level(level.upper()).no\n",
    "    kwargs.update({\"disable\" : not enable})\n",
    "    return tqdm(*args, **kwargs)\n",
    "```"
   ]
  },
  {
   "cell_type": "code",
   "execution_count": 5,
   "metadata": {},
   "outputs": [
    {
     "name": "stdout",
     "output_type": "stream",
     "text": [
      "\u001b[31mIPython:0007  🔥| Iterating #0 \u001b[0m\n",
      "\u001b[31mIPython:0007  🔥| Iterating #20 \u001b[0m\n",
      "\u001b[31mIPython:0007  🔥| Iterating #40 \u001b[0m\n",
      "\u001b[31mIPython:0007  🔥| Iterating #60 \u001b[0m\n",
      "\u001b[31mIPython:0007  🔥| Iterating #80 \u001b[0m\n"
     ]
    }
   ],
   "source": [
    "import time\n",
    "from soccertrack.logging import tqdm\n",
    "\n",
    "# The progress bar is not visible\n",
    "for x in tqdm(range(100), level=\"DEBUG\"):\n",
    "    if x % 20 == 0:\n",
    "        logger.critical(\"Iterating #{}\", x)\n",
    "    time.sleep(0.1)"
   ]
  },
  {
   "cell_type": "code",
   "execution_count": 6,
   "metadata": {},
   "outputs": [
    {
     "data": {
      "application/vnd.jupyter.widget-view+json": {
       "model_id": "8aa4a86942f84e1585f3c3ed8678d5f4",
       "version_major": 2,
       "version_minor": 0
      },
      "text/plain": [
       "  0%|          | 0/100 [00:00<?, ?it/s]"
      ]
     },
     "metadata": {},
     "output_type": "display_data"
    },
    {
     "name": "stdout",
     "output_type": "stream",
     "text": [
      "\u001b[31mIPython:0004  🔥| Iterating #0 \u001b[0m\n",
      "\u001b[31mIPython:0004  🔥| Iterating #20 \u001b[0m\n",
      "\u001b[31mIPython:0004  🔥| Iterating #40 \u001b[0m\n",
      "\u001b[31mIPython:0004  🔥| Iterating #60 \u001b[0m\n",
      "\u001b[31mIPython:0004  🔥| Iterating #80 \u001b[0m\n"
     ]
    }
   ],
   "source": [
    "# The progress bar is visible\n",
    "for x in tqdm(range(100), level=\"INFO\"):\n",
    "    if x % 20 == 0:\n",
    "        logger.critical(\"Iterating #{}\", x)\n",
    "    time.sleep(0.1)"
   ]
  },
  {
   "cell_type": "code",
   "execution_count": 7,
   "metadata": {},
   "outputs": [
    {
     "data": {
      "application/vnd.jupyter.widget-view+json": {
       "model_id": "fc83d3b02af745bea7c42d1e97eec450",
       "version_major": 2,
       "version_minor": 0
      },
      "text/plain": [
       "  0%|          | 0/100 [00:00<?, ?it/s]"
      ]
     },
     "metadata": {},
     "output_type": "display_data"
    },
    {
     "name": "stdout",
     "output_type": "stream",
     "text": [
      "\u001b[31mIPython:0005  🔥| Iterating #0 \u001b[0m\n",
      "\u001b[31mIPython:0005  🔥| Iterating #20 \u001b[0m\n",
      "\u001b[31mIPython:0005  🔥| Iterating #40 \u001b[0m\n",
      "\u001b[31mIPython:0005  🔥| Iterating #60 \u001b[0m\n",
      "\u001b[31mIPython:0005  🔥| Iterating #80 \u001b[0m\n"
     ]
    }
   ],
   "source": [
    "# The progress bar is visible\n",
    "set_log_level('DEBUG') \n",
    "for x in tqdm(range(100), level=\"DEBUG\"):\n",
    "    if x % 20 == 0:\n",
    "        logger.critical(\"Iterating #{}\", x)\n",
    "    time.sleep(0.1)"
   ]
  },
  {
   "cell_type": "markdown",
   "metadata": {},
   "source": [
    "## Other"
   ]
  },
  {
   "cell_type": "code",
   "execution_count": 8,
   "metadata": {},
   "outputs": [
    {
     "name": "stdout",
     "output_type": "stream",
     "text": [
      "\u001b[36minspect:0143  💬| Inspecting: (<built-in function dir>,) \u001b[0m\n"
     ]
    },
    {
     "data": {
      "text/html": [
       "<pre style=\"white-space:pre;overflow-x:auto;line-height:normal;font-family:Menlo,'DejaVu Sans Mono',consolas,'Courier New',monospace\"><span style=\"color: #000080; text-decoration-color: #000080\">╭────────────────── </span><span style=\"color: #000080; text-decoration-color: #000080; font-weight: bold\">&lt;</span><span style=\"color: #ff00ff; text-decoration-color: #ff00ff; font-weight: bold\">built-in</span><span style=\"color: #000000; text-decoration-color: #000000\"> function dir</span><span style=\"color: #000080; text-decoration-color: #000080; font-weight: bold\">&gt;</span><span style=\"color: #000080; text-decoration-color: #000080\"> ───────────────────╮</span>\n",
       "<span style=\"color: #000080; text-decoration-color: #000080\">│</span> <span style=\"color: #00ffff; text-decoration-color: #00ffff; font-style: italic\">def </span><span style=\"color: #800000; text-decoration-color: #800000; font-weight: bold\">dir</span><span style=\"font-weight: bold\">(</span><span style=\"color: #808000; text-decoration-color: #808000\">...</span><span style=\"font-weight: bold\">)</span>                                                 <span style=\"color: #000080; text-decoration-color: #000080\">│</span>\n",
       "<span style=\"color: #000080; text-decoration-color: #000080\">│</span>                                                              <span style=\"color: #000080; text-decoration-color: #000080\">│</span>\n",
       "<span style=\"color: #000080; text-decoration-color: #000080\">│</span> <span style=\"color: #800080; text-decoration-color: #800080; font-weight: bold\">dir</span><span style=\"color: #008080; text-decoration-color: #008080; font-weight: bold\">([</span><span style=\"color: #008080; text-decoration-color: #008080\">object</span><span style=\"color: #008080; text-decoration-color: #008080; font-weight: bold\">])</span><span style=\"color: #008080; text-decoration-color: #008080\"> -&gt; list of strings</span>                             <span style=\"color: #000080; text-decoration-color: #000080\">│</span>\n",
       "<span style=\"color: #000080; text-decoration-color: #000080\">│</span>                                                              <span style=\"color: #000080; text-decoration-color: #000080\">│</span>\n",
       "<span style=\"color: #000080; text-decoration-color: #000080\">│</span> <span style=\"color: #008080; text-decoration-color: #008080; font-weight: bold\">29</span><span style=\"font-style: italic\"> attribute(s) not shown.</span> Run <span style=\"color: #800080; text-decoration-color: #800080; font-weight: bold\">inspect</span><span style=\"font-weight: bold\">(</span>inspect<span style=\"font-weight: bold\">)</span> for options. <span style=\"color: #000080; text-decoration-color: #000080\">│</span>\n",
       "<span style=\"color: #000080; text-decoration-color: #000080\">╰──────────────────────────────────────────────────────────────╯</span>\n",
       "</pre>\n"
      ],
      "text/plain": [
       "\u001b[34m╭─\u001b[0m\u001b[34m───────────────── \u001b[0m\u001b[1;34m<\u001b[0m\u001b[1;95mbuilt-in\u001b[0m\u001b[39m function dir\u001b[0m\u001b[1;34m>\u001b[0m\u001b[34m ──────────────────\u001b[0m\u001b[34m─╮\u001b[0m\n",
       "\u001b[34m│\u001b[0m \u001b[3;96mdef \u001b[0m\u001b[1;31mdir\u001b[0m\u001b[1m(\u001b[0m\u001b[33m...\u001b[0m\u001b[1m)\u001b[0m                                                 \u001b[34m│\u001b[0m\n",
       "\u001b[34m│\u001b[0m                                                              \u001b[34m│\u001b[0m\n",
       "\u001b[34m│\u001b[0m \u001b[1;35mdir\u001b[0m\u001b[1;36m(\u001b[0m\u001b[1;36m[\u001b[0m\u001b[36mobject\u001b[0m\u001b[1;36m]\u001b[0m\u001b[1;36m)\u001b[0m\u001b[36m -> list of strings\u001b[0m                             \u001b[34m│\u001b[0m\n",
       "\u001b[34m│\u001b[0m                                                              \u001b[34m│\u001b[0m\n",
       "\u001b[34m│\u001b[0m \u001b[1;36m29\u001b[0m\u001b[3m attribute(s) not shown.\u001b[0m Run \u001b[1;35minspect\u001b[0m\u001b[1m(\u001b[0minspect\u001b[1m)\u001b[0m for options. \u001b[34m│\u001b[0m\n",
       "\u001b[34m╰──────────────────────────────────────────────────────────────╯\u001b[0m\n"
      ]
     },
     "metadata": {},
     "output_type": "display_data"
    },
    {
     "name": "stdout",
     "output_type": "stream",
     "text": [
      "\u001b[33minspect:0143  🤔| Inspecting: (<class 'int'>,) \u001b[0m\n"
     ]
    },
    {
     "data": {
      "text/html": [
       "<pre style=\"white-space:pre;overflow-x:auto;line-height:normal;font-family:Menlo,'DejaVu Sans Mono',consolas,'Courier New',monospace\"><span style=\"color: #000080; text-decoration-color: #000080\">╭───────────────────── </span><span style=\"color: #000080; text-decoration-color: #000080; font-weight: bold\">&lt;</span><span style=\"color: #ff00ff; text-decoration-color: #ff00ff; font-weight: bold\">class</span><span style=\"color: #000000; text-decoration-color: #000000\"> </span><span style=\"color: #008000; text-decoration-color: #008000\">'int'</span><span style=\"color: #000080; text-decoration-color: #000080; font-weight: bold\">&gt;</span><span style=\"color: #000080; text-decoration-color: #000080\"> ──────────────────────╮</span>\n",
       "<span style=\"color: #000080; text-decoration-color: #000080\">│</span> <span style=\"color: #00ffff; text-decoration-color: #00ffff; font-style: italic\">class </span><span style=\"color: #800000; text-decoration-color: #800000; font-weight: bold\">int</span><span style=\"font-weight: bold\">(</span><span style=\"color: #808000; text-decoration-color: #808000\">...</span><span style=\"font-weight: bold\">)</span>                                           <span style=\"color: #000080; text-decoration-color: #000080\">│</span>\n",
       "<span style=\"color: #000080; text-decoration-color: #000080\">│</span>                                                          <span style=\"color: #000080; text-decoration-color: #000080\">│</span>\n",
       "<span style=\"color: #000080; text-decoration-color: #000080\">│</span> <span style=\"color: #800080; text-decoration-color: #800080; font-weight: bold\">int</span><span style=\"color: #008080; text-decoration-color: #008080; font-weight: bold\">([</span><span style=\"color: #008080; text-decoration-color: #008080\">x</span><span style=\"color: #008080; text-decoration-color: #008080; font-weight: bold\">])</span><span style=\"color: #008080; text-decoration-color: #008080\"> -&gt; integer</span>                                      <span style=\"color: #000080; text-decoration-color: #000080\">│</span>\n",
       "<span style=\"color: #000080; text-decoration-color: #000080\">│</span> <span style=\"color: #800080; text-decoration-color: #800080; font-weight: bold\">int</span><span style=\"color: #008080; text-decoration-color: #008080; font-weight: bold\">(</span><span style=\"color: #008080; text-decoration-color: #008080\">x, </span><span style=\"color: #808000; text-decoration-color: #808000\">base</span><span style=\"color: #008080; text-decoration-color: #008080\">=</span><span style=\"color: #008080; text-decoration-color: #008080; font-weight: bold\">10</span><span style=\"color: #008080; text-decoration-color: #008080; font-weight: bold\">)</span><span style=\"color: #008080; text-decoration-color: #008080\"> -&gt; integer</span>                               <span style=\"color: #000080; text-decoration-color: #000080\">│</span>\n",
       "<span style=\"color: #000080; text-decoration-color: #000080\">│</span>                                                          <span style=\"color: #000080; text-decoration-color: #000080\">│</span>\n",
       "<span style=\"color: #000080; text-decoration-color: #000080\">│</span> <span style=\"color: #808000; text-decoration-color: #808000; font-style: italic\">denominator</span> = <span style=\"font-weight: bold\">&lt;</span><span style=\"color: #ff00ff; text-decoration-color: #ff00ff; font-weight: bold\">attribute</span><span style=\"color: #000000; text-decoration-color: #000000\"> </span><span style=\"color: #008000; text-decoration-color: #008000\">'denominator'</span><span style=\"color: #000000; text-decoration-color: #000000\"> of </span><span style=\"color: #008000; text-decoration-color: #008000\">'int'</span><span style=\"color: #000000; text-decoration-color: #000000\"> objects</span><span style=\"font-weight: bold\">&gt;</span> <span style=\"color: #000080; text-decoration-color: #000080\">│</span>\n",
       "<span style=\"color: #000080; text-decoration-color: #000080\">│</span>        <span style=\"color: #808000; text-decoration-color: #808000; font-style: italic\">imag</span> = <span style=\"font-weight: bold\">&lt;</span><span style=\"color: #ff00ff; text-decoration-color: #ff00ff; font-weight: bold\">attribute</span><span style=\"color: #000000; text-decoration-color: #000000\"> </span><span style=\"color: #008000; text-decoration-color: #008000\">'imag'</span><span style=\"color: #000000; text-decoration-color: #000000\"> of </span><span style=\"color: #008000; text-decoration-color: #008000\">'int'</span><span style=\"color: #000000; text-decoration-color: #000000\"> objects</span><span style=\"font-weight: bold\">&gt;</span>        <span style=\"color: #000080; text-decoration-color: #000080\">│</span>\n",
       "<span style=\"color: #000080; text-decoration-color: #000080\">│</span>   <span style=\"color: #808000; text-decoration-color: #808000; font-style: italic\">numerator</span> = <span style=\"font-weight: bold\">&lt;</span><span style=\"color: #ff00ff; text-decoration-color: #ff00ff; font-weight: bold\">attribute</span><span style=\"color: #000000; text-decoration-color: #000000\"> </span><span style=\"color: #008000; text-decoration-color: #008000\">'numerator'</span><span style=\"color: #000000; text-decoration-color: #000000\"> of </span><span style=\"color: #008000; text-decoration-color: #008000\">'int'</span><span style=\"color: #000000; text-decoration-color: #000000\"> objects</span><span style=\"font-weight: bold\">&gt;</span>   <span style=\"color: #000080; text-decoration-color: #000080\">│</span>\n",
       "<span style=\"color: #000080; text-decoration-color: #000080\">│</span>        <span style=\"color: #808000; text-decoration-color: #808000; font-style: italic\">real</span> = <span style=\"font-weight: bold\">&lt;</span><span style=\"color: #ff00ff; text-decoration-color: #ff00ff; font-weight: bold\">attribute</span><span style=\"color: #000000; text-decoration-color: #000000\"> </span><span style=\"color: #008000; text-decoration-color: #008000\">'real'</span><span style=\"color: #000000; text-decoration-color: #000000\"> of </span><span style=\"color: #008000; text-decoration-color: #008000\">'int'</span><span style=\"color: #000000; text-decoration-color: #000000\"> objects</span><span style=\"font-weight: bold\">&gt;</span>        <span style=\"color: #000080; text-decoration-color: #000080\">│</span>\n",
       "<span style=\"color: #000080; text-decoration-color: #000080\">╰──────────────────────────────────────────────────────────╯</span>\n",
       "</pre>\n"
      ],
      "text/plain": [
       "\u001b[34m╭─\u001b[0m\u001b[34m──────────────────── \u001b[0m\u001b[1;34m<\u001b[0m\u001b[1;95mclass\u001b[0m\u001b[39m \u001b[0m\u001b[32m'int'\u001b[0m\u001b[1;34m>\u001b[0m\u001b[34m ─────────────────────\u001b[0m\u001b[34m─╮\u001b[0m\n",
       "\u001b[34m│\u001b[0m \u001b[3;96mclass \u001b[0m\u001b[1;31mint\u001b[0m\u001b[1m(\u001b[0m\u001b[33m...\u001b[0m\u001b[1m)\u001b[0m                                           \u001b[34m│\u001b[0m\n",
       "\u001b[34m│\u001b[0m                                                          \u001b[34m│\u001b[0m\n",
       "\u001b[34m│\u001b[0m \u001b[1;35mint\u001b[0m\u001b[1;36m(\u001b[0m\u001b[1;36m[\u001b[0m\u001b[36mx\u001b[0m\u001b[1;36m]\u001b[0m\u001b[1;36m)\u001b[0m\u001b[36m -> integer\u001b[0m                                      \u001b[34m│\u001b[0m\n",
       "\u001b[34m│\u001b[0m \u001b[1;35mint\u001b[0m\u001b[1;36m(\u001b[0m\u001b[36mx, \u001b[0m\u001b[33mbase\u001b[0m\u001b[36m=\u001b[0m\u001b[1;36m10\u001b[0m\u001b[1;36m)\u001b[0m\u001b[36m -> integer\u001b[0m                               \u001b[34m│\u001b[0m\n",
       "\u001b[34m│\u001b[0m                                                          \u001b[34m│\u001b[0m\n",
       "\u001b[34m│\u001b[0m \u001b[3;33mdenominator\u001b[0m = \u001b[1m<\u001b[0m\u001b[1;95mattribute\u001b[0m\u001b[39m \u001b[0m\u001b[32m'denominator'\u001b[0m\u001b[39m of \u001b[0m\u001b[32m'int'\u001b[0m\u001b[39m objects\u001b[0m\u001b[1m>\u001b[0m \u001b[34m│\u001b[0m\n",
       "\u001b[34m│\u001b[0m        \u001b[3;33mimag\u001b[0m = \u001b[1m<\u001b[0m\u001b[1;95mattribute\u001b[0m\u001b[39m \u001b[0m\u001b[32m'imag'\u001b[0m\u001b[39m of \u001b[0m\u001b[32m'int'\u001b[0m\u001b[39m objects\u001b[0m\u001b[1m>\u001b[0m        \u001b[34m│\u001b[0m\n",
       "\u001b[34m│\u001b[0m   \u001b[3;33mnumerator\u001b[0m = \u001b[1m<\u001b[0m\u001b[1;95mattribute\u001b[0m\u001b[39m \u001b[0m\u001b[32m'numerator'\u001b[0m\u001b[39m of \u001b[0m\u001b[32m'int'\u001b[0m\u001b[39m objects\u001b[0m\u001b[1m>\u001b[0m   \u001b[34m│\u001b[0m\n",
       "\u001b[34m│\u001b[0m        \u001b[3;33mreal\u001b[0m = \u001b[1m<\u001b[0m\u001b[1;95mattribute\u001b[0m\u001b[39m \u001b[0m\u001b[32m'real'\u001b[0m\u001b[39m of \u001b[0m\u001b[32m'int'\u001b[0m\u001b[39m objects\u001b[0m\u001b[1m>\u001b[0m        \u001b[34m│\u001b[0m\n",
       "\u001b[34m╰──────────────────────────────────────────────────────────╯\u001b[0m\n"
      ]
     },
     "metadata": {},
     "output_type": "display_data"
    },
    {
     "data": {
      "text/html": [
       "<pre style=\"white-space:pre;overflow-x:auto;line-height:normal;font-family:Menlo,'DejaVu Sans Mono',consolas,'Courier New',monospace\"><span style=\"color: #000080; text-decoration-color: #000080\">╭───────────────────────────────────── </span><span style=\"color: #000080; text-decoration-color: #000080; font-weight: bold\">&lt;</span><span style=\"color: #ff00ff; text-decoration-color: #ff00ff; font-weight: bold\">function</span><span style=\"color: #000000; text-decoration-color: #000000\"> inspect at </span><span style=\"color: #008080; text-decoration-color: #008080; font-weight: bold\">0x7f97e0579670</span><span style=\"color: #000080; text-decoration-color: #000080; font-weight: bold\">&gt;</span><span style=\"color: #000080; text-decoration-color: #000080\"> ──────────────────────────────────────╮</span>\n",
       "<span style=\"color: #000080; text-decoration-color: #000080\">│</span> <span style=\"color: #00ffff; text-decoration-color: #00ffff; font-style: italic\">def </span><span style=\"color: #800000; text-decoration-color: #800000; font-weight: bold\">inspect</span><span style=\"font-weight: bold\">(</span>obj: Any, *, console: Union<span style=\"font-weight: bold\">[</span><span style=\"color: #800080; text-decoration-color: #800080; font-weight: bold\">ForwardRef</span><span style=\"font-weight: bold\">(</span><span style=\"color: #008000; text-decoration-color: #008000\">'Console'</span><span style=\"font-weight: bold\">)</span>, NoneType<span style=\"font-weight: bold\">]</span> = <span style=\"color: #800080; text-decoration-color: #800080; font-style: italic\">None</span>, title: Union<span style=\"font-weight: bold\">[</span>str, NoneType<span style=\"font-weight: bold\">]</span> =  <span style=\"color: #000080; text-decoration-color: #000080\">│</span>\n",
       "<span style=\"color: #000080; text-decoration-color: #000080\">│</span> <span style=\"color: #800080; text-decoration-color: #800080; font-style: italic\">None</span>, help: bool = <span style=\"color: #ff0000; text-decoration-color: #ff0000; font-style: italic\">False</span>, methods: bool = <span style=\"color: #ff0000; text-decoration-color: #ff0000; font-style: italic\">False</span>, docs: bool = <span style=\"color: #00ff00; text-decoration-color: #00ff00; font-style: italic\">True</span>, private: bool = <span style=\"color: #ff0000; text-decoration-color: #ff0000; font-style: italic\">False</span>, dunder: bool =       <span style=\"color: #000080; text-decoration-color: #000080\">│</span>\n",
       "<span style=\"color: #000080; text-decoration-color: #000080\">│</span> <span style=\"color: #ff0000; text-decoration-color: #ff0000; font-style: italic\">False</span>, sort: bool = <span style=\"color: #00ff00; text-decoration-color: #00ff00; font-style: italic\">True</span>, all: bool = <span style=\"color: #ff0000; text-decoration-color: #ff0000; font-style: italic\">False</span>, value: bool = <span style=\"color: #00ff00; text-decoration-color: #00ff00; font-style: italic\">True</span><span style=\"font-weight: bold\">)</span> -&gt; <span style=\"color: #800080; text-decoration-color: #800080; font-style: italic\">None</span>:                                       <span style=\"color: #000080; text-decoration-color: #000080\">│</span>\n",
       "<span style=\"color: #000080; text-decoration-color: #000080\">│</span>                                                                                                                 <span style=\"color: #000080; text-decoration-color: #000080\">│</span>\n",
       "<span style=\"color: #000080; text-decoration-color: #000080\">│</span> <span style=\"color: #008080; text-decoration-color: #008080\">Inspect any Python object.</span>                                                                                      <span style=\"color: #000080; text-decoration-color: #000080\">│</span>\n",
       "<span style=\"color: #000080; text-decoration-color: #000080\">│</span>                                                                                                                 <span style=\"color: #000080; text-decoration-color: #000080\">│</span>\n",
       "<span style=\"color: #000080; text-decoration-color: #000080\">│</span> <span style=\"color: #008080; text-decoration-color: #008080\">* </span><span style=\"color: #800080; text-decoration-color: #800080; font-weight: bold\">inspect</span><span style=\"color: #008080; text-decoration-color: #008080; font-weight: bold\">(&lt;</span><span style=\"color: #ff00ff; text-decoration-color: #ff00ff; font-weight: bold\">OBJECT</span><span style=\"color: #008080; text-decoration-color: #008080; font-weight: bold\">&gt;)</span><span style=\"color: #008080; text-decoration-color: #008080\"> to see summarized info.</span>                                                                     <span style=\"color: #000080; text-decoration-color: #000080\">│</span>\n",
       "<span style=\"color: #000080; text-decoration-color: #000080\">│</span> <span style=\"color: #008080; text-decoration-color: #008080\">* </span><span style=\"color: #800080; text-decoration-color: #800080; font-weight: bold\">inspect</span><span style=\"color: #008080; text-decoration-color: #008080; font-weight: bold\">(&lt;</span><span style=\"color: #ff00ff; text-decoration-color: #ff00ff; font-weight: bold\">OBJECT</span><span style=\"color: #008080; text-decoration-color: #008080; font-weight: bold\">&gt;</span><span style=\"color: #008080; text-decoration-color: #008080\">, </span><span style=\"color: #808000; text-decoration-color: #808000\">methods</span><span style=\"color: #008080; text-decoration-color: #008080\">=</span><span style=\"color: #00ff00; text-decoration-color: #00ff00; font-style: italic\">True</span><span style=\"color: #008080; text-decoration-color: #008080; font-weight: bold\">)</span><span style=\"color: #008080; text-decoration-color: #008080\"> to see methods.</span>                                                               <span style=\"color: #000080; text-decoration-color: #000080\">│</span>\n",
       "<span style=\"color: #000080; text-decoration-color: #000080\">│</span> <span style=\"color: #008080; text-decoration-color: #008080\">* </span><span style=\"color: #800080; text-decoration-color: #800080; font-weight: bold\">inspect</span><span style=\"color: #008080; text-decoration-color: #008080; font-weight: bold\">(&lt;</span><span style=\"color: #ff00ff; text-decoration-color: #ff00ff; font-weight: bold\">OBJECT</span><span style=\"color: #008080; text-decoration-color: #008080; font-weight: bold\">&gt;</span><span style=\"color: #008080; text-decoration-color: #008080\">, </span><span style=\"color: #808000; text-decoration-color: #808000\">help</span><span style=\"color: #008080; text-decoration-color: #008080\">=</span><span style=\"color: #00ff00; text-decoration-color: #00ff00; font-style: italic\">True</span><span style=\"color: #008080; text-decoration-color: #008080; font-weight: bold\">)</span><span style=\"color: #008080; text-decoration-color: #008080\"> to see full </span><span style=\"color: #008080; text-decoration-color: #008080; font-weight: bold\">(</span><span style=\"color: #008080; text-decoration-color: #008080\">non-abbreviated</span><span style=\"color: #008080; text-decoration-color: #008080; font-weight: bold\">)</span><span style=\"color: #008080; text-decoration-color: #008080\"> help.</span>                                              <span style=\"color: #000080; text-decoration-color: #000080\">│</span>\n",
       "<span style=\"color: #000080; text-decoration-color: #000080\">│</span> <span style=\"color: #008080; text-decoration-color: #008080\">* </span><span style=\"color: #800080; text-decoration-color: #800080; font-weight: bold\">inspect</span><span style=\"color: #008080; text-decoration-color: #008080; font-weight: bold\">(&lt;</span><span style=\"color: #ff00ff; text-decoration-color: #ff00ff; font-weight: bold\">OBJECT</span><span style=\"color: #008080; text-decoration-color: #008080; font-weight: bold\">&gt;</span><span style=\"color: #008080; text-decoration-color: #008080\">, </span><span style=\"color: #808000; text-decoration-color: #808000\">private</span><span style=\"color: #008080; text-decoration-color: #008080\">=</span><span style=\"color: #00ff00; text-decoration-color: #00ff00; font-style: italic\">True</span><span style=\"color: #008080; text-decoration-color: #008080; font-weight: bold\">)</span><span style=\"color: #008080; text-decoration-color: #008080\"> to see private attributes </span><span style=\"color: #008080; text-decoration-color: #008080; font-weight: bold\">(</span><span style=\"color: #008080; text-decoration-color: #008080\">single underscore</span><span style=\"color: #008080; text-decoration-color: #008080; font-weight: bold\">)</span><span style=\"color: #008080; text-decoration-color: #008080\">.</span>                                <span style=\"color: #000080; text-decoration-color: #000080\">│</span>\n",
       "<span style=\"color: #000080; text-decoration-color: #000080\">│</span> <span style=\"color: #008080; text-decoration-color: #008080\">* </span><span style=\"color: #800080; text-decoration-color: #800080; font-weight: bold\">inspect</span><span style=\"color: #008080; text-decoration-color: #008080; font-weight: bold\">(&lt;</span><span style=\"color: #ff00ff; text-decoration-color: #ff00ff; font-weight: bold\">OBJECT</span><span style=\"color: #008080; text-decoration-color: #008080; font-weight: bold\">&gt;</span><span style=\"color: #008080; text-decoration-color: #008080\">, </span><span style=\"color: #808000; text-decoration-color: #808000\">dunder</span><span style=\"color: #008080; text-decoration-color: #008080\">=</span><span style=\"color: #00ff00; text-decoration-color: #00ff00; font-style: italic\">True</span><span style=\"color: #008080; text-decoration-color: #008080; font-weight: bold\">)</span><span style=\"color: #008080; text-decoration-color: #008080\"> to see attributes beginning with double underscore.</span>                            <span style=\"color: #000080; text-decoration-color: #000080\">│</span>\n",
       "<span style=\"color: #000080; text-decoration-color: #000080\">│</span> <span style=\"color: #008080; text-decoration-color: #008080\">* </span><span style=\"color: #800080; text-decoration-color: #800080; font-weight: bold\">inspect</span><span style=\"color: #008080; text-decoration-color: #008080; font-weight: bold\">(&lt;</span><span style=\"color: #ff00ff; text-decoration-color: #ff00ff; font-weight: bold\">OBJECT</span><span style=\"color: #008080; text-decoration-color: #008080; font-weight: bold\">&gt;</span><span style=\"color: #008080; text-decoration-color: #008080\">, </span><span style=\"color: #808000; text-decoration-color: #808000\">all</span><span style=\"color: #008080; text-decoration-color: #008080\">=</span><span style=\"color: #00ff00; text-decoration-color: #00ff00; font-style: italic\">True</span><span style=\"color: #008080; text-decoration-color: #008080; font-weight: bold\">)</span><span style=\"color: #008080; text-decoration-color: #008080\"> to see all attributes.</span>                                                            <span style=\"color: #000080; text-decoration-color: #000080\">│</span>\n",
       "<span style=\"color: #000080; text-decoration-color: #000080\">│</span>                                                                                                                 <span style=\"color: #000080; text-decoration-color: #000080\">│</span>\n",
       "<span style=\"color: #000080; text-decoration-color: #000080\">│</span> <span style=\"color: #008080; text-decoration-color: #008080\">Args:</span>                                                                                                           <span style=\"color: #000080; text-decoration-color: #000080\">│</span>\n",
       "<span style=\"color: #000080; text-decoration-color: #000080\">│</span> <span style=\"color: #008080; text-decoration-color: #008080\">    obj </span><span style=\"color: #008080; text-decoration-color: #008080; font-weight: bold\">(</span><span style=\"color: #008080; text-decoration-color: #008080\">Any</span><span style=\"color: #008080; text-decoration-color: #008080; font-weight: bold\">)</span><span style=\"color: #008080; text-decoration-color: #008080\">: An object to inspect.</span>                                                                            <span style=\"color: #000080; text-decoration-color: #000080\">│</span>\n",
       "<span style=\"color: #000080; text-decoration-color: #000080\">│</span> <span style=\"color: #008080; text-decoration-color: #008080\">    title </span><span style=\"color: #008080; text-decoration-color: #008080; font-weight: bold\">(</span><span style=\"color: #008080; text-decoration-color: #008080\">str, optional</span><span style=\"color: #008080; text-decoration-color: #008080; font-weight: bold\">)</span><span style=\"color: #008080; text-decoration-color: #008080\">: Title to display over inspect result, or </span><span style=\"color: #800080; text-decoration-color: #800080; font-style: italic\">None</span><span style=\"color: #008080; text-decoration-color: #008080\"> use type. Defaults to </span><span style=\"color: #800080; text-decoration-color: #800080; font-style: italic\">None</span><span style=\"color: #008080; text-decoration-color: #008080\">.</span>            <span style=\"color: #000080; text-decoration-color: #000080\">│</span>\n",
       "<span style=\"color: #000080; text-decoration-color: #000080\">│</span> <span style=\"color: #008080; text-decoration-color: #008080\">    help </span><span style=\"color: #008080; text-decoration-color: #008080; font-weight: bold\">(</span><span style=\"color: #008080; text-decoration-color: #008080\">bool, optional</span><span style=\"color: #008080; text-decoration-color: #008080; font-weight: bold\">)</span><span style=\"color: #008080; text-decoration-color: #008080\">: Show full help text rather than just first paragraph. Defaults to </span><span style=\"color: #ff0000; text-decoration-color: #ff0000; font-style: italic\">False</span><span style=\"color: #008080; text-decoration-color: #008080\">.</span>             <span style=\"color: #000080; text-decoration-color: #000080\">│</span>\n",
       "<span style=\"color: #000080; text-decoration-color: #000080\">│</span> <span style=\"color: #008080; text-decoration-color: #008080\">    methods </span><span style=\"color: #008080; text-decoration-color: #008080; font-weight: bold\">(</span><span style=\"color: #008080; text-decoration-color: #008080\">bool, optional</span><span style=\"color: #008080; text-decoration-color: #008080; font-weight: bold\">)</span><span style=\"color: #008080; text-decoration-color: #008080\">: Enable inspection of callables. Defaults to </span><span style=\"color: #ff0000; text-decoration-color: #ff0000; font-style: italic\">False</span><span style=\"color: #008080; text-decoration-color: #008080\">.</span>                                <span style=\"color: #000080; text-decoration-color: #000080\">│</span>\n",
       "<span style=\"color: #000080; text-decoration-color: #000080\">│</span> <span style=\"color: #008080; text-decoration-color: #008080\">    docs </span><span style=\"color: #008080; text-decoration-color: #008080; font-weight: bold\">(</span><span style=\"color: #008080; text-decoration-color: #008080\">bool, optional</span><span style=\"color: #008080; text-decoration-color: #008080; font-weight: bold\">)</span><span style=\"color: #008080; text-decoration-color: #008080\">: Also render doc strings. Defaults to </span><span style=\"color: #00ff00; text-decoration-color: #00ff00; font-style: italic\">True</span><span style=\"color: #008080; text-decoration-color: #008080\">.</span>                                           <span style=\"color: #000080; text-decoration-color: #000080\">│</span>\n",
       "<span style=\"color: #000080; text-decoration-color: #000080\">│</span> <span style=\"color: #008080; text-decoration-color: #008080\">    private </span><span style=\"color: #008080; text-decoration-color: #008080; font-weight: bold\">(</span><span style=\"color: #008080; text-decoration-color: #008080\">bool, optional</span><span style=\"color: #008080; text-decoration-color: #008080; font-weight: bold\">)</span><span style=\"color: #008080; text-decoration-color: #008080\">: Show private attributes </span><span style=\"color: #008080; text-decoration-color: #008080; font-weight: bold\">(</span><span style=\"color: #008080; text-decoration-color: #008080\">beginning with underscore</span><span style=\"color: #008080; text-decoration-color: #008080; font-weight: bold\">)</span><span style=\"color: #008080; text-decoration-color: #008080\">. Defaults to </span><span style=\"color: #ff0000; text-decoration-color: #ff0000; font-style: italic\">False</span><span style=\"color: #008080; text-decoration-color: #008080\">.</span>           <span style=\"color: #000080; text-decoration-color: #000080\">│</span>\n",
       "<span style=\"color: #000080; text-decoration-color: #000080\">│</span> <span style=\"color: #008080; text-decoration-color: #008080\">    dunder </span><span style=\"color: #008080; text-decoration-color: #008080; font-weight: bold\">(</span><span style=\"color: #008080; text-decoration-color: #008080\">bool, optional</span><span style=\"color: #008080; text-decoration-color: #008080; font-weight: bold\">)</span><span style=\"color: #008080; text-decoration-color: #008080\">: Show attributes starting with double underscore. Defaults to </span><span style=\"color: #ff0000; text-decoration-color: #ff0000; font-style: italic\">False</span><span style=\"color: #008080; text-decoration-color: #008080\">.</span>                <span style=\"color: #000080; text-decoration-color: #000080\">│</span>\n",
       "<span style=\"color: #000080; text-decoration-color: #000080\">│</span> <span style=\"color: #008080; text-decoration-color: #008080\">    sort </span><span style=\"color: #008080; text-decoration-color: #008080; font-weight: bold\">(</span><span style=\"color: #008080; text-decoration-color: #008080\">bool, optional</span><span style=\"color: #008080; text-decoration-color: #008080; font-weight: bold\">)</span><span style=\"color: #008080; text-decoration-color: #008080\">: Sort attributes alphabetically. Defaults to </span><span style=\"color: #00ff00; text-decoration-color: #00ff00; font-style: italic\">True</span><span style=\"color: #008080; text-decoration-color: #008080\">.</span>                                    <span style=\"color: #000080; text-decoration-color: #000080\">│</span>\n",
       "<span style=\"color: #000080; text-decoration-color: #000080\">│</span> <span style=\"color: #008080; text-decoration-color: #008080\">    all </span><span style=\"color: #008080; text-decoration-color: #008080; font-weight: bold\">(</span><span style=\"color: #008080; text-decoration-color: #008080\">bool, optional</span><span style=\"color: #008080; text-decoration-color: #008080; font-weight: bold\">)</span><span style=\"color: #008080; text-decoration-color: #008080\">: Show all attributes. Defaults to </span><span style=\"color: #ff0000; text-decoration-color: #ff0000; font-style: italic\">False</span><span style=\"color: #008080; text-decoration-color: #008080\">.</span>                                               <span style=\"color: #000080; text-decoration-color: #000080\">│</span>\n",
       "<span style=\"color: #000080; text-decoration-color: #000080\">│</span> <span style=\"color: #008080; text-decoration-color: #008080\">    value </span><span style=\"color: #008080; text-decoration-color: #008080; font-weight: bold\">(</span><span style=\"color: #008080; text-decoration-color: #008080\">bool, optional</span><span style=\"color: #008080; text-decoration-color: #008080; font-weight: bold\">)</span><span style=\"color: #008080; text-decoration-color: #008080\">: Pretty print value. Defaults to </span><span style=\"color: #00ff00; text-decoration-color: #00ff00; font-style: italic\">True</span><span style=\"color: #008080; text-decoration-color: #008080\">.</span>                                               <span style=\"color: #000080; text-decoration-color: #000080\">│</span>\n",
       "<span style=\"color: #000080; text-decoration-color: #000080\">│</span>                                                                                                                 <span style=\"color: #000080; text-decoration-color: #000080\">│</span>\n",
       "<span style=\"color: #000080; text-decoration-color: #000080\">│</span> <span style=\"color: #008080; text-decoration-color: #008080; font-weight: bold\">35</span><span style=\"font-style: italic\"> attribute(s) not shown.</span> Run <span style=\"color: #800080; text-decoration-color: #800080; font-weight: bold\">inspect</span><span style=\"font-weight: bold\">(</span>inspect<span style=\"font-weight: bold\">)</span> for options.                                                    <span style=\"color: #000080; text-decoration-color: #000080\">│</span>\n",
       "<span style=\"color: #000080; text-decoration-color: #000080\">╰─────────────────────────────────────────────────────────────────────────────────────────────────────────────────╯</span>\n",
       "</pre>\n"
      ],
      "text/plain": [
       "\u001b[34m╭─\u001b[0m\u001b[34m──────────────────────────────────── \u001b[0m\u001b[1;34m<\u001b[0m\u001b[1;95mfunction\u001b[0m\u001b[39m inspect at \u001b[0m\u001b[1;36m0x7f97e0579670\u001b[0m\u001b[1;34m>\u001b[0m\u001b[34m ─────────────────────────────────────\u001b[0m\u001b[34m─╮\u001b[0m\n",
       "\u001b[34m│\u001b[0m \u001b[3;96mdef \u001b[0m\u001b[1;31minspect\u001b[0m\u001b[1m(\u001b[0mobj: Any, *, console: Union\u001b[1m[\u001b[0m\u001b[1;35mForwardRef\u001b[0m\u001b[1m(\u001b[0m\u001b[32m'Console'\u001b[0m\u001b[1m)\u001b[0m, NoneType\u001b[1m]\u001b[0m = \u001b[3;35mNone\u001b[0m, title: Union\u001b[1m[\u001b[0mstr, NoneType\u001b[1m]\u001b[0m =  \u001b[34m│\u001b[0m\n",
       "\u001b[34m│\u001b[0m \u001b[3;35mNone\u001b[0m, help: bool = \u001b[3;91mFalse\u001b[0m, methods: bool = \u001b[3;91mFalse\u001b[0m, docs: bool = \u001b[3;92mTrue\u001b[0m, private: bool = \u001b[3;91mFalse\u001b[0m, dunder: bool =       \u001b[34m│\u001b[0m\n",
       "\u001b[34m│\u001b[0m \u001b[3;91mFalse\u001b[0m, sort: bool = \u001b[3;92mTrue\u001b[0m, all: bool = \u001b[3;91mFalse\u001b[0m, value: bool = \u001b[3;92mTrue\u001b[0m\u001b[1m)\u001b[0m -> \u001b[3;35mNone\u001b[0m:                                       \u001b[34m│\u001b[0m\n",
       "\u001b[34m│\u001b[0m                                                                                                                 \u001b[34m│\u001b[0m\n",
       "\u001b[34m│\u001b[0m \u001b[36mInspect any Python object.\u001b[0m                                                                                      \u001b[34m│\u001b[0m\n",
       "\u001b[34m│\u001b[0m                                                                                                                 \u001b[34m│\u001b[0m\n",
       "\u001b[34m│\u001b[0m \u001b[36m* \u001b[0m\u001b[1;35minspect\u001b[0m\u001b[1;36m(\u001b[0m\u001b[1;36m<\u001b[0m\u001b[1;95mOBJECT\u001b[0m\u001b[1;36m>\u001b[0m\u001b[1;36m)\u001b[0m\u001b[36m to see summarized info.\u001b[0m                                                                     \u001b[34m│\u001b[0m\n",
       "\u001b[34m│\u001b[0m \u001b[36m* \u001b[0m\u001b[1;35minspect\u001b[0m\u001b[1;36m(\u001b[0m\u001b[1;36m<\u001b[0m\u001b[1;95mOBJECT\u001b[0m\u001b[1;36m>\u001b[0m\u001b[36m, \u001b[0m\u001b[33mmethods\u001b[0m\u001b[36m=\u001b[0m\u001b[3;92mTrue\u001b[0m\u001b[1;36m)\u001b[0m\u001b[36m to see methods.\u001b[0m                                                               \u001b[34m│\u001b[0m\n",
       "\u001b[34m│\u001b[0m \u001b[36m* \u001b[0m\u001b[1;35minspect\u001b[0m\u001b[1;36m(\u001b[0m\u001b[1;36m<\u001b[0m\u001b[1;95mOBJECT\u001b[0m\u001b[1;36m>\u001b[0m\u001b[36m, \u001b[0m\u001b[33mhelp\u001b[0m\u001b[36m=\u001b[0m\u001b[3;92mTrue\u001b[0m\u001b[1;36m)\u001b[0m\u001b[36m to see full \u001b[0m\u001b[1;36m(\u001b[0m\u001b[36mnon-abbreviated\u001b[0m\u001b[1;36m)\u001b[0m\u001b[36m help.\u001b[0m                                              \u001b[34m│\u001b[0m\n",
       "\u001b[34m│\u001b[0m \u001b[36m* \u001b[0m\u001b[1;35minspect\u001b[0m\u001b[1;36m(\u001b[0m\u001b[1;36m<\u001b[0m\u001b[1;95mOBJECT\u001b[0m\u001b[1;36m>\u001b[0m\u001b[36m, \u001b[0m\u001b[33mprivate\u001b[0m\u001b[36m=\u001b[0m\u001b[3;92mTrue\u001b[0m\u001b[1;36m)\u001b[0m\u001b[36m to see private attributes \u001b[0m\u001b[1;36m(\u001b[0m\u001b[36msingle underscore\u001b[0m\u001b[1;36m)\u001b[0m\u001b[36m.\u001b[0m                                \u001b[34m│\u001b[0m\n",
       "\u001b[34m│\u001b[0m \u001b[36m* \u001b[0m\u001b[1;35minspect\u001b[0m\u001b[1;36m(\u001b[0m\u001b[1;36m<\u001b[0m\u001b[1;95mOBJECT\u001b[0m\u001b[1;36m>\u001b[0m\u001b[36m, \u001b[0m\u001b[33mdunder\u001b[0m\u001b[36m=\u001b[0m\u001b[3;92mTrue\u001b[0m\u001b[1;36m)\u001b[0m\u001b[36m to see attributes beginning with double underscore.\u001b[0m                            \u001b[34m│\u001b[0m\n",
       "\u001b[34m│\u001b[0m \u001b[36m* \u001b[0m\u001b[1;35minspect\u001b[0m\u001b[1;36m(\u001b[0m\u001b[1;36m<\u001b[0m\u001b[1;95mOBJECT\u001b[0m\u001b[1;36m>\u001b[0m\u001b[36m, \u001b[0m\u001b[33mall\u001b[0m\u001b[36m=\u001b[0m\u001b[3;92mTrue\u001b[0m\u001b[1;36m)\u001b[0m\u001b[36m to see all attributes.\u001b[0m                                                            \u001b[34m│\u001b[0m\n",
       "\u001b[34m│\u001b[0m                                                                                                                 \u001b[34m│\u001b[0m\n",
       "\u001b[34m│\u001b[0m \u001b[36mArgs:\u001b[0m                                                                                                           \u001b[34m│\u001b[0m\n",
       "\u001b[34m│\u001b[0m \u001b[36m    obj \u001b[0m\u001b[1;36m(\u001b[0m\u001b[36mAny\u001b[0m\u001b[1;36m)\u001b[0m\u001b[36m: An object to inspect.\u001b[0m                                                                            \u001b[34m│\u001b[0m\n",
       "\u001b[34m│\u001b[0m \u001b[36m    title \u001b[0m\u001b[1;36m(\u001b[0m\u001b[36mstr, optional\u001b[0m\u001b[1;36m)\u001b[0m\u001b[36m: Title to display over inspect result, or \u001b[0m\u001b[3;35mNone\u001b[0m\u001b[36m use type. Defaults to \u001b[0m\u001b[3;35mNone\u001b[0m\u001b[36m.\u001b[0m            \u001b[34m│\u001b[0m\n",
       "\u001b[34m│\u001b[0m \u001b[36m    help \u001b[0m\u001b[1;36m(\u001b[0m\u001b[36mbool, optional\u001b[0m\u001b[1;36m)\u001b[0m\u001b[36m: Show full help text rather than just first paragraph. Defaults to \u001b[0m\u001b[3;91mFalse\u001b[0m\u001b[36m.\u001b[0m             \u001b[34m│\u001b[0m\n",
       "\u001b[34m│\u001b[0m \u001b[36m    methods \u001b[0m\u001b[1;36m(\u001b[0m\u001b[36mbool, optional\u001b[0m\u001b[1;36m)\u001b[0m\u001b[36m: Enable inspection of callables. Defaults to \u001b[0m\u001b[3;91mFalse\u001b[0m\u001b[36m.\u001b[0m                                \u001b[34m│\u001b[0m\n",
       "\u001b[34m│\u001b[0m \u001b[36m    docs \u001b[0m\u001b[1;36m(\u001b[0m\u001b[36mbool, optional\u001b[0m\u001b[1;36m)\u001b[0m\u001b[36m: Also render doc strings. Defaults to \u001b[0m\u001b[3;92mTrue\u001b[0m\u001b[36m.\u001b[0m                                           \u001b[34m│\u001b[0m\n",
       "\u001b[34m│\u001b[0m \u001b[36m    private \u001b[0m\u001b[1;36m(\u001b[0m\u001b[36mbool, optional\u001b[0m\u001b[1;36m)\u001b[0m\u001b[36m: Show private attributes \u001b[0m\u001b[1;36m(\u001b[0m\u001b[36mbeginning with underscore\u001b[0m\u001b[1;36m)\u001b[0m\u001b[36m. Defaults to \u001b[0m\u001b[3;91mFalse\u001b[0m\u001b[36m.\u001b[0m           \u001b[34m│\u001b[0m\n",
       "\u001b[34m│\u001b[0m \u001b[36m    dunder \u001b[0m\u001b[1;36m(\u001b[0m\u001b[36mbool, optional\u001b[0m\u001b[1;36m)\u001b[0m\u001b[36m: Show attributes starting with double underscore. Defaults to \u001b[0m\u001b[3;91mFalse\u001b[0m\u001b[36m.\u001b[0m                \u001b[34m│\u001b[0m\n",
       "\u001b[34m│\u001b[0m \u001b[36m    sort \u001b[0m\u001b[1;36m(\u001b[0m\u001b[36mbool, optional\u001b[0m\u001b[1;36m)\u001b[0m\u001b[36m: Sort attributes alphabetically. Defaults to \u001b[0m\u001b[3;92mTrue\u001b[0m\u001b[36m.\u001b[0m                                    \u001b[34m│\u001b[0m\n",
       "\u001b[34m│\u001b[0m \u001b[36m    all \u001b[0m\u001b[1;36m(\u001b[0m\u001b[36mbool, optional\u001b[0m\u001b[1;36m)\u001b[0m\u001b[36m: Show all attributes. Defaults to \u001b[0m\u001b[3;91mFalse\u001b[0m\u001b[36m.\u001b[0m                                               \u001b[34m│\u001b[0m\n",
       "\u001b[34m│\u001b[0m \u001b[36m    value \u001b[0m\u001b[1;36m(\u001b[0m\u001b[36mbool, optional\u001b[0m\u001b[1;36m)\u001b[0m\u001b[36m: Pretty print value. Defaults to \u001b[0m\u001b[3;92mTrue\u001b[0m\u001b[36m.\u001b[0m                                               \u001b[34m│\u001b[0m\n",
       "\u001b[34m│\u001b[0m                                                                                                                 \u001b[34m│\u001b[0m\n",
       "\u001b[34m│\u001b[0m \u001b[1;36m35\u001b[0m\u001b[3m attribute(s) not shown.\u001b[0m Run \u001b[1;35minspect\u001b[0m\u001b[1m(\u001b[0minspect\u001b[1m)\u001b[0m for options.                                                    \u001b[34m│\u001b[0m\n",
       "\u001b[34m╰─────────────────────────────────────────────────────────────────────────────────────────────────────────────────╯\u001b[0m\n"
      ]
     },
     "metadata": {},
     "output_type": "display_data"
    }
   ],
   "source": [
    "from soccertrack.logging import inspect\n",
    "\n",
    "set_log_level('INFO') \n",
    "inspect(dir, level=\"DEBUG\")\n",
    "inspect(dir, level=\"INFO\")\n",
    "inspect(int, level=\"WARNING\")\n",
    "inspect(inspect, level=\"ERROR\")"
   ]
  }
 ],
 "metadata": {
  "kernelspec": {
   "display_name": "Python 3.8.12 ('soccertrack')",
   "language": "python",
   "name": "python3"
  },
  "language_info": {
   "codemirror_mode": {
    "name": "ipython",
    "version": 3
   },
   "file_extension": ".py",
   "mimetype": "text/x-python",
   "name": "python",
   "nbconvert_exporter": "python",
   "pygments_lexer": "ipython3",
   "version": "3.8.12"
  },
  "orig_nbformat": 4,
  "vscode": {
   "interpreter": {
    "hash": "86fd77fde5270c410244ce73bc0b68c8749dec758c13de6d70fa5ce033ba65ff"
   }
  }
 },
 "nbformat": 4,
 "nbformat_minor": 2
}
