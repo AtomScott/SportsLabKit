{
 "cells": [
  {
   "attachments": {},
   "cell_type": "markdown",
   "metadata": {},
   "source": [
    "# Installation\n",
    "\n",
    "[![Open In Colab](https://colab.research.google.com/assets/colab-badge.svg)](https://github.com/AtomScott/SportsLabKit/blob/develop/notebooks/01_get_started/installation.ipynb)\n",
    "\n",
    "\n",
    "## Install with pip \n",
    "\n",
    "```bash\n",
    "pip install sportslabkit\n",
    "```\n",
    "\n",
    "If you encounter any problems, please [open an issue](https://github.com/AtomScott/SportsLabKit/issues/new/choose)!"
   ]
  },
  {
   "attachments": {},
   "cell_type": "markdown",
   "metadata": {},
   "source": [
    "## Install from development branch\n",
    "\n",
    "To get the latest features from the development branch:\n",
    "\n",
    "```bash\n",
    "pip install git+https://github.com/atomscott/sportslabkit.git@develop#egg=sportslabkit\n",
    "```"
   ]
  },
  {
   "cell_type": "markdown",
   "metadata": {},
   "source": [
    "## Install with conda and poetry\n",
    "\n",
    "For development, we use a conda environment coupled with Poetry. Here's how to set it up:\n",
    "\n",
    "1. Create a conda environment:\n",
    "\n",
    "    ```bash\n",
    "    conda env create --file dev_environment.yaml --name sportslabkit_dev_env\n",
    "    ```\n",
    "\n",
    "2. Activate the environment and install dependencies:\n",
    "\n",
    "    ```bash\n",
    "    conda activate sportslabkit_dev_env\n",
    "    poetry install\n",
    "    ```"
   ]
  },
  {
   "attachments": {},
   "cell_type": "markdown",
   "metadata": {},
   "source": [
    "### Using Make Commands\n",
    "\n",
    "If you want to go beyond basic installation and run specific tasks like linting or testing, you can use the `Makefile` commands. Navigate to the project directory in your terminal and run the desired `make` command. For example:\n",
    "\n",
    "- To clean compiled Python files:\n",
    "\n",
    "    ```bash\n",
    "    make clean\n",
    "    ```\n",
    "\n",
    "- To run lint checks:\n",
    "\n",
    "    ```bash\n",
    "    make lint\n",
    "    ```\n",
    "\n",
    "- To run tests:\n",
    "\n",
    "    ```bash\n",
    "    make tests\n",
    "    ```\n",
    "\n",
    "Refer to the `Makefile` for a full list of available commands."
   ]
  }
 ],
 "metadata": {
  "language_info": {
   "name": "python"
  },
  "orig_nbformat": 4
 },
 "nbformat": 4,
 "nbformat_minor": 2
}
