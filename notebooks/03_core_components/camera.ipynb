{
 "cells": [
  {
   "cell_type": "markdown",
   "metadata": {},
   "source": [
    "# Camera\n",
    "\n",
    "[![Open In Colab](https://colab.research.google.com/assets/colab-badge.svg)](ここに以下の書式でURLを入れる) \n",
    "[![github](https://badgen.net/badge/:status/View%20On%20Github/black?icon=github&label)](https://github.com/AtomScott/SoccerTrack)\n",
    "[![badge](https://img.shields.io/badge/launch-binder-579ACA.svg?logo=data:image/png;base64,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)](https://)\n",
    "\n",
    "---\n",
    "\n",
    "SoccerTrack is designed to use either a single camera or multiple cameras. In this example we will use a two camera setup. "
   ]
  },
  {
   "cell_type": "markdown",
   "metadata": {},
   "source": [
    "> Warning: This notebook is still a work in progress. It is not yet complete."
   ]
  },
  {
   "cell_type": "markdown",
   "metadata": {},
   "source": [
    "## Camera setup"
   ]
  },
  {
   "cell_type": "markdown",
   "metadata": {},
   "source": [
    "\n",
    "For each camera the following information is required in the yaml file:\n",
    "\n",
    "* `label` - a unique label for the camera. Either `Left` or `Right` is used in this example.\n",
    "* `video_path` - The path to the video file.\n",
    "* `keypoint_xml` - The path to the xml file containing the keypoints.\n",
    "* `calibration_video_path` - The path to the video file used for calibration.\n",
    "* `x_range` - The x range of the camera.\n",
    "* `y_range` - The y range of the camera.\n",
    "* `camera_matrix` - The camera matrix of the camera.\n",
    "* `camera_matrix_path` - The path to the camera matrix file.\n",
    "* `distortion_coefficients` - The distortion coefficients of the camera.\n",
    "* `distortion_coefficients_path` - The path to the distortion coefficients file.\n",
    "\n",
    "\n",
    "Note that usually a multicamera setup can be used to drastically improve the performance of the tracking by methods such as triangulation. However, this is not implemented yet."
   ]
  },
  {
   "cell_type": "markdown",
   "metadata": {},
   "source": [
    "### Defining the camera ranges"
   ]
  },
  {
   "cell_type": "markdown",
   "metadata": {},
   "source": [
    "First, the range that each camera is resposible for handling detections for is defined. This is done by defining the x and y ranges in the yaml file.\n",
    "\n",
    "![](./assets/cam_area.png)\n",
    "\n",
    "In the example above, the `Blue Cam` is responsible for the x range from 0~52.5 and the `Red Cam` is responsible for the x range from 52.5~105. The y range is defined as the same, 0~68, for both cameras.\n",
    "\n",
    "In the yaml file this will be defined as:\n",
    "\n",
    "```yaml\n",
    "- label: Blue Cam\n",
    "  x_range:\n",
    "  - 0\n",
    "  - 52.5\n",
    "  y_range:\n",
    "  - 0\n",
    "  - 68\n",
    "\n",
    "- label: Red Cam\n",
    "  x_range:\n",
    "  - 52.5\n",
    "  - 105\n",
    "  y_range:\n",
    "  - 0\n",
    "  - 68\n",
    "\n",
    "```\n",
    "Although not at all perfect, this setup allows the number of cameras to be increased to multiple cameras or decresed to one wide angle camera."
   ]
  },
  {
   "cell_type": "code",
   "execution_count": 6,
   "metadata": {},
   "outputs": [
    {
     "name": "stdout",
     "output_type": "stream",
     "text": [
      "\u001b[36minspect:0137  💬| Inspecting: ({'cameras': [{'label': 'left', 'video_path': '../../data/raw/left_camera.mp4', 'keypoint_xml': '../../data/raw/left_keypoints.xml', 'calibration_video_path': '../../data/raw/left_checkerboard_images/', 'x_range': [0, 52.5], 'y_range': [0, 68], 'camera_matrix': None, 'camera_matrix_path': None, 'distortion_coefficients': None, 'distortion_coefficients_path': None}, {'label': 'right', 'video_path': '../../data/raw/right_camera.mp4', 'keypoint_xml': '../../data/raw/right_keypoints.xml', 'calibration_video_path': '../../data/raw/right_checkerboard_images/', 'x_range': [52.5, 105], 'y_range': [0, 68], 'camera_matrix': None, 'camera_matrix_path': None, 'distortion_coefficients': None, 'distortion_coefficients_path': None}], 'detection': {'model_name': 'yolov5x', 'size': 3000, 'batch_size': 1, 'filter_range': True}, 'outdir': '../../data/processed/'},) \u001b[0m\n"
     ]
    },
    {
     "data": {
      "text/html": [
       "<pre style=\"white-space:pre;overflow-x:auto;line-height:normal;font-family:Menlo,'DejaVu Sans Mono',consolas,'Courier New',monospace\"><span style=\"color: #000080; text-decoration-color: #000080\">╭─────────────────────────────────── </span><span style=\"color: #000080; text-decoration-color: #000080; font-weight: bold\">&lt;</span><span style=\"color: #ff00ff; text-decoration-color: #ff00ff; font-weight: bold\">class</span><span style=\"color: #000000; text-decoration-color: #000000\"> </span><span style=\"color: #008000; text-decoration-color: #008000\">'omegaconf.dictconfig.DictConfig'</span><span style=\"color: #000080; text-decoration-color: #000080; font-weight: bold\">&gt;</span><span style=\"color: #000080; text-decoration-color: #000080\"> ───────────────────────────────────╮</span>\n",
       "<span style=\"color: #000080; text-decoration-color: #000080\">│</span> <span style=\"color: #008000; text-decoration-color: #008000\">╭─────────────────────────────────────────────────────────────────────────────────────────────────────────────╮</span> <span style=\"color: #000080; text-decoration-color: #000080\">│</span>\n",
       "<span style=\"color: #000080; text-decoration-color: #000080\">│</span> <span style=\"color: #008000; text-decoration-color: #008000\">│</span> <span style=\"font-weight: bold\">{</span><span style=\"color: #008000; text-decoration-color: #008000\">'cameras'</span>: <span style=\"font-weight: bold\">[{</span><span style=\"color: #008000; text-decoration-color: #008000\">'label'</span>: <span style=\"color: #008000; text-decoration-color: #008000\">'left'</span>, <span style=\"color: #008000; text-decoration-color: #008000\">'video_path'</span>: <span style=\"color: #008000; text-decoration-color: #008000\">'../../data/raw/left_camera.mp4'</span>, <span style=\"color: #008000; text-decoration-color: #008000\">'keypoint_xml'</span>:              <span style=\"color: #008000; text-decoration-color: #008000\">│</span> <span style=\"color: #000080; text-decoration-color: #000080\">│</span>\n",
       "<span style=\"color: #000080; text-decoration-color: #000080\">│</span> <span style=\"color: #008000; text-decoration-color: #008000\">│</span> <span style=\"color: #008000; text-decoration-color: #008000\">'../../data/raw/left_keypoints.xml'</span>, <span style=\"color: #008000; text-decoration-color: #008000\">'calibration_video_path'</span>: <span style=\"color: #008000; text-decoration-color: #008000\">'../../data/raw/left_checkerboard_images/'</span>,  <span style=\"color: #008000; text-decoration-color: #008000\">│</span> <span style=\"color: #000080; text-decoration-color: #000080\">│</span>\n",
       "<span style=\"color: #000080; text-decoration-color: #000080\">│</span> <span style=\"color: #008000; text-decoration-color: #008000\">│</span> <span style=\"color: #008000; text-decoration-color: #008000\">'x_range'</span>: <span style=\"font-weight: bold\">[</span><span style=\"color: #008080; text-decoration-color: #008080; font-weight: bold\">0</span>, <span style=\"color: #008080; text-decoration-color: #008080; font-weight: bold\">52.5</span><span style=\"font-weight: bold\">]</span>, <span style=\"color: #008000; text-decoration-color: #008000\">'y_range'</span>: <span style=\"font-weight: bold\">[</span><span style=\"color: #008080; text-decoration-color: #008080; font-weight: bold\">0</span>, <span style=\"color: #008080; text-decoration-color: #008080; font-weight: bold\">68</span><span style=\"font-weight: bold\">]</span>, <span style=\"color: #008000; text-decoration-color: #008000\">'camera_matrix'</span>: <span style=\"color: #800080; text-decoration-color: #800080; font-style: italic\">None</span>, <span style=\"color: #008000; text-decoration-color: #008000\">'camera_matrix_path'</span>: <span style=\"color: #800080; text-decoration-color: #800080; font-style: italic\">None</span>,                <span style=\"color: #008000; text-decoration-color: #008000\">│</span> <span style=\"color: #000080; text-decoration-color: #000080\">│</span>\n",
       "<span style=\"color: #000080; text-decoration-color: #000080\">│</span> <span style=\"color: #008000; text-decoration-color: #008000\">│</span> <span style=\"color: #008000; text-decoration-color: #008000\">'distortion_coefficients'</span>: <span style=\"color: #800080; text-decoration-color: #800080; font-style: italic\">None</span>, <span style=\"color: #008000; text-decoration-color: #008000\">'distortion_coefficients_path'</span>: <span style=\"color: #800080; text-decoration-color: #800080; font-style: italic\">None</span><span style=\"font-weight: bold\">}</span>, <span style=\"font-weight: bold\">{</span><span style=\"color: #008000; text-decoration-color: #008000\">'label'</span>: <span style=\"color: #008000; text-decoration-color: #008000\">'right'</span>, <span style=\"color: #008000; text-decoration-color: #008000\">'video_path'</span>:    <span style=\"color: #008000; text-decoration-color: #008000\">│</span> <span style=\"color: #000080; text-decoration-color: #000080\">│</span>\n",
       "<span style=\"color: #000080; text-decoration-color: #000080\">│</span> <span style=\"color: #008000; text-decoration-color: #008000\">│</span> <span style=\"color: #008000; text-decoration-color: #008000\">'../../data/raw/right_camera.mp4'</span>, <span style=\"color: #008000; text-decoration-color: #008000\">'keypoint_xml'</span>: <span style=\"color: #008000; text-decoration-color: #008000\">'../../data/raw/right_keypoints.xml'</span>,                    <span style=\"color: #008000; text-decoration-color: #008000\">│</span> <span style=\"color: #000080; text-decoration-color: #000080\">│</span>\n",
       "<span style=\"color: #000080; text-decoration-color: #000080\">│</span> <span style=\"color: #008000; text-decoration-color: #008000\">│</span> <span style=\"color: #008000; text-decoration-color: #008000\">'calibration_video_path'</span>: <span style=\"color: #008000; text-decoration-color: #008000\">'../../data/raw/right_checkerboard_images/'</span>, <span style=\"color: #008000; text-decoration-color: #008000\">'x_range'</span>: <span style=\"font-weight: bold\">[</span><span style=\"color: #008080; text-decoration-color: #008080; font-weight: bold\">52.5</span>, <span style=\"color: #008080; text-decoration-color: #008080; font-weight: bold\">105</span><span style=\"font-weight: bold\">]</span>, <span style=\"color: #008000; text-decoration-color: #008000\">'y_range'</span>:   <span style=\"color: #008000; text-decoration-color: #008000\">│</span> <span style=\"color: #000080; text-decoration-color: #000080\">│</span>\n",
       "<span style=\"color: #000080; text-decoration-color: #000080\">│</span> <span style=\"color: #008000; text-decoration-color: #008000\">│</span> <span style=\"font-weight: bold\">[</span><span style=\"color: #008080; text-decoration-color: #008080; font-weight: bold\">0</span>, <span style=\"color: #008080; text-decoration-color: #008080; font-weight: bold\">68</span><span style=\"font-weight: bold\">]</span>, <span style=\"color: #008000; text-decoration-color: #008000\">'camera_matrix'</span>: <span style=\"color: #800080; text-decoration-color: #800080; font-style: italic\">None</span>, <span style=\"color: #008000; text-decoration-color: #008000\">'camera_matrix_path'</span>: <span style=\"color: #800080; text-decoration-color: #800080; font-style: italic\">None</span>, <span style=\"color: #008000; text-decoration-color: #008000\">'distortion_coefficients'</span>: <span style=\"color: #800080; text-decoration-color: #800080; font-style: italic\">None</span>,                <span style=\"color: #008000; text-decoration-color: #008000\">│</span> <span style=\"color: #000080; text-decoration-color: #000080\">│</span>\n",
       "<span style=\"color: #000080; text-decoration-color: #000080\">│</span> <span style=\"color: #008000; text-decoration-color: #008000\">│</span> <span style=\"color: #008000; text-decoration-color: #008000\">'distortion_coefficients_path'</span>: <span style=\"color: #800080; text-decoration-color: #800080; font-style: italic\">None</span><span style=\"font-weight: bold\">}]</span>, <span style=\"color: #008000; text-decoration-color: #008000\">'detection'</span>: <span style=\"font-weight: bold\">{</span><span style=\"color: #008000; text-decoration-color: #008000\">'model_name'</span>: <span style=\"color: #008000; text-decoration-color: #008000\">'yolov5x'</span>, <span style=\"color: #008000; text-decoration-color: #008000\">'size'</span>: <span style=\"color: #008080; text-decoration-color: #008080; font-weight: bold\">3000</span>, <span style=\"color: #008000; text-decoration-color: #008000\">'batch_size'</span>:  <span style=\"color: #008000; text-decoration-color: #008000\">│</span> <span style=\"color: #000080; text-decoration-color: #000080\">│</span>\n",
       "<span style=\"color: #000080; text-decoration-color: #000080\">│</span> <span style=\"color: #008000; text-decoration-color: #008000\">│</span> <span style=\"color: #008080; text-decoration-color: #008080; font-weight: bold\">1</span>, <span style=\"color: #008000; text-decoration-color: #008000\">'filter_range'</span>: <span style=\"color: #00ff00; text-decoration-color: #00ff00; font-style: italic\">True</span><span style=\"font-weight: bold\">}</span>, <span style=\"color: #008000; text-decoration-color: #008000\">'outdir'</span>: <span style=\"color: #008000; text-decoration-color: #008000\">'../../data/processed/'</span><span style=\"font-weight: bold\">}</span>                                                <span style=\"color: #008000; text-decoration-color: #008000\">│</span> <span style=\"color: #000080; text-decoration-color: #000080\">│</span>\n",
       "<span style=\"color: #000080; text-decoration-color: #000080\">│</span> <span style=\"color: #008000; text-decoration-color: #008000\">╰─────────────────────────────────────────────────────────────────────────────────────────────────────────────╯</span> <span style=\"color: #000080; text-decoration-color: #000080\">│</span>\n",
       "<span style=\"color: #000080; text-decoration-color: #000080\">│</span>                                                                                                                 <span style=\"color: #000080; text-decoration-color: #000080\">│</span>\n",
       "<span style=\"color: #000080; text-decoration-color: #000080\">│</span>   <span style=\"color: #808000; text-decoration-color: #808000; font-style: italic\">cameras</span> = <span style=\"font-weight: bold\">[{</span><span style=\"color: #008000; text-decoration-color: #008000\">'label'</span>: <span style=\"color: #008000; text-decoration-color: #008000\">'left'</span>, <span style=\"color: #008000; text-decoration-color: #008000\">'video_path'</span>: <span style=\"color: #008000; text-decoration-color: #008000\">'../../data/raw/left_camera.mp4'</span>, <span style=\"color: #008000; text-decoration-color: #008000\">'keypoint_xml'</span>:                  <span style=\"color: #000080; text-decoration-color: #000080\">│</span>\n",
       "<span style=\"color: #000080; text-decoration-color: #000080\">│</span>             <span style=\"color: #008000; text-decoration-color: #008000\">'../../data/raw/left_keypoints.xml'</span>, <span style=\"color: #008000; text-decoration-color: #008000\">'calibration_video_path'</span>:                                      <span style=\"color: #000080; text-decoration-color: #000080\">│</span>\n",
       "<span style=\"color: #000080; text-decoration-color: #000080\">│</span>             <span style=\"color: #008000; text-decoration-color: #008000\">'../../data/raw/left_checkerboard_images/'</span>, <span style=\"color: #008000; text-decoration-color: #008000\">'x_range'</span>: <span style=\"font-weight: bold\">[</span><span style=\"color: #008080; text-decoration-color: #008080; font-weight: bold\">0</span>, <span style=\"color: #008080; text-decoration-color: #008080; font-weight: bold\">52.5</span><span style=\"font-weight: bold\">]</span>, <span style=\"color: #008000; text-decoration-color: #008000\">'y_range'</span>: <span style=\"font-weight: bold\">[</span><span style=\"color: #008080; text-decoration-color: #008080; font-weight: bold\">0</span>, <span style=\"color: #008080; text-decoration-color: #008080; font-weight: bold\">68</span><span style=\"font-weight: bold\">]</span>,               <span style=\"color: #000080; text-decoration-color: #000080\">│</span>\n",
       "<span style=\"color: #000080; text-decoration-color: #000080\">│</span>             <span style=\"color: #008000; text-decoration-color: #008000\">'camera_matrix'</span>: <span style=\"color: #800080; text-decoration-color: #800080; font-style: italic\">None</span>, <span style=\"color: #008000; text-decoration-color: #008000\">'camera_matrix_path'</span>: <span style=\"color: #800080; text-decoration-color: #800080; font-style: italic\">None</span>, <span style=\"color: #008000; text-decoration-color: #008000\">'distortion_coefficients'</span>: <span style=\"color: #800080; text-decoration-color: #800080; font-style: italic\">None</span>,                 <span style=\"color: #000080; text-decoration-color: #000080\">│</span>\n",
       "<span style=\"color: #000080; text-decoration-color: #000080\">│</span>             <span style=\"color: #008000; text-decoration-color: #008000\">'distortion_coefficients_path'</span>: <span style=\"color: #800080; text-decoration-color: #800080; font-style: italic\">None</span><span style=\"font-weight: bold\">}</span>, <span style=\"font-weight: bold\">{</span><span style=\"color: #008000; text-decoration-color: #008000\">'label'</span>: <span style=\"color: #008000; text-decoration-color: #008000\">'right'</span>, <span style=\"color: #008000; text-decoration-color: #008000\">'video_path'</span>:                             <span style=\"color: #000080; text-decoration-color: #000080\">│</span>\n",
       "<span style=\"color: #000080; text-decoration-color: #000080\">│</span>             <span style=\"color: #008000; text-decoration-color: #008000\">'../../data/raw/right_camera.mp4'</span>, <span style=\"color: #008000; text-decoration-color: #008000\">'keypoint_xml'</span>: <span style=\"color: #008000; text-decoration-color: #008000\">'../../data/raw/right_keypoints.xml'</span>,            <span style=\"color: #000080; text-decoration-color: #000080\">│</span>\n",
       "<span style=\"color: #000080; text-decoration-color: #000080\">│</span>             <span style=\"color: #008000; text-decoration-color: #008000\">'calibration_video_path'</span>: <span style=\"color: #008000; text-decoration-color: #008000\">'../../data/raw/right_checkerboard_images/'</span>, <span style=\"color: #008000; text-decoration-color: #008000\">'x_range'</span>: <span style=\"font-weight: bold\">[</span><span style=\"color: #008080; text-decoration-color: #008080; font-weight: bold\">52.5</span>, <span style=\"color: #008080; text-decoration-color: #008080; font-weight: bold\">105</span><span style=\"font-weight: bold\">]</span>,      <span style=\"color: #000080; text-decoration-color: #000080\">│</span>\n",
       "<span style=\"color: #000080; text-decoration-color: #000080\">│</span>             <span style=\"color: #008000; text-decoration-color: #008000\">'y_range'</span>: <span style=\"font-weight: bold\">[</span><span style=\"color: #008080; text-decoration-color: #008080; font-weight: bold\">0</span>, <span style=\"color: #008080; text-decoration-color: #008080; font-weight: bold\">68</span><span style=\"font-weight: bold\">]</span>, <span style=\"color: #008000; text-decoration-color: #008000\">'camera_matrix'</span>: <span style=\"color: #800080; text-decoration-color: #800080; font-style: italic\">None</span>, <span style=\"color: #008000; text-decoration-color: #008000\">'camera_matrix_path'</span>: <span style=\"color: #800080; text-decoration-color: #800080; font-style: italic\">None</span>, <span style=\"color: #008000; text-decoration-color: #008000\">'distortion_coefficients'</span>:   <span style=\"color: #000080; text-decoration-color: #000080\">│</span>\n",
       "<span style=\"color: #000080; text-decoration-color: #000080\">│</span>             <span style=\"color: #800080; text-decoration-color: #800080; font-style: italic\">None</span>, <span style=\"color: #008000; text-decoration-color: #008000\">'distortion_coefficients_path'</span>: <span style=\"color: #800080; text-decoration-color: #800080; font-style: italic\">None</span><span style=\"font-weight: bold\">}]</span>                                                        <span style=\"color: #000080; text-decoration-color: #000080\">│</span>\n",
       "<span style=\"color: #000080; text-decoration-color: #000080\">│</span> <span style=\"color: #808000; text-decoration-color: #808000; font-style: italic\">detection</span> = <span style=\"font-weight: bold\">{</span><span style=\"color: #008000; text-decoration-color: #008000\">'model_name'</span>: <span style=\"color: #008000; text-decoration-color: #008000\">'yolov5x'</span>, <span style=\"color: #008000; text-decoration-color: #008000\">'size'</span>: <span style=\"color: #008080; text-decoration-color: #008080; font-weight: bold\">3000</span>, <span style=\"color: #008000; text-decoration-color: #008000\">'batch_size'</span>: <span style=\"color: #008080; text-decoration-color: #008080; font-weight: bold\">1</span>, <span style=\"color: #008000; text-decoration-color: #008000\">'filter_range'</span>: <span style=\"color: #00ff00; text-decoration-color: #00ff00; font-style: italic\">True</span><span style=\"font-weight: bold\">}</span>                      <span style=\"color: #000080; text-decoration-color: #000080\">│</span>\n",
       "<span style=\"color: #000080; text-decoration-color: #000080\">│</span>    <span style=\"color: #808000; text-decoration-color: #808000; font-style: italic\">outdir</span> = <span style=\"color: #008000; text-decoration-color: #008000\">'../../data/processed/'</span>                                                                             <span style=\"color: #000080; text-decoration-color: #000080\">│</span>\n",
       "<span style=\"color: #000080; text-decoration-color: #000080\">╰─────────────────────────────────────────────────────────────────────────────────────────────────────────────────╯</span>\n",
       "</pre>\n"
      ],
      "text/plain": [
       "\u001b[34m╭─\u001b[0m\u001b[34m────────────────────────────────── \u001b[0m\u001b[1;34m<\u001b[0m\u001b[1;95mclass\u001b[0m\u001b[39m \u001b[0m\u001b[32m'omegaconf.dictconfig.DictConfig'\u001b[0m\u001b[1;34m>\u001b[0m\u001b[34m ──────────────────────────────────\u001b[0m\u001b[34m─╮\u001b[0m\n",
       "\u001b[34m│\u001b[0m \u001b[32m╭─────────────────────────────────────────────────────────────────────────────────────────────────────────────╮\u001b[0m \u001b[34m│\u001b[0m\n",
       "\u001b[34m│\u001b[0m \u001b[32m│\u001b[0m \u001b[1m{\u001b[0m\u001b[32m'cameras'\u001b[0m: \u001b[1m[\u001b[0m\u001b[1m{\u001b[0m\u001b[32m'label'\u001b[0m: \u001b[32m'left'\u001b[0m, \u001b[32m'video_path'\u001b[0m: \u001b[32m'../../data/raw/left_camera.mp4'\u001b[0m, \u001b[32m'keypoint_xml'\u001b[0m:              \u001b[32m│\u001b[0m \u001b[34m│\u001b[0m\n",
       "\u001b[34m│\u001b[0m \u001b[32m│\u001b[0m \u001b[32m'../../data/raw/left_keypoints.xml'\u001b[0m, \u001b[32m'calibration_video_path'\u001b[0m: \u001b[32m'../../data/raw/left_checkerboard_images/'\u001b[0m,  \u001b[32m│\u001b[0m \u001b[34m│\u001b[0m\n",
       "\u001b[34m│\u001b[0m \u001b[32m│\u001b[0m \u001b[32m'x_range'\u001b[0m: \u001b[1m[\u001b[0m\u001b[1;36m0\u001b[0m, \u001b[1;36m52.5\u001b[0m\u001b[1m]\u001b[0m, \u001b[32m'y_range'\u001b[0m: \u001b[1m[\u001b[0m\u001b[1;36m0\u001b[0m, \u001b[1;36m68\u001b[0m\u001b[1m]\u001b[0m, \u001b[32m'camera_matrix'\u001b[0m: \u001b[3;35mNone\u001b[0m, \u001b[32m'camera_matrix_path'\u001b[0m: \u001b[3;35mNone\u001b[0m,                \u001b[32m│\u001b[0m \u001b[34m│\u001b[0m\n",
       "\u001b[34m│\u001b[0m \u001b[32m│\u001b[0m \u001b[32m'distortion_coefficients'\u001b[0m: \u001b[3;35mNone\u001b[0m, \u001b[32m'distortion_coefficients_path'\u001b[0m: \u001b[3;35mNone\u001b[0m\u001b[1m}\u001b[0m, \u001b[1m{\u001b[0m\u001b[32m'label'\u001b[0m: \u001b[32m'right'\u001b[0m, \u001b[32m'video_path'\u001b[0m:    \u001b[32m│\u001b[0m \u001b[34m│\u001b[0m\n",
       "\u001b[34m│\u001b[0m \u001b[32m│\u001b[0m \u001b[32m'../../data/raw/right_camera.mp4'\u001b[0m, \u001b[32m'keypoint_xml'\u001b[0m: \u001b[32m'../../data/raw/right_keypoints.xml'\u001b[0m,                    \u001b[32m│\u001b[0m \u001b[34m│\u001b[0m\n",
       "\u001b[34m│\u001b[0m \u001b[32m│\u001b[0m \u001b[32m'calibration_video_path'\u001b[0m: \u001b[32m'../../data/raw/right_checkerboard_images/'\u001b[0m, \u001b[32m'x_range'\u001b[0m: \u001b[1m[\u001b[0m\u001b[1;36m52.5\u001b[0m, \u001b[1;36m105\u001b[0m\u001b[1m]\u001b[0m, \u001b[32m'y_range'\u001b[0m:   \u001b[32m│\u001b[0m \u001b[34m│\u001b[0m\n",
       "\u001b[34m│\u001b[0m \u001b[32m│\u001b[0m \u001b[1m[\u001b[0m\u001b[1;36m0\u001b[0m, \u001b[1;36m68\u001b[0m\u001b[1m]\u001b[0m, \u001b[32m'camera_matrix'\u001b[0m: \u001b[3;35mNone\u001b[0m, \u001b[32m'camera_matrix_path'\u001b[0m: \u001b[3;35mNone\u001b[0m, \u001b[32m'distortion_coefficients'\u001b[0m: \u001b[3;35mNone\u001b[0m,                \u001b[32m│\u001b[0m \u001b[34m│\u001b[0m\n",
       "\u001b[34m│\u001b[0m \u001b[32m│\u001b[0m \u001b[32m'distortion_coefficients_path'\u001b[0m: \u001b[3;35mNone\u001b[0m\u001b[1m}\u001b[0m\u001b[1m]\u001b[0m, \u001b[32m'detection'\u001b[0m: \u001b[1m{\u001b[0m\u001b[32m'model_name'\u001b[0m: \u001b[32m'yolov5x'\u001b[0m, \u001b[32m'size'\u001b[0m: \u001b[1;36m3000\u001b[0m, \u001b[32m'batch_size'\u001b[0m:  \u001b[32m│\u001b[0m \u001b[34m│\u001b[0m\n",
       "\u001b[34m│\u001b[0m \u001b[32m│\u001b[0m \u001b[1;36m1\u001b[0m, \u001b[32m'filter_range'\u001b[0m: \u001b[3;92mTrue\u001b[0m\u001b[1m}\u001b[0m, \u001b[32m'outdir'\u001b[0m: \u001b[32m'../../data/processed/'\u001b[0m\u001b[1m}\u001b[0m                                                \u001b[32m│\u001b[0m \u001b[34m│\u001b[0m\n",
       "\u001b[34m│\u001b[0m \u001b[32m╰─────────────────────────────────────────────────────────────────────────────────────────────────────────────╯\u001b[0m \u001b[34m│\u001b[0m\n",
       "\u001b[34m│\u001b[0m                                                                                                                 \u001b[34m│\u001b[0m\n",
       "\u001b[34m│\u001b[0m   \u001b[3;33mcameras\u001b[0m = \u001b[1m[\u001b[0m\u001b[1m{\u001b[0m\u001b[32m'label'\u001b[0m: \u001b[32m'left'\u001b[0m, \u001b[32m'video_path'\u001b[0m: \u001b[32m'../../data/raw/left_camera.mp4'\u001b[0m, \u001b[32m'keypoint_xml'\u001b[0m:                  \u001b[34m│\u001b[0m\n",
       "\u001b[34m│\u001b[0m             \u001b[32m'../../data/raw/left_keypoints.xml'\u001b[0m, \u001b[32m'calibration_video_path'\u001b[0m:                                      \u001b[34m│\u001b[0m\n",
       "\u001b[34m│\u001b[0m             \u001b[32m'../../data/raw/left_checkerboard_images/'\u001b[0m, \u001b[32m'x_range'\u001b[0m: \u001b[1m[\u001b[0m\u001b[1;36m0\u001b[0m, \u001b[1;36m52.5\u001b[0m\u001b[1m]\u001b[0m, \u001b[32m'y_range'\u001b[0m: \u001b[1m[\u001b[0m\u001b[1;36m0\u001b[0m, \u001b[1;36m68\u001b[0m\u001b[1m]\u001b[0m,               \u001b[34m│\u001b[0m\n",
       "\u001b[34m│\u001b[0m             \u001b[32m'camera_matrix'\u001b[0m: \u001b[3;35mNone\u001b[0m, \u001b[32m'camera_matrix_path'\u001b[0m: \u001b[3;35mNone\u001b[0m, \u001b[32m'distortion_coefficients'\u001b[0m: \u001b[3;35mNone\u001b[0m,                 \u001b[34m│\u001b[0m\n",
       "\u001b[34m│\u001b[0m             \u001b[32m'distortion_coefficients_path'\u001b[0m: \u001b[3;35mNone\u001b[0m\u001b[1m}\u001b[0m, \u001b[1m{\u001b[0m\u001b[32m'label'\u001b[0m: \u001b[32m'right'\u001b[0m, \u001b[32m'video_path'\u001b[0m:                             \u001b[34m│\u001b[0m\n",
       "\u001b[34m│\u001b[0m             \u001b[32m'../../data/raw/right_camera.mp4'\u001b[0m, \u001b[32m'keypoint_xml'\u001b[0m: \u001b[32m'../../data/raw/right_keypoints.xml'\u001b[0m,            \u001b[34m│\u001b[0m\n",
       "\u001b[34m│\u001b[0m             \u001b[32m'calibration_video_path'\u001b[0m: \u001b[32m'../../data/raw/right_checkerboard_images/'\u001b[0m, \u001b[32m'x_range'\u001b[0m: \u001b[1m[\u001b[0m\u001b[1;36m52.5\u001b[0m, \u001b[1;36m105\u001b[0m\u001b[1m]\u001b[0m,      \u001b[34m│\u001b[0m\n",
       "\u001b[34m│\u001b[0m             \u001b[32m'y_range'\u001b[0m: \u001b[1m[\u001b[0m\u001b[1;36m0\u001b[0m, \u001b[1;36m68\u001b[0m\u001b[1m]\u001b[0m, \u001b[32m'camera_matrix'\u001b[0m: \u001b[3;35mNone\u001b[0m, \u001b[32m'camera_matrix_path'\u001b[0m: \u001b[3;35mNone\u001b[0m, \u001b[32m'distortion_coefficients'\u001b[0m:   \u001b[34m│\u001b[0m\n",
       "\u001b[34m│\u001b[0m             \u001b[3;35mNone\u001b[0m, \u001b[32m'distortion_coefficients_path'\u001b[0m: \u001b[3;35mNone\u001b[0m\u001b[1m}\u001b[0m\u001b[1m]\u001b[0m                                                        \u001b[34m│\u001b[0m\n",
       "\u001b[34m│\u001b[0m \u001b[3;33mdetection\u001b[0m = \u001b[1m{\u001b[0m\u001b[32m'model_name'\u001b[0m: \u001b[32m'yolov5x'\u001b[0m, \u001b[32m'size'\u001b[0m: \u001b[1;36m3000\u001b[0m, \u001b[32m'batch_size'\u001b[0m: \u001b[1;36m1\u001b[0m, \u001b[32m'filter_range'\u001b[0m: \u001b[3;92mTrue\u001b[0m\u001b[1m}\u001b[0m                      \u001b[34m│\u001b[0m\n",
       "\u001b[34m│\u001b[0m    \u001b[3;33moutdir\u001b[0m = \u001b[32m'../../data/processed/'\u001b[0m                                                                             \u001b[34m│\u001b[0m\n",
       "\u001b[34m╰─────────────────────────────────────────────────────────────────────────────────────────────────────────────────╯\u001b[0m\n"
      ]
     },
     "metadata": {},
     "output_type": "display_data"
    }
   ],
   "source": [
    "from soccertrack.utils import load_config\n",
    "from soccertrack.logging import inspect\n",
    "\n",
    "cfg = load_config('./config.yml')\n",
    "inspect(cfg)"
   ]
  },
  {
   "cell_type": "markdown",
   "metadata": {},
   "source": [
    "### Camera calibration"
   ]
  },
  {
   "cell_type": "markdown",
   "metadata": {},
   "source": [
    "In order to reduce the distortion of the camera lense and straighten the lines of pitch, the camera is calibrated. This is done by using a video or a set of images containing a checkboard pattern from multiple angles.\n",
    "\n",
    "![](./assets/cam_calibration.png)\n",
    "\n",
    "Record a short video of the checkboard pattern and add the path to the yaml file."
   ]
  },
  {
   "cell_type": "markdown",
   "metadata": {},
   "source": [
    "### Homography Transformation"
   ]
  },
  {
   "cell_type": "markdown",
   "metadata": {},
   "source": [
    "TODO: This section needs its own notebook.\n",
    "\n",
    "![](./assets/cam_keypoints.png)"
   ]
  },
  {
   "cell_type": "markdown",
   "metadata": {},
   "source": [
    "### Load the camera objects"
   ]
  },
  {
   "cell_type": "markdown",
   "metadata": {},
   "source": [
    "Most of the information above (camera ranges, calibration, homography matrix etc.) is specific to the camera. Therefore it makes sense to create a `Camera` object to store this information. Below is an example of how to create a `Camera` object.\n",
    "\n",
    "For more detail on what the `Camera` object does, read the documentation of the `Camera` class."
   ]
  },
  {
   "cell_type": "code",
   "execution_count": 7,
   "metadata": {},
   "outputs": [
    {
     "data": {
      "application/vnd.jupyter.widget-view+json": {
       "model_id": "c78b6250ff4048149ed3e37d22236ef9",
       "version_major": 2,
       "version_minor": 0
      },
      "text/plain": [
       "Output()"
      ]
     },
     "metadata": {},
     "output_type": "display_data"
    },
    {
     "name": "stderr",
     "output_type": "stream",
     "text": [
      "/Users/atom/Github/SoccerTrack/soccertrack/logging.py:117: TqdmExperimentalWarning: rich is experimental/alpha\n",
      "  return tqdm(*args, **kwargs)\n"
     ]
    },
    {
     "data": {
      "text/html": [
       "<pre style=\"white-space:pre;overflow-x:auto;line-height:normal;font-family:Menlo,'DejaVu Sans Mono',consolas,'Courier New',monospace\"></pre>\n"
      ],
      "text/plain": []
     },
     "metadata": {},
     "output_type": "display_data"
    },
    {
     "data": {
      "text/html": [
       "<pre style=\"white-space:pre;overflow-x:auto;line-height:normal;font-family:Menlo,'DejaVu Sans Mono',consolas,'Courier New',monospace\">\n",
       "</pre>\n"
      ],
      "text/plain": [
       "\n"
      ]
     },
     "metadata": {},
     "output_type": "display_data"
    },
    {
     "name": "stdout",
     "output_type": "stream",
     "text": [
      "\u001b[36mfind_intrinsic_camera_parameters:0599  💬| Computing calibration parameters... \u001b[0m\n",
      "\u001b[36mfind_intrinsic_camera_parameters:0607  💬| Using Zhang's method. \u001b[0m\n",
      "\u001b[36mfind_intrinsic_camera_parameters:0652  💬| Finished computing calibration parameters. \u001b[0m\n"
     ]
    },
    {
     "data": {
      "application/vnd.jupyter.widget-view+json": {
       "model_id": "2d8ded567aec45e6b0cfdeba94f54f37",
       "version_major": 2,
       "version_minor": 0
      },
      "text/plain": [
       "Output()"
      ]
     },
     "metadata": {},
     "output_type": "display_data"
    },
    {
     "data": {
      "text/html": [
       "<pre style=\"white-space:pre;overflow-x:auto;line-height:normal;font-family:Menlo,'DejaVu Sans Mono',consolas,'Courier New',monospace\"></pre>\n"
      ],
      "text/plain": []
     },
     "metadata": {},
     "output_type": "display_data"
    },
    {
     "data": {
      "text/html": [
       "<pre style=\"white-space:pre;overflow-x:auto;line-height:normal;font-family:Menlo,'DejaVu Sans Mono',consolas,'Courier New',monospace\">\n",
       "</pre>\n"
      ],
      "text/plain": [
       "\n"
      ]
     },
     "metadata": {},
     "output_type": "display_data"
    },
    {
     "name": "stdout",
     "output_type": "stream",
     "text": [
      "\u001b[36mfind_intrinsic_camera_parameters:0599  💬| Computing calibration parameters... \u001b[0m\n",
      "\u001b[36mfind_intrinsic_camera_parameters:0607  💬| Using Zhang's method. \u001b[0m\n",
      "\u001b[36mfind_intrinsic_camera_parameters:0652  💬| Finished computing calibration parameters. \u001b[0m\n",
      "Loaded 2 cameras\n"
     ]
    }
   ],
   "source": [
    "from soccertrack.camera import load_cameras\n",
    "\n",
    "cameras = load_cameras(cfg['cameras'])\n",
    "print(f\"Loaded {len(cameras)} cameras\")"
   ]
  }
 ],
 "metadata": {
  "kernelspec": {
   "display_name": "Python 3.8.12 ('soccertrack')",
   "language": "python",
   "name": "python3"
  },
  "language_info": {
   "codemirror_mode": {
    "name": "ipython",
    "version": 3
   },
   "file_extension": ".py",
   "mimetype": "text/x-python",
   "name": "python",
   "nbconvert_exporter": "python",
   "pygments_lexer": "ipython3",
   "version": "3.8.12"
  },
  "orig_nbformat": 4,
  "vscode": {
   "interpreter": {
    "hash": "86fd77fde5270c410244ce73bc0b68c8749dec758c13de6d70fa5ce033ba65ff"
   }
  }
 },
 "nbformat": 4,
 "nbformat_minor": 2
}
