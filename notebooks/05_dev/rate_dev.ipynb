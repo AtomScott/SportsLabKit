{
 "cells": [
  {
   "attachments": {},
   "cell_type": "markdown",
   "metadata": {},
   "source": [
    "## Soccertrack - Play Evaluation\n",
    " \n",
    "This is a guide for evaluating split play data.\n",
    "\n",
    "Currently, play evaluation using xG and xT indicators is available; OBSO is in the process of implementation and will be added soon.\n",
    "\n",
    "Please note that the evaluation indicators use pre-computed parameters. Learning from scratch, for example, is outside the scope of this guide.\n",
    "\n",
    "The xG and xT parameters were referenced below👓\n",
    "\n",
    "- xG : [An examination of expected goals and shot efficiency in soccer](https://pdfs.semanticscholar.org/ed25/5fbf1382588c8ab996af3690ef209323ac63.pdf?_ga=2.54952171.1368408628.1675579413-2014574046.1675036569)\n",
    "- xT : [Introducing Expected Threat (xT)](https://karun.in/blog/expected-threat.html)"
   ]
  },
  {
   "cell_type": "code",
   "execution_count": 1,
   "metadata": {},
   "outputs": [],
   "source": [
    "%load_ext autoreload\n",
    "%autoreload 2"
   ]
  },
  {
   "cell_type": "code",
   "execution_count": 3,
   "metadata": {},
   "outputs": [],
   "source": [
    "import pickle\n",
    "import os\n",
    "import numpy as np\n",
    "import pandas as pd\n",
    "\n",
    "from pathlib import Path\n",
    "from soccertrack.dataframe import CoordinatesDataFrame\n",
    "from soccertrack.rate import rate_xG, rate_xT\n",
    "from soccertrack.logger import show_df, tqdm\n",
    "from soccertrack.utils import get_git_root"
   ]
  },
  {
   "attachments": {},
   "cell_type": "markdown",
   "metadata": {},
   "source": [
    "## Part1. Calculation of xG & xT\n",
    "A script that downloads all the data from labelbox is available in `soccertrack/rate/rate.py`. "
   ]
  },
  {
   "cell_type": "code",
   "execution_count": 27,
   "metadata": {},
   "outputs": [
    {
     "name": "stderr",
     "output_type": "stream",
     "text": [
      "Transform to CoordinatesDataFrame..: 100%|██████████| 6000/6000 [00:07<00:00, 850.88it/s]\n"
     ]
    }
   ],
   "source": [
    "#setup initial variables\n",
    "root = get_git_root()\n",
    "video_dir = Path(root / \"soccertrack\" / \"datasets\" / 'SoccerData' / 'TASC' / 'out_videos')\n",
    "data_path = Path(root / \"soccertrack\" / \"datasets\" / 'SoccerData' / 'train' / 'data.pkl')\n",
    "metrics_path = Path(root/ \"soccertrack\" / \"datasets\" / 'SoccerData' / 'metrics_list.csv')\n",
    "metrics_df = pd.read_csv(metrics_path)\n",
    "\n",
    "#Window to divide pitch by grid\n",
    "window_x = 16\n",
    "window_y = 12\n",
    "\n",
    "#load tracking data\n",
    "with open(data_path, 'rb') as f:\n",
    "    data = pickle.load(f)\n",
    "\n",
    "#transform to CoordinatesDataFrame and store in list\n",
    "#Todo 今後のことを考えると、プレーデータをlistにしておくのは良くないかもしれないので、ジェネレーターにするなどの対応を考える\n",
    "codf_list = []\n",
    "for item in tqdm(data.items(), desc=\"Transform to CoordinatesDataFrame..\"):\n",
    "    idx, seq = item\n",
    "    codf = CoordinatesDataFrame.from_numpy(seq)\n",
    "    codf_list.append({\"idx\": idx, \"data\": codf})"
   ]
  },
  {
   "attachments": {},
   "cell_type": "markdown",
   "metadata": {},
   "source": [
    "### Calculation of xG"
   ]
  },
  {
   "cell_type": "code",
   "execution_count": 33,
   "metadata": {},
   "outputs": [
    {
     "data": {
      "text/plain": [
       "0.02798701298701299"
      ]
     },
     "execution_count": 33,
     "metadata": {},
     "output_type": "execute_result"
    }
   ],
   "source": [
    "from soccertrack.utils import make_video\n",
    "sample_codf = codf_list[0]\n",
    "\n",
    "xg_mtx = metrics_df['xG_area'].to_numpy().reshape(window_x, window_y)\n",
    "rate_xG(sample_codf['data'], xg_mtx, agg_func=\"w_mean\")"
   ]
  },
  {
   "attachments": {},
   "cell_type": "markdown",
   "metadata": {},
   "source": [
    "### Calculation of xT"
   ]
  },
  {
   "cell_type": "code",
   "execution_count": 10,
   "metadata": {},
   "outputs": [
    {
     "data": {
      "text/plain": [
       "0.02927922077922078"
      ]
     },
     "execution_count": 10,
     "metadata": {},
     "output_type": "execute_result"
    }
   ],
   "source": [
    "sample_codf = codf_list[0]\n",
    "xt_mtx = metrics_df['xT_area'].to_numpy().reshape(window_x, window_y)\n",
    "\n",
    "rate_xT(sample_codf['data'], xt_mtx, agg_func=\"w_mean\")"
   ]
  },
  {
   "attachments": {},
   "cell_type": "markdown",
   "metadata": {},
   "source": [
    "### Sorting play quality by xG"
   ]
  },
  {
   "cell_type": "code",
   "execution_count": 12,
   "metadata": {},
   "outputs": [
    {
     "name": "stderr",
     "output_type": "stream",
     "text": [
      "/home/guest/dev_repo/SoccerTrack/soccertrack/rate/agg_func.py:7: RuntimeWarning: invalid value encountered in scalar divide\n",
      "  return lambda metrics_mtx, ma_count_arr: np.sum(metrics_mtx * ma_count_arr) / np.sum(ma_count_arr)\n"
     ]
    }
   ],
   "source": [
    "#sort play quality by xG\n",
    "codf_list_sort = sorted(\n",
    "                codf_list, \n",
    "                key=lambda codf: rate_xG(codf['data'], xg_mtx, agg_func=\"w_mean\"), \n",
    "                reverse=True\n",
    "                )\n",
    "\n",
    "sorted_codf_idx = [codf_sort['idx'] for codf_sort in codf_list_sort]"
   ]
  }
 ],
 "metadata": {
  "kernelspec": {
   "display_name": "soccertrack",
   "language": "python",
   "name": "python3"
  },
  "language_info": {
   "codemirror_mode": {
    "name": "ipython",
    "version": 3
   },
   "file_extension": ".py",
   "mimetype": "text/x-python",
   "name": "python",
   "nbconvert_exporter": "python",
   "pygments_lexer": "ipython3",
   "version": "3.9.12 (main, Jun  1 2022, 11:38:51) \n[GCC 7.5.0]"
  },
  "orig_nbformat": 4,
  "vscode": {
   "interpreter": {
    "hash": "22be08ea6f291daab158c51b4a554c3a352d304a3abd30c2197fc43f23816079"
   }
  }
 },
 "nbformat": 4,
 "nbformat_minor": 2
}
