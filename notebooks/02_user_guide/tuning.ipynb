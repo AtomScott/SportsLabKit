{
 "cells": [
  {
   "attachments": {},
   "cell_type": "markdown",
   "metadata": {},
   "source": [
    "# Tuning\n",
    "\n",
    "Tuning Trackers\n",
    "\n",
    "Tuning the tracking model's hyperparameters is key to good performance. In SportsLabKit, we use the track-by-detection method. This includes a detection model, image model, and motion model, each with its own hyperparameters. These are different from the training parameters or weights. For example:\n",
    "\n",
    "- Detection model: Image size is set to 640x480 pixels\n",
    "- Image model: Image size is set to 800x600 pixels\n",
    "- Motion model: Stride is set to 2 frames\n",
    "\n",
    "You can fine-tune these hyperparameters with optimization methods like Covariance Matrix Adaptation Evolution Strategy (CMA-ES) and Tree-structured Parzen Estimator (TPE).\n",
    "\n",
    "SportsLabKit provides functions to make tuning easier, which is important for better tracking performance. In this notebook, we'll learn how to use `tracker.tune_hparams()` and see how it improves the SORT Tracker."
   ]
  },
  {
   "cell_type": "code",
   "execution_count": 1,
   "metadata": {},
   "outputs": [],
   "source": [
    "%load_ext autoreload\n",
    "%autoreload 2"
   ]
  },
  {
   "attachments": {},
   "cell_type": "markdown",
   "metadata": {},
   "source": [
    "## Prepare dataset\n",
    "\n",
    "First, we'll prepare the dataset. To perform tuning we also need the ground truth tracking data."
   ]
  },
  {
   "cell_type": "code",
   "execution_count": 2,
   "metadata": {},
   "outputs": [],
   "source": [
    "import sportslabkit as slk\n",
    "from sportslabkit.logger import set_log_level\n",
    "\n",
    "dataset_path = slk.datasets.get_path(\"top_view\")\n",
    "path_to_csv = sorted(dataset_path.glob(\"annotations/*.csv\"))[0]\n",
    "path_to_mp4 = sorted(dataset_path.glob(\"videos/*.mp4\"))[0]\n",
    "\n",
    "root = slk.utils.get_git_root()\n",
    "cam = slk.Camera(path_to_mp4)\n",
    "\n",
    "# For the sake of speed, we'll only use the first 10 frames\n",
    "n_frames = 100\n",
    "frames = cam[:n_frames]\n",
    "\n",
    "bbdf_gt = slk.load_df(path_to_csv)\n",
    "# TODO: Hopefully we can get rid of this \n",
    "if bbdf_gt.index[0] == 0:\n",
    "    bbdf_gt.index += 1\n",
    "bbdf_gt = bbdf_gt[:n_frames]"
   ]
  },
  {
   "attachments": {},
   "cell_type": "markdown",
   "metadata": {},
   "source": [
    "## Prepare SORT Tracker\n",
    "\n",
    "Next, we'll set up the tracker to be used, focusing on SORT, a simple yet effective Tracker in SportsLabKit. SORT relies on both a detection model and a motion model, each with specific configurations. Here are the details:\n",
    "\n",
    "* **Detection Model - `YOLOv8x`**\n",
    "    * `conf` - Confidence threshold for detecting objects (Default: 0.5)\n",
    "    * `iou` - Intersection-over-Union threshold for suppressing duplicate detections (Default: 0.3)\n",
    "    * `imgsz` - Image size to which the input is resized, affecting detection (Default: 2560x2560 pixels)\n",
    "\n",
    "\n",
    "* **Motion Model - `KalmanFilterMotionModel`**\n",
    "    * `dt` - Time step between consecutive measurements, crucial for predicting object position (Default: 1/30)\n",
    "    * `process_noise` - Noise in the process model, representing uncertainty in motion prediction (Default: 1e-4)\n",
    "    * `measurement_noise` - Noise in the measurements, representing sensor noise (Default: 1e-1)\n",
    "    * `confidence_scaler` - Factor to scale the confidence in prediction, adjusting the influence of measurements vs predictions (Default: 0.5)\n",
    "\n",
    "* **Tracking Algorithm - `SORTTracker`**\n",
    "    * `metric` - The cost metric to use for assignment\n",
    "    * `metric_gate` - The gate threshold for the cost metric\n",
    "    * `t_lost` - The number of frames to wait before removing a track\n",
    "    * `t_confirm` - The number of frames to wait before confirming a track\n",
    "\n",
    "These configurations are essential in setting up the SORT Tracker, and the given defaults provide a good starting point. They can be tuned further as needed to align with the specific use case and environment."
   ]
  },
  {
   "cell_type": "code",
   "execution_count": 3,
   "metadata": {},
   "outputs": [],
   "source": [
    "from sportslabkit.mot import SORTTracker\n",
    "\n",
    "slk.logger.set_log_level('INFO')\n",
    "det_model = slk.detection_model.load(\n",
    "    model_name='yolov8',\n",
    "    model=root/'models/yolov8/soccer_top_view-model=yolov8x-imgsz=2048.pt',\n",
    "    conf=0.25,\n",
    "    iou=0.6,\n",
    "    imgsz=2048,\n",
    "    device=0,\n",
    "    classes=0,\n",
    "    augment=True,\n",
    "    max_det=35\n",
    ")\n",
    "\n",
    "motion_model = slk.motion_model.load(\n",
    "    model_name='kalmanfilter',\n",
    "    dt=1/30,\n",
    "    process_noise=500,\n",
    "    measurement_noise=10,\n",
    "    confidence_scaler=1\n",
    ")\n",
    "\n",
    "matching_fn = slk.matching.SimpleMatchingFunction(\n",
    "    metric=slk.metrics.EuclideanCMM(use_pred_box=True),\n",
    "    gate=0.5\n",
    ")\n",
    "\n",
    "tracker = SORTTracker(\n",
    "    detection_model=det_model,\n",
    "    motion_model=motion_model,\n",
    "    matching_fn=matching_fn,\n",
    "    max_staleness=20,\n",
    "    min_length=20\n",
    ")"
   ]
  },
  {
   "attachments": {},
   "cell_type": "markdown",
   "metadata": {},
   "source": [
    "## Tracking normally with SORT"
   ]
  },
  {
   "cell_type": "code",
   "execution_count": 4,
   "metadata": {},
   "outputs": [
    {
     "name": "stderr",
     "output_type": "stream",
     "text": [
      "Tracking Progress:   0%|          | 0/100 [00:00<?, ?it/s]"
     ]
    },
    {
     "name": "stderr",
     "output_type": "stream",
     "text": [
      "Tracking Progress: 100%|██████████| 100/100 [00:38<00:00,  2.60it/s, Active: 24, Dead: 2]\n"
     ]
    },
    {
     "name": "stdout",
     "output_type": "stream",
     "text": [
      "HOTA score: 0.67\n"
     ]
    }
   ],
   "source": [
    "from sportslabkit.metrics import hota_score\n",
    "\n",
    "bbdf = tracker.track(frames)\n",
    "score = hota_score(bboxes_track=bbdf, bboxes_gt=bbdf_gt)[\"HOTA\"]\n",
    "\n",
    "print(f'HOTA score: {score:.2f}')"
   ]
  },
  {
   "cell_type": "code",
   "execution_count": 5,
   "metadata": {},
   "outputs": [
    {
     "name": "stderr",
     "output_type": "stream",
     "text": [
      "Writing video: 100it [00:10,  9.80it/s]\n"
     ]
    }
   ],
   "source": [
    "bbdf.visualize_frames(cam.video_path, root/'notebooks/02_user_guide/assets/sort_not_tuned.mp4')"
   ]
  },
  {
   "attachments": {},
   "cell_type": "markdown",
   "metadata": {},
   "source": [
    "## Model Tuning\n",
    "\n",
    "Each tunable component will have an associated class variable named `hparam_search_space`. This is a nested dictionary that contains key-value pairs in the format `param: {\"type\": \"categorical\", \"values\": list of possible values}` for a categorical search space, or `param: {\"type\": 'logfloat', \"low\": min value, \"high\": max value}` for a continuous search space.\n",
    "\n",
    "For instance, a `KalmanFilterMotionModel` has the following hyperparameter search space:\n"
   ]
  },
  {
   "cell_type": "code",
   "execution_count": 6,
   "metadata": {},
   "outputs": [
    {
     "data": {
      "text/plain": [
       "{'dt': {'type': 'categorical',\n",
       "  'values': [10,\n",
       "   2,\n",
       "   1,\n",
       "   0.03333333333333333,\n",
       "   0.016666666666666666,\n",
       "   0.008333333333333333]},\n",
       " 'process_noise': {'type': 'logfloat', 'low': 1e-06, 'high': 100.0},\n",
       " 'measurement_noise': {'type': 'logfloat', 'low': 0.001, 'high': 100.0},\n",
       " 'confidence_scaler': {'type': 'logfloat', 'low': 0.001, 'high': 100}}"
      ]
     },
     "execution_count": 6,
     "metadata": {},
     "output_type": "execute_result"
    }
   ],
   "source": [
    "slk.motion_model.KalmanFilter.hparam_search_space"
   ]
  },
  {
   "attachments": {},
   "cell_type": "markdown",
   "metadata": {},
   "source": [
    "We use [Optuna](https://optuna.org) to \n",
    "\n",
    "Each tracker object has a `tracker.create_hparam_dict()` method that generates a dictionary containing hyperparameter search spaces for each component. You can pass a dictionary into the `hparam_search_space` argument to overwrite the default search space. \n",
    "\n",
    "The `hparam_search_space` dictionary should be formatted as follows:\n",
    "\n",
    "```\n",
    "{\n",
    "    'component name (motion_model/detection_model/image_model etc.)`: {\n",
    "        'param name (imgsz/conf/t_lost etc.)': \n",
    "        {\"type\": 'logfloat', \"low\": min value, \"high\": max value} -> for continuous params\n",
    "        or \n",
    "        {\"type\": 'categorical', \"low\": min value, \"high\": max value} -> for categorical params\n",
    "    }\n",
    "}\n",
    "```\n"
   ]
  },
  {
   "cell_type": "code",
   "execution_count": 7,
   "metadata": {},
   "outputs": [
    {
     "name": "stdout",
     "output_type": "stream",
     "text": [
      "\u001b[36mIPython:0004  💬| self: \u001b[0m\n",
      "\u001b[36mIPython:0006  💬| \tmetric_gate: {'type': 'float', 'low': 0.01, 'high': 1} \u001b[0m\n",
      "\u001b[36mIPython:0006  💬| \tt_lost: {'type': 'int', 'low': 1, 'high': 1000.0} \u001b[0m\n",
      "\u001b[36mIPython:0004  💬| detection_model: \u001b[0m\n",
      "\u001b[36mIPython:0006  💬| \tmax_det: {'type': 'int', 'values': None, 'low': 20, 'high': 50} \u001b[0m\n",
      "\u001b[36mIPython:0006  💬| \timgsz: {'type': 'int', 'values': None, 'low': 1280, 'high': 3840} \u001b[0m\n",
      "\u001b[36mIPython:0006  💬| \tconf: {'type': 'float', 'values': None, 'low': 0.1, 'high': 1.0} \u001b[0m\n",
      "\u001b[36mIPython:0006  💬| \tiou: {'type': 'float', 'values': None, 'low': 0.1, 'high': 1.0} \u001b[0m\n",
      "\u001b[36mIPython:0004  💬| motion_model: \u001b[0m\n",
      "\u001b[36mIPython:0006  💬| \tdt: {'type': 'categorical', 'values': [10, 2, 1, 0.03333333333333333, 0.016666666666666666, 0.008333333333333333], 'low': None, 'high': None} \u001b[0m\n",
      "\u001b[36mIPython:0006  💬| \tprocess_noise: {'type': 'logfloat', 'values': None, 'low': 1e-06, 'high': 100.0} \u001b[0m\n",
      "\u001b[36mIPython:0006  💬| \tmeasurement_noise: {'type': 'logfloat', 'values': None, 'low': 0.001, 'high': 100.0} \u001b[0m\n",
      "\u001b[36mIPython:0006  💬| \tconfidence_scaler: {'type': 'logfloat', 'values': None, 'low': 0.001, 'high': 100} \u001b[0m\n"
     ]
    }
   ],
   "source": [
    "from sportslabkit.logger import logger\n",
    "hparams = tracker.create_hparam_dict()\n",
    "for attribute, param_space in hparams.items():\n",
    "    logger.info(f\"{attribute}:\")\n",
    "    for param_name, param_values in param_space.items():\n",
    "        logger.info(f\"\\t{param_name}: {param_values}\")\n"
   ]
  },
  {
   "cell_type": "markdown",
   "metadata": {},
   "source": [
    "Define our own search space:"
   ]
  },
  {
   "cell_type": "code",
   "execution_count": 8,
   "metadata": {},
   "outputs": [],
   "source": [
    "hparam_search_space = {\n",
    "    'self': {\n",
    "        'max_staleness': {'type': 'int', 'low': 10, 'high': 100},\n",
    "        'min_length': {'type': 'int', 'low': 10, 'high': 100},\n",
    "    },\n",
    "    'motion_model':{\n",
    "        'process_noise': {'type': 'float', 'low': 100,'high': 1000},\n",
    "        'measurement_noise': {'type': 'float','low': 1,'high': 100},\n",
    "        'confidence_scaler': {'type': 'logfloat','low': 1e-3, 'high': 1e3}\n",
    "    },\n",
    "    'detection_model':{\n",
    "        \"max_det\": {\"type\": \"int\", \"low\": 20, \"high\": 50},\n",
    "        \"conf\": {\"type\": \"float\", \"low\": 0.1, \"high\": .6},\n",
    "        \"iou\": {\"type\": \"float\", \"low\": 0.3, \"high\": .5},\n",
    "    },\n",
    "    'matching_fn':{\n",
    "        'gate': {'type': 'logfloat', 'low': 1e-4, 'high': 1}\n",
    "    }\n",
    "}"
   ]
  },
  {
   "cell_type": "code",
   "execution_count": 9,
   "metadata": {},
   "outputs": [
    {
     "name": "stdout",
     "output_type": "stream",
     "text": [
      "\u001b[36mtune_hparams:0253  💬| Hyperparameter search space: \u001b[0m\n",
      "\u001b[36mtune_hparams:0255  💬| self: \u001b[0m\n",
      "\u001b[36mtune_hparams:0257  💬| \tmax_staleness: {'type': 'int', 'low': 10, 'high': 100} \u001b[0m\n",
      "\u001b[36mtune_hparams:0257  💬| \tmin_length: {'type': 'int', 'low': 10, 'high': 100} \u001b[0m\n",
      "\u001b[36mtune_hparams:0255  💬| motion_model: \u001b[0m\n",
      "\u001b[36mtune_hparams:0257  💬| \tprocess_noise: {'type': 'float', 'low': 100, 'high': 1000} \u001b[0m\n",
      "\u001b[36mtune_hparams:0257  💬| \tmeasurement_noise: {'type': 'float', 'low': 1, 'high': 100} \u001b[0m\n",
      "\u001b[36mtune_hparams:0257  💬| \tconfidence_scaler: {'type': 'logfloat', 'low': 0.001, 'high': 1000.0} \u001b[0m\n",
      "\u001b[36mtune_hparams:0255  💬| detection_model: \u001b[0m\n",
      "\u001b[36mtune_hparams:0257  💬| \tmax_det: {'type': 'int', 'low': 20, 'high': 50} \u001b[0m\n",
      "\u001b[36mtune_hparams:0257  💬| \tconf: {'type': 'float', 'low': 0.1, 'high': 0.6} \u001b[0m\n",
      "\u001b[36mtune_hparams:0257  💬| \tiou: {'type': 'float', 'low': 0.3, 'high': 0.5} \u001b[0m\n",
      "\u001b[36mtune_hparams:0255  💬| matching_fn: \u001b[0m\n",
      "\u001b[36mtune_hparams:0257  💬| \tgate: {'type': 'logfloat', 'low': 0.0001, 'high': 1} \u001b[0m\n"
     ]
    },
    {
     "name": "stderr",
     "output_type": "stream",
     "text": [
      "[I 2023-08-21 14:49:14,330] A new study created in memory with name: no-name-baffd161-43db-4814-8d65-dbed99038e62\n",
      "Tracking Progress:   0%|          | 0/100 [00:00<?, ?it/s]"
     ]
    },
    {
     "name": "stderr",
     "output_type": "stream",
     "text": [
      "Tracking Progress: 100%|██████████| 100/100 [00:44<00:00,  2.24it/s, Active: 1704, Dead: 0]\n",
      "[W 2023-08-21 14:49:59,072] Trial 0 failed with parameters: {'max_staleness': 81, 'min_length': 26, 'process_noise': 107.45501951679715, 'measurement_noise': 14.47835048351415, 'confidence_scaler': 20.61163322052972, 'max_det': 46, 'conf': 0.48191798620983384, 'iou': 0.46148564631937755, 'gate': 0.00021187769045602145} because of the following error: The value nan is not acceptable.\n",
      "[W 2023-08-21 14:49:59,073] Trial 0 failed with value nan.\n",
      "Tracking Progress: 100%|██████████| 100/100 [00:33<00:00,  2.96it/s, Active: 22, Dead: 0]\n",
      "[I 2023-08-21 14:50:33,332] Trial 1 finished with value: 0.672605557674046 and parameters: {'max_staleness': 79, 'min_length': 33, 'process_noise': 114.86857770421655, 'measurement_noise': 97.41671292185173, 'confidence_scaler': 14.990523117527346, 'max_det': 29, 'conf': 0.5964694336761054, 'iou': 0.30773303095524673, 'gate': 0.5593959171041554}. Best is trial 1 with value: 0.672605557674046.\n",
      "Tracking Progress: 100%|██████████| 100/100 [00:34<00:00,  2.92it/s, Active: 76, Dead: 6]\n",
      "[I 2023-08-21 14:51:08,026] Trial 2 finished with value: 0.49012696883173557 and parameters: {'max_staleness': 42, 'min_length': 22, 'process_noise': 189.46016805819926, 'measurement_noise': 31.2345719536671, 'confidence_scaler': 0.1533187596159073, 'max_det': 41, 'conf': 0.4713590856174691, 'iou': 0.42087058246153164, 'gate': 0.017923491188670263}. Best is trial 1 with value: 0.672605557674046.\n",
      "Tracking Progress: 100%|██████████| 100/100 [00:34<00:00,  2.92it/s, Active: 65, Dead: 0]\n",
      "[I 2023-08-21 14:51:42,666] Trial 3 finished with value: 0.5550200949914603 and parameters: {'max_staleness': 46, 'min_length': 59, 'process_noise': 583.7538967090054, 'measurement_noise': 68.3898337204985, 'confidence_scaler': 0.5655957468833475, 'max_det': 40, 'conf': 0.4902223916312901, 'iou': 0.39179235266883816, 'gate': 0.016646672110167793}. Best is trial 1 with value: 0.672605557674046.\n",
      "Tracking Progress: 100%|██████████| 100/100 [00:34<00:00,  2.94it/s, Active: 24, Dead: 0]\n",
      "[I 2023-08-21 14:52:17,208] Trial 4 finished with value: 0.7272012391795679 and parameters: {'max_staleness': 70, 'min_length': 80, 'process_noise': 771.3671783689742, 'measurement_noise': 4.131281955898294, 'confidence_scaler': 0.10322804443222602, 'max_det': 37, 'conf': 0.41699959275723997, 'iou': 0.43222379993994675, 'gate': 0.026828469275201567}. Best is trial 4 with value: 0.7272012391795679.\n",
      "Tracking Progress: 100%|██████████| 100/100 [00:34<00:00,  2.90it/s, Active: 87, Dead: 0]\n",
      "[I 2023-08-21 14:52:52,077] Trial 5 pruned. \n",
      "Tracking Progress: 100%|██████████| 100/100 [00:34<00:00,  2.92it/s, Active: 25, Dead: 0]\n",
      "[I 2023-08-21 14:53:26,824] Trial 6 pruned. \n",
      "Tracking Progress: 100%|██████████| 100/100 [00:34<00:00,  2.86it/s, Active: 137, Dead: 0]\n",
      "[I 2023-08-21 14:54:02,176] Trial 7 pruned. \n",
      "Tracking Progress: 100%|██████████| 100/100 [00:34<00:00,  2.89it/s, Active: 22, Dead: 0]\n",
      "[I 2023-08-21 14:54:37,196] Trial 8 finished with value: 0.722826489435095 and parameters: {'max_staleness': 31, 'min_length': 77, 'process_noise': 552.7464524051331, 'measurement_noise': 25.307681861610796, 'confidence_scaler': 1.6190280098477405, 'max_det': 46, 'conf': 0.4917345548523706, 'iou': 0.4781606695387891, 'gate': 0.022745772672614288}. Best is trial 4 with value: 0.7272012391795679.\n",
      "Tracking Progress: 100%|██████████| 100/100 [00:34<00:00,  2.94it/s, Active: 27, Dead: 0]\n",
      "[I 2023-08-21 14:55:11,702] Trial 9 pruned. \n"
     ]
    }
   ],
   "source": [
    "import optuna\n",
    "\n",
    "sampler = optuna.samplers.CmaEsSampler()\n",
    "pruner = optuna.pruners.HyperbandPruner()\n",
    "best_params, best_hota, study = tracker.tune_hparams(\n",
    "    frames_list=[frames],\n",
    "    bbdf_gt_list=[bbdf_gt],\n",
    "    n_trials=10,\n",
    "    reuse_detections=False,\n",
    "    hparam_search_space=hparam_search_space,\n",
    "    verbose=True,\n",
    "    sampler=sampler,\n",
    "    pruner=pruner,\n",
    "    return_study=True,\n",
    ")"
   ]
  },
  {
   "cell_type": "code",
   "execution_count": 10,
   "metadata": {},
   "outputs": [
    {
     "name": "stdout",
     "output_type": "stream",
     "text": [
      "Best HOTA: 0.7272012391795679\n",
      "max_staleness: 70\n",
      "min_length: 80\n",
      "process_noise: 771.3671783689742\n",
      "measurement_noise: 4.131281955898294\n",
      "confidence_scaler: 0.10322804443222602\n",
      "max_det: 37\n",
      "conf: 0.41699959275723997\n",
      "iou: 0.43222379993994675\n",
      "gate: 0.026828469275201567\n"
     ]
    }
   ],
   "source": [
    "print(f\"Best HOTA: {best_hota}\")\n",
    "for key in best_params:\n",
    "    print(f\"{key}: {best_params[key]}\")"
   ]
  },
  {
   "cell_type": "code",
   "execution_count": 11,
   "metadata": {},
   "outputs": [
    {
     "name": "stderr",
     "output_type": "stream",
     "text": [
      "/tmp/40437371.1.gpu/ipykernel_3186863/1036994904.py:1: ExperimentalWarning: plot_param_importances is experimental (supported from v2.2.0). The interface can change in the future.\n",
      "  optuna.visualization.matplotlib.plot_param_importances(study)\n"
     ]
    },
    {
     "data": {
      "text/plain": [
       "<Axes: title={'center': 'Hyperparameter Importances'}, xlabel='Importance for Objective Value', ylabel='Hyperparameter'>"
      ]
     },
     "execution_count": 11,
     "metadata": {},
     "output_type": "execute_result"
    },
    {
     "data": {
      "image/png": "[encoded data removed]",
      "text/plain": [
       "<Figure size 640x480 with 1 Axes>"
      ]
     },
     "metadata": {},
     "output_type": "display_data"
    }
   ],
   "source": [
    "optuna.visualization.matplotlib.plot_param_importances(study)"
   ]
  },
  {
   "cell_type": "code",
   "execution_count": 12,
   "metadata": {},
   "outputs": [
    {
     "name": "stderr",
     "output_type": "stream",
     "text": [
      "/tmp/40437371.1.gpu/ipykernel_3186863/1455980257.py:1: ExperimentalWarning: plot_optimization_history is experimental (supported from v2.2.0). The interface can change in the future.\n",
      "  optuna.visualization.matplotlib.plot_optimization_history(study)\n"
     ]
    },
    {
     "data": {
      "text/plain": [
       "<Axes: title={'center': 'Optimization History Plot'}, xlabel='Trial', ylabel='Objective Value'>"
      ]
     },
     "execution_count": 12,
     "metadata": {},
     "output_type": "execute_result"
    },
    {
     "data": {
      "image/png": "[encoded data removed]",
      "text/plain": [
       "<Figure size 640x480 with 1 Axes>"
      ]
     },
     "metadata": {},
     "output_type": "display_data"
    }
   ],
   "source": [
    "optuna.visualization.matplotlib.plot_optimization_history(study)"
   ]
  },
  {
   "cell_type": "code",
   "execution_count": 13,
   "metadata": {},
   "outputs": [
    {
     "name": "stderr",
     "output_type": "stream",
     "text": [
      "Tracking Progress: 100%|██████████| 100/100 [00:34<00:00,  2.88it/s, Active: 24, Dead: 0]\n"
     ]
    },
    {
     "name": "stdout",
     "output_type": "stream",
     "text": [
      "HOTA score: 0.73\n"
     ]
    },
    {
     "name": "stderr",
     "output_type": "stream",
     "text": [
      "Writing video: 100it [00:10,  9.90it/s]\n"
     ]
    }
   ],
   "source": [
    "det_model = slk.detection_model.load(\n",
    "    model_name='yolov8',\n",
    "    model=root/'models/yolov8/soccer_top_view-model=yolov8x-imgsz=2048.pt',\n",
    "    conf=best_params['conf'],\n",
    "    iou=best_params['iou'],\n",
    "    imgsz=2048,\n",
    "    device=0,\n",
    "    classes=0,\n",
    "    augment=True,\n",
    "    max_det=best_params['max_det'],\n",
    ")\n",
    "\n",
    "motion_model = slk.motion_model.load(\n",
    "    model_name='kalmanfilter',\n",
    "    dt=1/30,\n",
    "    process_noise=best_params['process_noise'],\n",
    "    measurement_noise=best_params['measurement_noise'],\n",
    "    confidence_scaler=best_params['confidence_scaler'],\n",
    ")\n",
    "\n",
    "matching_fn = slk.matching.SimpleMatchingFunction(\n",
    "    metric=slk.metrics.EuclideanCMM(use_pred_box=True),\n",
    "    gate=best_params['gate'],\n",
    ")\n",
    "\n",
    "tracker = SORTTracker(\n",
    "    detection_model=det_model,\n",
    "    motion_model=motion_model,\n",
    "    matching_fn=matching_fn,\n",
    "    max_staleness=best_params['max_staleness'],\n",
    "    min_length=best_params['min_length'],\n",
    ")\n",
    "\n",
    "bbdf = tracker.track(frames)\n",
    "score = hota_score(bboxes_track=bbdf, bboxes_gt=bbdf_gt)[\"HOTA\"]\n",
    "\n",
    "print(f'HOTA score: {score:.2f}')\n",
    "bbdf.visualize_frames(cam.video_path, root/'notebooks/02_user_guide/assets/sort_tuned.mp4')"
   ]
  },
  {
   "cell_type": "code",
   "execution_count": 14,
   "metadata": {},
   "outputs": [
    {
     "name": "stdout",
     "output_type": "stream",
     "text": [
      "\u001b[36mtune_hparams:0253  💬| Hyperparameter search space: \u001b[0m\n",
      "\u001b[36mtune_hparams:0255  💬| self: \u001b[0m\n",
      "\u001b[36mtune_hparams:0257  💬| \tmax_staleness: {'type': 'int', 'low': 10, 'high': 100} \u001b[0m\n",
      "\u001b[36mtune_hparams:0257  💬| \tmin_length: {'type': 'int', 'low': 10, 'high': 100} \u001b[0m\n",
      "\u001b[36mtune_hparams:0255  💬| motion_model: \u001b[0m\n",
      "\u001b[36mtune_hparams:0257  💬| \tprocess_noise: {'type': 'float', 'low': 100, 'high': 1000} \u001b[0m\n",
      "\u001b[36mtune_hparams:0257  💬| \tmeasurement_noise: {'type': 'float', 'low': 1, 'high': 100} \u001b[0m\n",
      "\u001b[36mtune_hparams:0257  💬| \tconfidence_scaler: {'type': 'logfloat', 'low': 0.001, 'high': 1000.0} \u001b[0m\n",
      "\u001b[36mtune_hparams:0255  💬| matching_fn: \u001b[0m\n",
      "\u001b[36mtune_hparams:0257  💬| \tgate: {'type': 'logfloat', 'low': 0.0001, 'high': 1} \u001b[0m\n"
     ]
    },
    {
     "name": "stderr",
     "output_type": "stream",
     "text": [
      "Detecting frames for reuse:   0%|          | 0/100 [00:00<?, ?it/s]"
     ]
    },
    {
     "name": "stderr",
     "output_type": "stream",
     "text": [
      "Detecting frames for reuse: 100%|██████████| 100/100 [00:33<00:00,  3.01it/s]\n",
      "Tracking Progress: 100%|██████████| 100/100 [00:01<00:00, 61.70it/s, Active: 238, Dead: 0]\n",
      "Tracking Progress: 100%|██████████| 100/100 [00:00<00:00, 176.30it/s, Active: 23, Dead: 0]\n",
      "Tracking Progress: 100%|██████████| 100/100 [00:01<00:00, 59.06it/s, Active: 98, Dead: 0]\n",
      "Tracking Progress: 100%|██████████| 100/100 [00:00<00:00, 121.71it/s, Active: 61, Dead: 1]\n",
      "Tracking Progress: 100%|██████████| 100/100 [00:00<00:00, 136.73it/s, Active: 60, Dead: 0]\n",
      "Tracking Progress: 100%|██████████| 100/100 [00:01<00:00, 69.80it/s, Active: 185, Dead: 0]\n",
      "Tracking Progress: 100%|██████████| 100/100 [00:06<00:00, 14.83it/s, Active: 1049, Dead: 0]\n",
      "[W 2023-08-21 14:56:52,703] Trial 6 failed with parameters: {'max_staleness': 74, 'min_length': 59, 'process_noise': 595.8482788589121, 'measurement_noise': 56.546781660708405, 'confidence_scaler': 0.34673231514456454, 'gate': 0.001185062382405882} because of the following error: The value nan is not acceptable.\n",
      "[W 2023-08-21 14:56:52,703] Trial 6 failed with value nan.\n",
      "Tracking Progress: 100%|██████████| 100/100 [00:01<00:00, 97.94it/s, Active: 113, Dead: 0]\n",
      "Tracking Progress: 100%|██████████| 100/100 [00:00<00:00, 183.33it/s, Active: 31, Dead: 7]\n",
      "Tracking Progress: 100%|██████████| 100/100 [00:00<00:00, 200.70it/s, Active: 23, Dead: 0]\n",
      "Tracking Progress: 100%|██████████| 100/100 [00:00<00:00, 109.76it/s, Active: 103, Dead: 0]\n",
      "Tracking Progress: 100%|██████████| 100/100 [00:02<00:00, 45.18it/s, Active: 300, Dead: 0]\n",
      "Tracking Progress: 100%|██████████| 100/100 [00:04<00:00, 23.92it/s, Active: 545, Dead: 0]\n",
      "[W 2023-08-21 14:57:03,571] Trial 12 failed with parameters: {'max_staleness': 41, 'min_length': 53, 'process_noise': 488.7403304127384, 'measurement_noise': 48.68586516456558, 'confidence_scaler': 0.06020992490680793, 'gate': 0.0015571379456995045} because of the following error: The value nan is not acceptable.\n",
      "[W 2023-08-21 14:57:03,572] Trial 12 failed with value nan.\n",
      "Tracking Progress: 100%|██████████| 100/100 [00:05<00:00, 16.91it/s, Active: 847, Dead: 0]\n",
      "[W 2023-08-21 14:57:09,515] Trial 13 failed with parameters: {'max_staleness': 54, 'min_length': 45, 'process_noise': 659.3017392260406, 'measurement_noise': 48.795716730481146, 'confidence_scaler': 0.046657187194132574, 'gate': 0.001121726102409233} because of the following error: The value nan is not acceptable.\n",
      "[W 2023-08-21 14:57:09,516] Trial 13 failed with value nan.\n",
      "Tracking Progress: 100%|██████████| 100/100 [00:00<00:00, 207.29it/s, Active: 22, Dead: 0]\n",
      "Tracking Progress: 100%|██████████| 100/100 [00:00<00:00, 198.84it/s, Active: 23, Dead: 0]\n",
      "Tracking Progress: 100%|██████████| 100/100 [00:07<00:00, 12.63it/s, Active: 1147, Dead: 0]\n",
      "[W 2023-08-21 14:57:19,401] Trial 16 failed with parameters: {'max_staleness': 64, 'min_length': 54, 'process_noise': 501.6554648656884, 'measurement_noise': 72.7681484385852, 'confidence_scaler': 0.08897222837056855, 'gate': 0.0007174661796908262} because of the following error: The value nan is not acceptable.\n",
      "[W 2023-08-21 14:57:19,402] Trial 16 failed with value nan.\n",
      "Tracking Progress: 100%|██████████| 100/100 [00:01<00:00, 54.28it/s, Active: 244, Dead: 0]\n",
      "Tracking Progress: 100%|██████████| 100/100 [00:00<00:00, 102.27it/s, Active: 108, Dead: 0]\n",
      "Tracking Progress: 100%|██████████| 100/100 [00:06<00:00, 15.87it/s, Active: 1015, Dead: 0]\n",
      "[W 2023-08-21 14:57:29,129] Trial 19 failed with parameters: {'max_staleness': 68, 'min_length': 67, 'process_noise': 470.2381528210212, 'measurement_noise': 15.87959638990715, 'confidence_scaler': 64.60147991039429, 'gate': 0.0010375284777018796} because of the following error: The value nan is not acceptable.\n",
      "[W 2023-08-21 14:57:29,129] Trial 19 failed with value nan.\n",
      "Tracking Progress: 100%|██████████| 100/100 [00:01<00:00, 88.16it/s, Active: 130, Dead: 0]\n",
      "Tracking Progress: 100%|██████████| 100/100 [00:00<00:00, 208.28it/s, Active: 23, Dead: 0]\n",
      "Tracking Progress: 100%|██████████| 100/100 [00:02<00:00, 37.93it/s, Active: 412, Dead: 0]\n",
      "Tracking Progress: 100%|██████████| 100/100 [00:00<00:00, 197.94it/s, Active: 23, Dead: 0]\n",
      "Tracking Progress: 100%|██████████| 100/100 [00:00<00:00, 202.65it/s, Active: 23, Dead: 0]\n",
      "Tracking Progress: 100%|██████████| 100/100 [00:01<00:00, 56.76it/s, Active: 215, Dead: 0]\n",
      "Tracking Progress: 100%|██████████| 100/100 [00:05<00:00, 19.21it/s, Active: 799, Dead: 0]\n",
      "[W 2023-08-21 14:57:43,462] Trial 26 failed with parameters: {'max_staleness': 67, 'min_length': 64, 'process_noise': 655.7886955569305, 'measurement_noise': 33.66451850516402, 'confidence_scaler': 0.18299602330548034, 'gate': 0.0016359709866780351} because of the following error: The value nan is not acceptable.\n",
      "[W 2023-08-21 14:57:43,463] Trial 26 failed with value nan.\n",
      "Tracking Progress: 100%|██████████| 100/100 [00:01<00:00, 66.76it/s, Active: 187, Dead: 0]\n",
      "Tracking Progress: 100%|██████████| 100/100 [00:00<00:00, 189.85it/s, Active: 28, Dead: 0]\n",
      "Tracking Progress: 100%|██████████| 100/100 [00:02<00:00, 38.20it/s, Active: 365, Dead: 0]\n",
      "Tracking Progress: 100%|██████████| 100/100 [00:00<00:00, 147.02it/s, Active: 49, Dead: 3]\n",
      "Tracking Progress: 100%|██████████| 100/100 [00:00<00:00, 203.01it/s, Active: 22, Dead: 0]\n",
      "Tracking Progress: 100%|██████████| 100/100 [00:01<00:00, 74.66it/s, Active: 176, Dead: 0]\n",
      "Tracking Progress: 100%|██████████| 100/100 [00:00<00:00, 200.36it/s, Active: 22, Dead: 0]\n",
      "Tracking Progress: 100%|██████████| 100/100 [00:00<00:00, 204.84it/s, Active: 23, Dead: 0]\n",
      "Tracking Progress: 100%|██████████| 100/100 [00:00<00:00, 195.53it/s, Active: 23, Dead: 0]\n",
      "Tracking Progress: 100%|██████████| 100/100 [00:00<00:00, 201.15it/s, Active: 29, Dead: 0]\n",
      "Tracking Progress: 100%|██████████| 100/100 [00:00<00:00, 199.47it/s, Active: 23, Dead: 0]\n",
      "Tracking Progress: 100%|██████████| 100/100 [00:00<00:00, 194.06it/s, Active: 24, Dead: 0]\n",
      "Tracking Progress: 100%|██████████| 100/100 [00:00<00:00, 207.44it/s, Active: 22, Dead: 0]\n",
      "Tracking Progress: 100%|██████████| 100/100 [00:00<00:00, 197.88it/s, Active: 23, Dead: 0]\n",
      "Tracking Progress: 100%|██████████| 100/100 [00:00<00:00, 164.58it/s, Active: 52, Dead: 0]\n",
      "Tracking Progress: 100%|██████████| 100/100 [00:04<00:00, 24.30it/s, Active: 655, Dead: 0]\n",
      "Tracking Progress: 100%|██████████| 100/100 [00:00<00:00, 201.02it/s, Active: 22, Dead: 0]\n",
      "Tracking Progress: 100%|██████████| 100/100 [00:00<00:00, 191.22it/s, Active: 23, Dead: 0]\n",
      "Tracking Progress: 100%|██████████| 100/100 [00:00<00:00, 210.80it/s, Active: 22, Dead: 0]\n",
      "Tracking Progress: 100%|██████████| 100/100 [00:00<00:00, 195.07it/s, Active: 23, Dead: 0]\n",
      "Tracking Progress: 100%|██████████| 100/100 [00:00<00:00, 199.30it/s, Active: 23, Dead: 0]\n",
      "Tracking Progress: 100%|██████████| 100/100 [00:00<00:00, 101.14it/s, Active: 105, Dead: 0]\n",
      "Tracking Progress: 100%|██████████| 100/100 [00:00<00:00, 207.48it/s, Active: 23, Dead: 0]\n",
      "Tracking Progress: 100%|██████████| 100/100 [00:00<00:00, 192.81it/s, Active: 24, Dead: 0]\n",
      "Tracking Progress: 100%|██████████| 100/100 [00:00<00:00, 102.74it/s, Active: 100, Dead: 0]\n",
      "Tracking Progress: 100%|██████████| 100/100 [00:00<00:00, 179.78it/s, Active: 35, Dead: 0]\n",
      "Tracking Progress: 100%|██████████| 100/100 [00:00<00:00, 180.44it/s, Active: 23, Dead: 0]\n",
      "Tracking Progress: 100%|██████████| 100/100 [00:00<00:00, 167.02it/s, Active: 30, Dead: 0]\n",
      "Tracking Progress: 100%|██████████| 100/100 [00:00<00:00, 187.01it/s, Active: 23, Dead: 0]\n",
      "Tracking Progress: 100%|██████████| 100/100 [00:00<00:00, 121.42it/s, Active: 78, Dead: 0]\n",
      "Tracking Progress: 100%|██████████| 100/100 [00:00<00:00, 210.69it/s, Active: 23, Dead: 0]\n",
      "Tracking Progress: 100%|██████████| 100/100 [00:00<00:00, 199.77it/s, Active: 22, Dead: 0]\n",
      "Tracking Progress: 100%|██████████| 100/100 [00:00<00:00, 202.47it/s, Active: 23, Dead: 0]\n",
      "Tracking Progress: 100%|██████████| 100/100 [00:00<00:00, 177.77it/s, Active: 23, Dead: 0]\n",
      "Tracking Progress: 100%|██████████| 100/100 [00:02<00:00, 34.13it/s, Active: 449, Dead: 0]\n",
      "[W 2023-08-21 14:58:27,540] Trial 61 failed with parameters: {'max_staleness': 64, 'min_length': 71, 'process_noise': 746.9626128286629, 'measurement_noise': 27.764393322094683, 'confidence_scaler': 3.933391408696931, 'gate': 0.002971168012393836} because of the following error: The value nan is not acceptable.\n",
      "[W 2023-08-21 14:58:27,540] Trial 61 failed with value nan.\n",
      "Tracking Progress: 100%|██████████| 100/100 [00:00<00:00, 167.61it/s, Active: 27, Dead: 0]\n",
      "Tracking Progress: 100%|██████████| 100/100 [00:00<00:00, 177.48it/s, Active: 23, Dead: 0]\n",
      "Tracking Progress: 100%|██████████| 100/100 [00:00<00:00, 177.45it/s, Active: 23, Dead: 0]\n",
      "Tracking Progress: 100%|██████████| 100/100 [00:00<00:00, 169.62it/s, Active: 24, Dead: 0]\n",
      "Tracking Progress: 100%|██████████| 100/100 [00:00<00:00, 145.29it/s, Active: 45, Dead: 0]\n",
      "Tracking Progress: 100%|██████████| 100/100 [00:00<00:00, 177.85it/s, Active: 23, Dead: 0]\n",
      "Tracking Progress: 100%|██████████| 100/100 [00:00<00:00, 172.94it/s, Active: 23, Dead: 0]\n",
      "Tracking Progress: 100%|██████████| 100/100 [00:00<00:00, 172.30it/s, Active: 22, Dead: 0]\n",
      "Tracking Progress: 100%|██████████| 100/100 [00:00<00:00, 113.82it/s, Active: 73, Dead: 0]\n",
      "Tracking Progress: 100%|██████████| 100/100 [00:00<00:00, 177.51it/s, Active: 23, Dead: 0]\n",
      "Tracking Progress: 100%|██████████| 100/100 [00:00<00:00, 138.35it/s, Active: 23, Dead: 0]\n",
      "Tracking Progress: 100%|██████████| 100/100 [00:00<00:00, 196.35it/s, Active: 23, Dead: 0]\n",
      "Tracking Progress: 100%|██████████| 100/100 [00:00<00:00, 203.33it/s, Active: 23, Dead: 0]\n",
      "Tracking Progress: 100%|██████████| 100/100 [00:00<00:00, 198.24it/s, Active: 23, Dead: 0]\n",
      "Tracking Progress: 100%|██████████| 100/100 [00:00<00:00, 208.04it/s, Active: 23, Dead: 0]\n",
      "Tracking Progress: 100%|██████████| 100/100 [00:00<00:00, 199.60it/s, Active: 23, Dead: 0]\n",
      "Tracking Progress: 100%|██████████| 100/100 [00:00<00:00, 168.39it/s, Active: 35, Dead: 0]\n",
      "Tracking Progress: 100%|██████████| 100/100 [00:00<00:00, 208.05it/s, Active: 23, Dead: 0]\n",
      "Tracking Progress: 100%|██████████| 100/100 [00:00<00:00, 197.96it/s, Active: 22, Dead: 0]\n",
      "Tracking Progress: 100%|██████████| 100/100 [00:00<00:00, 202.01it/s, Active: 23, Dead: 0]\n",
      "Tracking Progress: 100%|██████████| 100/100 [00:00<00:00, 156.06it/s, Active: 48, Dead: 0]\n",
      "Tracking Progress: 100%|██████████| 100/100 [00:00<00:00, 194.85it/s, Active: 24, Dead: 0]\n",
      "Tracking Progress: 100%|██████████| 100/100 [00:00<00:00, 201.83it/s, Active: 25, Dead: 0]\n",
      "Tracking Progress: 100%|██████████| 100/100 [00:00<00:00, 199.33it/s, Active: 23, Dead: 0]\n",
      "Tracking Progress: 100%|██████████| 100/100 [00:00<00:00, 192.23it/s, Active: 25, Dead: 0]\n",
      "Tracking Progress: 100%|██████████| 100/100 [00:00<00:00, 199.20it/s, Active: 23, Dead: 0]\n",
      "Tracking Progress: 100%|██████████| 100/100 [00:00<00:00, 199.60it/s, Active: 23, Dead: 0]\n",
      "Tracking Progress: 100%|██████████| 100/100 [00:00<00:00, 205.39it/s, Active: 23, Dead: 0]\n",
      "Tracking Progress: 100%|██████████| 100/100 [00:00<00:00, 199.30it/s, Active: 22, Dead: 0]\n",
      "Tracking Progress: 100%|██████████| 100/100 [00:00<00:00, 197.83it/s, Active: 23, Dead: 0]\n",
      "Tracking Progress: 100%|██████████| 100/100 [00:00<00:00, 210.87it/s, Active: 23, Dead: 0]\n",
      "Tracking Progress: 100%|██████████| 100/100 [00:00<00:00, 198.76it/s, Active: 23, Dead: 0]\n",
      "Tracking Progress: 100%|██████████| 100/100 [00:00<00:00, 204.81it/s, Active: 23, Dead: 0]\n",
      "Tracking Progress: 100%|██████████| 100/100 [00:00<00:00, 174.22it/s, Active: 23, Dead: 0]\n",
      "Tracking Progress: 100%|██████████| 100/100 [00:00<00:00, 190.32it/s, Active: 24, Dead: 0]\n",
      "Tracking Progress: 100%|██████████| 100/100 [00:00<00:00, 208.18it/s, Active: 23, Dead: 0]\n",
      "Tracking Progress: 100%|██████████| 100/100 [00:00<00:00, 194.48it/s, Active: 24, Dead: 0]\n",
      "Tracking Progress: 100%|██████████| 100/100 [00:00<00:00, 197.04it/s, Active: 23, Dead: 0]\n"
     ]
    },
    {
     "name": "stdout",
     "output_type": "stream",
     "text": [
      "Best HOTA: 0.7525460303046649\n",
      "max_staleness: 98\n",
      "min_length: 71\n",
      "process_noise: 518.3539723369638\n",
      "measurement_noise: 64.0411211460587\n",
      "confidence_scaler: 17.218073222874676\n",
      "gate: 0.1264365016741472\n"
     ]
    }
   ],
   "source": [
    "hparam_search_space = {\n",
    "    'self': {\n",
    "        'max_staleness': {'type': 'int', 'low': 10, 'high': 100},\n",
    "        'min_length': {'type': 'int', 'low': 10, 'high': 100},\n",
    "    },\n",
    "    'motion_model':{\n",
    "        'process_noise': {'type': 'float', 'low': 100,'high': 1000},\n",
    "        'measurement_noise': {'type': 'float','low': 1,'high': 100},\n",
    "        'confidence_scaler': {'type': 'logfloat','low': 1e-3, 'high': 1e3}\n",
    "    },\n",
    "    'matching_fn':{\n",
    "        'gate': {'type': 'logfloat', 'low': 1e-4, 'high': 1}\n",
    "    }\n",
    "}\n",
    "\n",
    "sampler = optuna.samplers.CmaEsSampler()\n",
    "pruner = optuna.pruners.HyperbandPruner()\n",
    "best_params, best_hota, study = tracker.tune_hparams(\n",
    "    frames_list=[frames],\n",
    "    bbdf_gt_list=[bbdf_gt],\n",
    "    n_trials=100,\n",
    "    reuse_detections=True, # Changed to TRUE to reuse detections\n",
    "    hparam_search_space=hparam_search_space,\n",
    "    verbose=False, # Changed to False to quiet down the output\n",
    "    sampler=sampler,\n",
    "    pruner=pruner,\n",
    "    return_study=True,\n",
    ")\n",
    "print(f\"Best HOTA: {best_hota}\")\n",
    "for key in best_params:\n",
    "    print(f\"{key}: {best_params[key]}\")"
   ]
  }
 ],
 "metadata": {
  "kernelspec": {
   "display_name": "Python 3 (ipykernel)",
   "language": "python",
   "name": "python3"
  },
  "language_info": {
   "codemirror_mode": {
    "name": "ipython",
    "version": 3
   },
   "file_extension": ".py",
   "mimetype": "text/x-python",
   "name": "python",
   "nbconvert_exporter": "python",
   "pygments_lexer": "ipython3",
   "version": "3.10.12"
  },
  "orig_nbformat": 4
 },
 "nbformat": 4,
 "nbformat_minor": 2
}
