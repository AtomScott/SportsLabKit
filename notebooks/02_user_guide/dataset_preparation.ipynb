{
 "cells": [
  {
   "attachments": {},
   "cell_type": "markdown",
   "metadata": {},
   "source": [
    "# Dataset Preparation\n",
    "\n",
    "Here we show how to download datasets that integrate with `SportsLabKit`."
   ]
  },
  {
   "attachments": {},
   "cell_type": "markdown",
   "metadata": {},
   "source": [
    "## SoccerTrack"
   ]
  },
  {
   "attachments": {},
   "cell_type": "markdown",
   "metadata": {},
   "source": [
    "The SoccerTrack Dataset is available to download from Kaggle. \n",
    "\n",
    "- [SoccerTrack (Kaggle)](https://www.kaggle.com/datasets/atomscott/soccertrack)\n",
    "\n",
    "![](assets/kaggle_screenshot.webp)\n",
    "\n",
    "> You will need a Kaggle account to download the dataset!"
   ]
  },
  {
   "cell_type": "markdown",
   "metadata": {},
   "source": [
    "### How to download from Kaggle using `KaggleDownloader`"
   ]
  },
  {
   "cell_type": "markdown",
   "metadata": {},
   "source": [
    "SoccerTrack a helper class called `KaggleDownloader` to download the dataset from directly from Kaggle. However, you will need to authenticate your kaggle ccount first. To do so, follow the intructions by the `KaggleDownloader` class at initialisation."
   ]
  },
  {
   "cell_type": "code",
   "execution_count": 1,
   "metadata": {},
   "outputs": [
    {
     "name": "stdout",
     "output_type": "stream",
     "text": [
      "\u001b[36mauthenticate:0172  💬| Authentication successful. \u001b[0m\n"
     ]
    }
   ],
   "source": [
    "import sportslabkit as slk\n",
    "\n",
    "dl = slk.datasets.KaggleDownloader()"
   ]
  },
  {
   "cell_type": "markdown",
   "metadata": {},
   "source": [
    "Without a Kaggle account you will not be able to download the dataset with this method. After authenticating your Kaggle account, you can download the dataset by calling the `download()` method. The dataset will be downloaded to the directory specified by the `path` argument. The default value is `/path/to/soccertrack/soccertrack/datasets/'. "
   ]
  },
  {
   "cell_type": "code",
   "execution_count": 2,
   "metadata": {},
   "outputs": [],
   "source": [
    "%%script false --no-raise-error # comment out this line to run this cell\n",
    "\n",
    "dl = KaggleDownloader()\n",
    "\n",
    "path = dl.download(force=False)"
   ]
  },
  {
   "cell_type": "markdown",
   "metadata": {},
   "source": [
    "It is also possible to download files individually by specifying the `file` argument. The default value is `None`, which will download all files. The `file` must be a string representing the name of the file/folder to download. For example, to download the top-view dataset, you can call `download(file='topview')`. "
   ]
  },
  {
   "cell_type": "code",
   "execution_count": 3,
   "metadata": {},
   "outputs": [],
   "source": [
    "%%script false --no-raise-error # comment out this line to run this cell\n",
    "from sportslabkit.logger import show_df # This just makes the df viewable in the notebook.\n",
    "\n",
    "save_path = dl.download(file_name='wide_view/annotations/F_20200220_1_0000_0030.csv', path='.', force=True)\n",
    "df = slk.load_df(save_path)\n",
    "\n",
    "show_df(df.head())"
   ]
  },
  {
   "cell_type": "markdown",
   "metadata": {},
   "source": [
    "The `get_path` method returns the path to the downloaded dataset. A usage example is shown below."
   ]
  },
  {
   "cell_type": "code",
   "execution_count": 4,
   "metadata": {},
   "outputs": [
    {
     "name": "stdout",
     "output_type": "stream",
     "text": [
      "Available keys:\n",
      " - GNSS\n",
      " - top_view\n",
      " - wide_view\n",
      " - drone_keypoints\n",
      " - fisheye_keypoints\n",
      " - gnss_keypoints\n"
     ]
    }
   ],
   "source": [
    "# show the available datasets\n",
    "slk.datasets.get_path()\n",
    "\n",
    "# show the path to the dataset\n",
    "wide_view_path = slk.datasets.get_path('wide_view')\n",
    "\n",
    "# get a csv-mp4 pair from the wide-view dataset\n",
    "wide_view_csv = slk.datasets.get_path('wide_view/videos/F_20200220_1_0000_0030.csv')\n",
    "wide_view_mp4 = slk.datasets.get_path('wide_view/annotations/F_20200220_1_0000_0030.mp4')"
   ]
  },
  {
   "attachments": {},
   "cell_type": "markdown",
   "metadata": {},
   "source": [
    "If the path you specify is invalid, the `get_path()` method will raise a `ValueError`."
   ]
  },
  {
   "cell_type": "code",
   "execution_count": 5,
   "metadata": {},
   "outputs": [
    {
     "ename": "ValueError",
     "evalue": "The dataset 'imagenet' is not available. Available datasets are GNSS, top_view, wide_view, drone_keypoints, fisheye_keypoints, gnss_keypoints",
     "output_type": "error",
     "traceback": [
      "\u001b[0;31m---------------------------------------------------------------------------\u001b[0m",
      "\u001b[0;31mValueError\u001b[0m                                Traceback (most recent call last)",
      "Cell \u001b[0;32mIn[5], line 1\u001b[0m\n\u001b[0;32m----> 1\u001b[0m wide_view_path \u001b[39m=\u001b[39m slk\u001b[39m.\u001b[39;49mdatasets\u001b[39m.\u001b[39;49mget_path(\u001b[39m'\u001b[39;49m\u001b[39mimagenet\u001b[39;49m\u001b[39m'\u001b[39;49m)\n",
      "File \u001b[0;32m~/Github/SoccerTrack/sportslabkit/datasets/__init__.py:62\u001b[0m, in \u001b[0;36mget_path\u001b[0;34m(dataset)\u001b[0m\n\u001b[1;32m     60\u001b[0m msg \u001b[39m=\u001b[39m \u001b[39mf\u001b[39m\u001b[39m\"\u001b[39m\u001b[39mThe dataset \u001b[39m\u001b[39m'\u001b[39m\u001b[39m{\u001b[39;00mdataset\u001b[39m}\u001b[39;00m\u001b[39m'\u001b[39m\u001b[39m is not available. \u001b[39m\u001b[39m\"\u001b[39m\n\u001b[1;32m     61\u001b[0m msg \u001b[39m+\u001b[39m\u001b[39m=\u001b[39m \u001b[39mf\u001b[39m\u001b[39m\"\u001b[39m\u001b[39mAvailable datasets are \u001b[39m\u001b[39m{\u001b[39;00m\u001b[39m'\u001b[39m\u001b[39m, \u001b[39m\u001b[39m'\u001b[39m\u001b[39m.\u001b[39mjoin(available)\u001b[39m}\u001b[39;00m\u001b[39m\"\u001b[39m\n\u001b[0;32m---> 62\u001b[0m \u001b[39mraise\u001b[39;00m \u001b[39mValueError\u001b[39;00m(msg)\n",
      "\u001b[0;31mValueError\u001b[0m: The dataset 'imagenet' is not available. Available datasets are GNSS, top_view, wide_view, drone_keypoints, fisheye_keypoints, gnss_keypoints"
     ]
    }
   ],
   "source": [
    "wide_view_path = slk.datasets.get_path('imagenet')"
   ]
  }
 ],
 "metadata": {
  "kernelspec": {
   "display_name": "Python 3.8.12 ('soccertrack')",
   "language": "python",
   "name": "python3"
  },
  "language_info": {
   "codemirror_mode": {
    "name": "ipython",
    "version": 3
   },
   "file_extension": ".py",
   "mimetype": "text/x-python",
   "name": "python",
   "nbconvert_exporter": "python",
   "pygments_lexer": "ipython3",
   "version": "3.10.12"
  },
  "orig_nbformat": 4,
  "vscode": {
   "interpreter": {
    "hash": "86fd77fde5270c410244ce73bc0b68c8749dec758c13de6d70fa5ce033ba65ff"
   }
  }
 },
 "nbformat": 4,
 "nbformat_minor": 2
}
