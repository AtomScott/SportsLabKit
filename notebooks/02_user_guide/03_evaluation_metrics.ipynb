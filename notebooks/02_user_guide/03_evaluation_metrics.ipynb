{
 "cells": [
  {
   "attachments": {},
   "cell_type": "markdown",
   "metadata": {},
   "source": [
    "# Evaluation Metrics"
   ]
  },
  {
   "attachments": {},
   "cell_type": "markdown",
   "metadata": {},
   "source": [
    ":::{note}\n",
    "**Work in progress**, we are planning to add more metrics but that process may result in API changes.\n",
    ":::"
   ]
  },
  {
   "attachments": {},
   "cell_type": "markdown",
   "metadata": {},
   "source": [
    "## Tracking"
   ]
  },
  {
   "attachments": {},
   "cell_type": "markdown",
   "metadata": {},
   "source": [
    "Multi-Object Tracking (MOT) is notoriously difficult to evaluate accurately. While commonly used metrics such as MOTA tend to overemphasize accurate detection, IDF1 and AssA tend to overemphasize association quality. Consequently, since its proposal, Higher-Order Tracking Accuracy (HOTA) has been adopted as the primary metric in several recent benchmarks (BDD100K, KITTI, DanceTrack). HOTA seeks to balance detection and association by combining a DetA and an AssA."
   ]
  },
  {
   "cell_type": "code",
   "execution_count": 1,
   "metadata": {},
   "outputs": [],
   "source": [
    "%load_ext autoreload\n",
    "%autoreload 2"
   ]
  },
  {
   "cell_type": "code",
   "execution_count": 2,
   "metadata": {},
   "outputs": [],
   "source": [
    "import sportslabkit as slk\n",
    "\n",
    "dataset_path = slk.datasets.get_path('top_view')\n",
    "path_to_csv = sorted(dataset_path.glob('annotations/*.csv'))[0]\n",
    "\n",
    "bbdf = slk.load_df(path_to_csv) # We will use this as ground truth\n",
    "gt_bbdf = bbdf[:5]\n",
    "pred_bbdf = bbdf[1:5]"
   ]
  },
  {
   "attachments": {},
   "cell_type": "markdown",
   "metadata": {},
   "source": [
    "### MOTA\n",
    "\n",
    "**Multiple Object Tracking Accuracy (MOTA)** is a measure of the overall accuracy of the tracker. This metric has been widely adopted in the literature and considers three types of errors: \n",
    "\n",
    "1. missed detections\n",
    "2. false positives\n",
    "3. identity switches\n",
    "\n",
    "The MOTA score is calculated as the sum of these three types of errors, normalized by the total number of ground truth objects. A higher MOTA score indicates a better performance of the tracker.\n",
    "\n",
    "\n",
    "\\begin{equation*}\n",
    "MOTA = 1 - \\frac{ \\sum_{t} (m_t + fp_t + mme_t)}{\\sum_{{ }_t} {g_t}} \n",
    "\\end{equation*}\n",
    "\n",
    "* $m_t$:  The number of misses at time $t$\n",
    "* $fp_t$:  The number of false positives\n",
    "* $mme_t$:  The number of identity switches\n",
    "* $g_t$: The number of objects present at time $t$\n",
    "\n",
    "$MOTA$ has several limitations. For example, it overemphasizes the importance of accurate object detection, and does not take into account the association of objects over time. While the maximum possible $MOTA$ score is 1, there is no fixed minimum value. \n",
    "\n",
    "\n",
    "To use MOTA in your own code, you can use `soccertrack.metrics.mota_score()`.\n",
    "\n",
    "The following values are calculated and reported by `soccertrack.metrics.mota_score()`:\n",
    "\n",
    "* **Multiple Object Tracking Precision (MOTP)** is a measure of the precision of the tracker in terms of the location of the tracked objects. It is calculated as the average distance between the predicted and ground truth object locations. A higher MOTP score indicates better performance.\n",
    "\n",
    "* **Most Tracked Objects (MT)** is the number of ground truth objects that are successfully tracked for at least 50% of the frames in which they appear. This metric gives an indication of how well the tracker is able to maintain object tracks.\n",
    "\n",
    "* **Most Lost Objects (ML)** is the number of ground truth objects that are not successfully tracked for at least 50% of the frames in which they appear. This metric gives an indication of how well the tracker is able to maintain object tracks.\n",
    "\n",
    "* **Fragmentation** is a measure of how many times the tracker switches between different ground truth objects. A higher fragmentation score indicates worse performance.\n",
    "\n",
    "* **Id-Switches** is the number of times the tracker switches the identity of a ground truth object with another ground truth object. This metric gives an indication of how well the tracker is able to maintain object identities.\n"
   ]
  },
  {
   "cell_type": "code",
   "execution_count": 3,
   "metadata": {},
   "outputs": [
    {
     "data": {
      "text/plain": [
       "{'MOTA': 0.8,\n",
       " 'MOTP': 1.0,\n",
       " 'MODA': 0.8,\n",
       " 'CLR_Re': 0.8,\n",
       " 'CLR_Pr': 1.0,\n",
       " 'MTR': 0.0,\n",
       " 'PTR': 1.0,\n",
       " 'MLR': 0.0,\n",
       " 'sMOTA': 0.8,\n",
       " 'CLR_F1': 0.8888888888888888,\n",
       " 'FP_per_frame': 0.0,\n",
       " 'MOTAL': 0.8,\n",
       " 'MOTP_sum': 92.0,\n",
       " 'CLR_TP': 92,\n",
       " 'CLR_FN': 23,\n",
       " 'CLR_FP': 0,\n",
       " 'IDSW': 0,\n",
       " 'MT': 0,\n",
       " 'PT': 23,\n",
       " 'ML': 0,\n",
       " 'Frag': 0.0,\n",
       " 'CLR_Frames': 5}"
      ]
     },
     "execution_count": 3,
     "metadata": {},
     "output_type": "execute_result"
    }
   ],
   "source": [
    "from sportslabkit.metrics import mota_score\n",
    "\n",
    "mota = mota_score(pred_bbdf, gt_bbdf)\n",
    "mota"
   ]
  },
  {
   "attachments": {},
   "cell_type": "markdown",
   "metadata": {},
   "source": [
    "### HOTA\n",
    "\n",
    "Higher-Order Tracking Accuracy (HOTA) is a metric that seeks to balance detection and association quality. It is calculated as the product of the Detection Accuracy (DetA) and the Association Accuracy (AssA). The DetA is calculated as the average of the detection accuracy for each class. The AssA is calculated as the average of the association accuracy for each class. The HOTA score is calculated as the product of the DetA and the AssA. A higher HOTA score indicates a better performance of the tracker.\n",
    "\n",
    "\n",
    "\\begin{equation*}\n",
    "HOTA_\\alpha = \\sqrt{\\frac{\\sum_{c\\in\\{TP\\}} \\textit{A}(c)}{\\lvert TP \\rvert + \\lvert FN \\rvert + \\lvert FP \\rvert}}\n",
    "\\end{equation*}\n",
    "\n",
    "\\begin{equation*}\n",
    "A(c) = \\frac{\\lvert TPA(c) \\rvert}{\\lvert TPA(c) \\rvert + \\lvert FNA(c) \\rvert + \\lvert FPA(c) \\rvert}\n",
    "\\end{equation*}\n",
    "\n",
    "* $A(c):$ Measures how similar predicted trajectory and ground-truth trajectory are.\n",
    "* $TP:$ True Positive. A ground truth detection and predicted detection are matched together given that $S \\geq \\alpha$. $S$ is the localization similarity and  $\\alpha$ is the threshold.\n",
    "* $FN:$ False Negative. A ground truth detection that was missed\n",
    "* $FP:$ False Positive. A predicted detection with no respective ground truth detection.\n",
    "* $TPA:$ True Positive Association. The set of True Positives that have the same ground truth IDs and the same prediction ID as a given $TP c$.\n",
    "\n",
    "\\begin{align*}\n",
    "TPA&(c) = \\{k\\}, \\\\\n",
    "&k \\in \\{TP|prID(k) = prID(c) \\wedge gtID(c) = gtID(c)\\}\n",
    "\\end{align*}\n",
    "\n",
    "* $FNA:$ The set of ground truth detections with the same ground truth ID as a given $TP c$. However, these detections were assigned a prediction ID different from $c$ or none at all.\n",
    "\n",
    "\\begin{align*}\n",
    "FNA&(c) = \\{k\\}, \\\\\n",
    "k & \\left. \\in\n",
    "\\begin{aligned}\n",
    "& \\{TP \\,|\\, prID(k) \\ne prID(c) \\wedge gtID(k) =  gtID(c)\\} \\\\\n",
    "& \\cup \\{FN \\,|\\, gtID(k) = gtID(c)\\} \n",
    "\\end{aligned}\n",
    "\\right.\n",
    "\\end{align*}\n",
    "\n",
    "* $FPA:$ The set of predicted detections with the same prediction ID as a given $TP c$. However, these detections were assigned a ground-truth  ID different from $c$ or none at all.\n",
    "\n",
    "\\begin{align*}\n",
    "FPA&(c) = \\{k\\}, \\\\\n",
    "k & \\left. \\in\n",
    "\\begin{aligned}\n",
    "& \\{TP \\,|\\,prID(k) = prID(c)\\wedge gtID(k) \\neq gtID(c)\\} \\\\\n",
    "& \\cup \\{FP \\,|\\, prID(k) = prID(c)\\} \n",
    "\\end{aligned}\n",
    "\\right.\n",
    "\\end{align*}\n",
    "\n",
    "The $HOTA_\\alpha$ score represents the value of $HOTA$ calculated for a specific value of $\\alpha$. In order to obtain the final $HOTA$ score, it is necessary to calculate $HOTA_\\alpha$ for a range of values of $\\alpha$ from 0 to 1 and then take the average of these values. This allows for a more thorough evaluation of the performance of multiple object tracking systems using the $HOTA$ metric.\n",
    "\n",
    "\\begin{align*}\n",
    "HOTA =  \\int_{0}^{1} HOTA\\alpha \\:d\\alpha \\approx \\frac{1}{19} \\sum_{\\alpha \\in \\left \\{\n",
    "\\begin{aligned}\n",
    "& 0.05, 0.1,\\\\\n",
    "& ...0.9,0.95\n",
    "\\end{aligned} \\right \\} } HOTA\\alpha\n",
    "\\end{align*}\n",
    "\n",
    "To use HOTA in your own code, you can use `soccertrack.metrics.hota_score()`."
   ]
  },
  {
   "cell_type": "code",
   "execution_count": 4,
   "metadata": {},
   "outputs": [
    {
     "data": {
      "text/plain": [
       "{'HOTA': 0.8000000000000002,\n",
       " 'DetA': 0.8000000000000002,\n",
       " 'AssA': 0.8000000000000002,\n",
       " 'DetRe': 0.8000000000000002,\n",
       " 'DetPr': 1.0,\n",
       " 'AssRe': 0.8000000000000002,\n",
       " 'AssPr': 1.0,\n",
       " 'LocA': 1.0,\n",
       " 'RHOTA': 0.8000000000000002,\n",
       " 'HOTA_TP': 92.0,\n",
       " 'HOTA_FN': 23.0,\n",
       " 'HOTA_FP': 0.0,\n",
       " 'HOTA(0)': 0.8,\n",
       " 'LocA(0)': 1.0,\n",
       " 'HOTALocA(0)': 0.8}"
      ]
     },
     "execution_count": 4,
     "metadata": {},
     "output_type": "execute_result"
    }
   ],
   "source": [
    "from sportslabkit.metrics import hota_score\n",
    "\n",
    "hota = hota_score(pred_bbdf, gt_bbdf)\n",
    "hota"
   ]
  },
  {
   "attachments": {},
   "cell_type": "markdown",
   "metadata": {},
   "source": [
    "### AssA\n",
    "\n",
    "The Association Accuracy score reflects the average alignment between matching trajectories and focuses on association errors, which occur when a single object in the ground truth is assigned two different predicted detections or a single predicted detection is assigned to two different ground truth objects. According to the MOT Benchmark, the Association Accuracy score is calculated as the average of the association Jaccard index over all matching detections and is then averaged over the localization threshold.\n",
    "\n",
    "\\begin{equation*}\n",
    "AssA\\alpha = \\frac{1}{\\lvert TP \\rvert} \\sum_{c\\in\\{TP\\}} A(c)\n",
    "\\end{equation*}"
   ]
  },
  {
   "cell_type": "code",
   "execution_count": 5,
   "metadata": {},
   "outputs": [
    {
     "name": "stdout",
     "output_type": "stream",
     "text": [
      "0.8000000000000002\n"
     ]
    }
   ],
   "source": [
    "# AssA is calculated within hota_score\n",
    "print(hota['AssA'])"
   ]
  },
  {
   "attachments": {},
   "cell_type": "markdown",
   "metadata": {},
   "source": [
    "### DetA\n",
    "Detection Accuracy is a measure of the performance of multiple object tracking systems that evaluates the accuracy of object detection. According to the MOT Benchmark, the Detection Accuracy score is calculated as the Detection Jaccard Index averaged over the localization threshold.\n",
    "\n",
    "\n",
    "\\begin{equation*}\n",
    "DetA_\\alpha = \\frac{\\lvert TP \\rvert}{\\lvert TP \\rvert + \\lvert FN \\rvert+ \\lvert FP \\rvert}\n",
    "\\end{equation*}"
   ]
  },
  {
   "cell_type": "code",
   "execution_count": 6,
   "metadata": {},
   "outputs": [
    {
     "name": "stdout",
     "output_type": "stream",
     "text": [
      "0.8000000000000002\n"
     ]
    }
   ],
   "source": [
    "# DetA is calculated within hota_score\n",
    "print(hota['DetA'])"
   ]
  },
  {
   "attachments": {},
   "cell_type": "markdown",
   "metadata": {},
   "source": [
    "### IDF1\n",
    "The Identification Metric differs from others, such as $MOTA$, in that it focuses on mapping predicted trajectories with actual trajectories rather than performing bijective mapping at the detection level. Some researchers prefer this approach due to its emphasis on association over detection accuracy.\n",
    "\n",
    "\\begin{equation*}\n",
    "ID-Recall = \\frac{\\lvert IDTP \\rvert }{\\lvert IDTP \\rvert + \\lvert IDFN \\rvert }\n",
    "\\end{equation*}\n",
    "\n",
    "\\begin{equation*}\n",
    "ID-Precision = \\frac{\\lvert IDTP \\rvert }{\\lvert IDTP \\rvert + \\lvert IDFP \\rvert } \n",
    "\\end{equation*}\n",
    "\n",
    "\\begin{equation*}\n",
    "IDF1 = \\frac{\\lvert IDTP \\rvert }{\\lvert IDTP \\rvert +0.5\\lvert IDFP \\rvert + 0.5\\lvert IDFN \\rvert }\n",
    "\\end{equation*}\n",
    "\n",
    "* $IDTP$: Identity True Positive. The predicted object trajectory and ground truth object trajectory match.\n",
    "* $IDFN$: Identify False Negative. Any ground truth detection that went undetected and has an unmatched trajectory.\n",
    "* $IDFP$: Identity False Positive. Any predicted detection that is false.\n",
    "\n",
    "$IDF1$ metric is not without its flaws. The best unique bijective mapping may not necessarily result in the best alignment between predicted and actual trajectories. This can lead to a decrease in the $IDF1$ score even in the presence of correct detections. Additionally, many unmatched trajectories can also lead to decreased scores. This can incentivize researchers to prioritize increasing the number of unique detections over making accurate associations.\n",
    "\n",
    "\n",
    "To use IDF1 in your own code, you can use `soccertrack.metrics.idf1_score()`."
   ]
  },
  {
   "cell_type": "code",
   "execution_count": 7,
   "metadata": {},
   "outputs": [
    {
     "data": {
      "text/plain": [
       "{'IDF1': 0.8888888888888888,\n",
       " 'IDR': 0.8,\n",
       " 'IDP': 1.0,\n",
       " 'IDTP': 92,\n",
       " 'IDFN': 23,\n",
       " 'IDFP': 0}"
      ]
     },
     "execution_count": 7,
     "metadata": {},
     "output_type": "execute_result"
    }
   ],
   "source": [
    "from sportslabkit.metrics import identity_score\n",
    "\n",
    "identity = identity_score(pred_bbdf, gt_bbdf)\n",
    "identity"
   ]
  }
 ],
 "metadata": {
  "kernelspec": {
   "display_name": "soccertrack-KNSgM8DD-py3.9",
   "language": "python",
   "name": "python3"
  },
  "language_info": {
   "codemirror_mode": {
    "name": "ipython",
    "version": 3
   },
   "file_extension": ".py",
   "mimetype": "text/x-python",
   "name": "python",
   "nbconvert_exporter": "python",
   "pygments_lexer": "ipython3",
   "version": "3.10.12"
  },
  "orig_nbformat": 4,
  "vscode": {
   "interpreter": {
    "hash": "977a6a4298a6f74f911a0aa33bb1949bba79863f90698d4cbd5dc1167a3d3b34"
   }
  }
 },
 "nbformat": 4,
 "nbformat_minor": 2
}
