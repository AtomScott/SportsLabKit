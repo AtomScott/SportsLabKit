{
 "cells": [
  {
   "cell_type": "code",
   "execution_count": 1,
   "metadata": {},
   "outputs": [],
   "source": [
    "%load_ext autoreload\n",
    "%autoreload 2"
   ]
  },
  {
   "cell_type": "code",
   "execution_count": 1,
   "metadata": {},
   "outputs": [
    {
     "name": "stderr",
     "output_type": "stream",
     "text": [
      "[W NNPACK.cpp:64] Could not initialize NNPACK! Reason: Unsupported hardware.\n",
      "Tracking Progress: 100%|██████████| 5/5 [00:17<00:00,  3.47s/it, Active: 22, Dead: 0]\n",
      "/Users/atom/Github/SportsLabKit/sportslabkit/mot/callbacks.py:76: FutureWarning: Unlike other reduction functions (e.g. `skew`, `kurtosis`), the default behavior of `mode` typically preserves the axis it acts along. In SciPy 1.11.0, this behavior will change: the default value of `keepdims` will become False, the `axis` over which the statistic is taken will be eliminated, and the value None will no longer be accepted. Set `keepdims` to True or False to avoid this warning.\n",
      "  most_frequent_team_id = stats.mode(predicted_team_id).mode\n",
      "/Users/atom/Github/SportsLabKit/sportslabkit/mot/callbacks.py:76: FutureWarning: Unlike other reduction functions (e.g. `skew`, `kurtosis`), the default behavior of `mode` typically preserves the axis it acts along. In SciPy 1.11.0, this behavior will change: the default value of `keepdims` will become False, the `axis` over which the statistic is taken will be eliminated, and the value None will no longer be accepted. Set `keepdims` to True or False to avoid this warning.\n",
      "  most_frequent_team_id = stats.mode(predicted_team_id).mode\n",
      "/Users/atom/Github/SportsLabKit/sportslabkit/mot/callbacks.py:76: FutureWarning: Unlike other reduction functions (e.g. `skew`, `kurtosis`), the default behavior of `mode` typically preserves the axis it acts along. In SciPy 1.11.0, this behavior will change: the default value of `keepdims` will become False, the `axis` over which the statistic is taken will be eliminated, and the value None will no longer be accepted. Set `keepdims` to True or False to avoid this warning.\n",
      "  most_frequent_team_id = stats.mode(predicted_team_id).mode\n",
      "/Users/atom/Github/SportsLabKit/sportslabkit/mot/callbacks.py:76: FutureWarning: Unlike other reduction functions (e.g. `skew`, `kurtosis`), the default behavior of `mode` typically preserves the axis it acts along. In SciPy 1.11.0, this behavior will change: the default value of `keepdims` will become False, the `axis` over which the statistic is taken will be eliminated, and the value None will no longer be accepted. Set `keepdims` to True or False to avoid this warning.\n",
      "  most_frequent_team_id = stats.mode(predicted_team_id).mode\n",
      "/Users/atom/Github/SportsLabKit/sportslabkit/mot/callbacks.py:76: FutureWarning: Unlike other reduction functions (e.g. `skew`, `kurtosis`), the default behavior of `mode` typically preserves the axis it acts along. In SciPy 1.11.0, this behavior will change: the default value of `keepdims` will become False, the `axis` over which the statistic is taken will be eliminated, and the value None will no longer be accepted. Set `keepdims` to True or False to avoid this warning.\n",
      "  most_frequent_team_id = stats.mode(predicted_team_id).mode\n",
      "/Users/atom/Github/SportsLabKit/sportslabkit/mot/callbacks.py:76: FutureWarning: Unlike other reduction functions (e.g. `skew`, `kurtosis`), the default behavior of `mode` typically preserves the axis it acts along. In SciPy 1.11.0, this behavior will change: the default value of `keepdims` will become False, the `axis` over which the statistic is taken will be eliminated, and the value None will no longer be accepted. Set `keepdims` to True or False to avoid this warning.\n",
      "  most_frequent_team_id = stats.mode(predicted_team_id).mode\n",
      "/Users/atom/Github/SportsLabKit/sportslabkit/mot/callbacks.py:76: FutureWarning: Unlike other reduction functions (e.g. `skew`, `kurtosis`), the default behavior of `mode` typically preserves the axis it acts along. In SciPy 1.11.0, this behavior will change: the default value of `keepdims` will become False, the `axis` over which the statistic is taken will be eliminated, and the value None will no longer be accepted. Set `keepdims` to True or False to avoid this warning.\n",
      "  most_frequent_team_id = stats.mode(predicted_team_id).mode\n",
      "/Users/atom/Github/SportsLabKit/sportslabkit/mot/callbacks.py:76: FutureWarning: Unlike other reduction functions (e.g. `skew`, `kurtosis`), the default behavior of `mode` typically preserves the axis it acts along. In SciPy 1.11.0, this behavior will change: the default value of `keepdims` will become False, the `axis` over which the statistic is taken will be eliminated, and the value None will no longer be accepted. Set `keepdims` to True or False to avoid this warning.\n",
      "  most_frequent_team_id = stats.mode(predicted_team_id).mode\n",
      "/Users/atom/Github/SportsLabKit/sportslabkit/mot/callbacks.py:76: FutureWarning: Unlike other reduction functions (e.g. `skew`, `kurtosis`), the default behavior of `mode` typically preserves the axis it acts along. In SciPy 1.11.0, this behavior will change: the default value of `keepdims` will become False, the `axis` over which the statistic is taken will be eliminated, and the value None will no longer be accepted. Set `keepdims` to True or False to avoid this warning.\n",
      "  most_frequent_team_id = stats.mode(predicted_team_id).mode\n",
      "/Users/atom/Github/SportsLabKit/sportslabkit/mot/callbacks.py:76: FutureWarning: Unlike other reduction functions (e.g. `skew`, `kurtosis`), the default behavior of `mode` typically preserves the axis it acts along. In SciPy 1.11.0, this behavior will change: the default value of `keepdims` will become False, the `axis` over which the statistic is taken will be eliminated, and the value None will no longer be accepted. Set `keepdims` to True or False to avoid this warning.\n",
      "  most_frequent_team_id = stats.mode(predicted_team_id).mode\n",
      "/Users/atom/Github/SportsLabKit/sportslabkit/mot/callbacks.py:76: FutureWarning: Unlike other reduction functions (e.g. `skew`, `kurtosis`), the default behavior of `mode` typically preserves the axis it acts along. In SciPy 1.11.0, this behavior will change: the default value of `keepdims` will become False, the `axis` over which the statistic is taken will be eliminated, and the value None will no longer be accepted. Set `keepdims` to True or False to avoid this warning.\n",
      "  most_frequent_team_id = stats.mode(predicted_team_id).mode\n",
      "/Users/atom/Github/SportsLabKit/sportslabkit/mot/callbacks.py:76: FutureWarning: Unlike other reduction functions (e.g. `skew`, `kurtosis`), the default behavior of `mode` typically preserves the axis it acts along. In SciPy 1.11.0, this behavior will change: the default value of `keepdims` will become False, the `axis` over which the statistic is taken will be eliminated, and the value None will no longer be accepted. Set `keepdims` to True or False to avoid this warning.\n",
      "  most_frequent_team_id = stats.mode(predicted_team_id).mode\n",
      "/Users/atom/Github/SportsLabKit/sportslabkit/mot/callbacks.py:76: FutureWarning: Unlike other reduction functions (e.g. `skew`, `kurtosis`), the default behavior of `mode` typically preserves the axis it acts along. In SciPy 1.11.0, this behavior will change: the default value of `keepdims` will become False, the `axis` over which the statistic is taken will be eliminated, and the value None will no longer be accepted. Set `keepdims` to True or False to avoid this warning.\n",
      "  most_frequent_team_id = stats.mode(predicted_team_id).mode\n",
      "/Users/atom/Github/SportsLabKit/sportslabkit/mot/callbacks.py:76: FutureWarning: Unlike other reduction functions (e.g. `skew`, `kurtosis`), the default behavior of `mode` typically preserves the axis it acts along. In SciPy 1.11.0, this behavior will change: the default value of `keepdims` will become False, the `axis` over which the statistic is taken will be eliminated, and the value None will no longer be accepted. Set `keepdims` to True or False to avoid this warning.\n",
      "  most_frequent_team_id = stats.mode(predicted_team_id).mode\n",
      "/Users/atom/Github/SportsLabKit/sportslabkit/mot/callbacks.py:76: FutureWarning: Unlike other reduction functions (e.g. `skew`, `kurtosis`), the default behavior of `mode` typically preserves the axis it acts along. In SciPy 1.11.0, this behavior will change: the default value of `keepdims` will become False, the `axis` over which the statistic is taken will be eliminated, and the value None will no longer be accepted. Set `keepdims` to True or False to avoid this warning.\n",
      "  most_frequent_team_id = stats.mode(predicted_team_id).mode\n",
      "/Users/atom/Github/SportsLabKit/sportslabkit/mot/callbacks.py:76: FutureWarning: Unlike other reduction functions (e.g. `skew`, `kurtosis`), the default behavior of `mode` typically preserves the axis it acts along. In SciPy 1.11.0, this behavior will change: the default value of `keepdims` will become False, the `axis` over which the statistic is taken will be eliminated, and the value None will no longer be accepted. Set `keepdims` to True or False to avoid this warning.\n",
      "  most_frequent_team_id = stats.mode(predicted_team_id).mode\n",
      "/Users/atom/Github/SportsLabKit/sportslabkit/mot/callbacks.py:76: FutureWarning: Unlike other reduction functions (e.g. `skew`, `kurtosis`), the default behavior of `mode` typically preserves the axis it acts along. In SciPy 1.11.0, this behavior will change: the default value of `keepdims` will become False, the `axis` over which the statistic is taken will be eliminated, and the value None will no longer be accepted. Set `keepdims` to True or False to avoid this warning.\n",
      "  most_frequent_team_id = stats.mode(predicted_team_id).mode\n",
      "/Users/atom/Github/SportsLabKit/sportslabkit/mot/callbacks.py:76: FutureWarning: Unlike other reduction functions (e.g. `skew`, `kurtosis`), the default behavior of `mode` typically preserves the axis it acts along. In SciPy 1.11.0, this behavior will change: the default value of `keepdims` will become False, the `axis` over which the statistic is taken will be eliminated, and the value None will no longer be accepted. Set `keepdims` to True or False to avoid this warning.\n",
      "  most_frequent_team_id = stats.mode(predicted_team_id).mode\n",
      "/Users/atom/Github/SportsLabKit/sportslabkit/mot/callbacks.py:76: FutureWarning: Unlike other reduction functions (e.g. `skew`, `kurtosis`), the default behavior of `mode` typically preserves the axis it acts along. In SciPy 1.11.0, this behavior will change: the default value of `keepdims` will become False, the `axis` over which the statistic is taken will be eliminated, and the value None will no longer be accepted. Set `keepdims` to True or False to avoid this warning.\n",
      "  most_frequent_team_id = stats.mode(predicted_team_id).mode\n",
      "/Users/atom/Github/SportsLabKit/sportslabkit/mot/callbacks.py:76: FutureWarning: Unlike other reduction functions (e.g. `skew`, `kurtosis`), the default behavior of `mode` typically preserves the axis it acts along. In SciPy 1.11.0, this behavior will change: the default value of `keepdims` will become False, the `axis` over which the statistic is taken will be eliminated, and the value None will no longer be accepted. Set `keepdims` to True or False to avoid this warning.\n",
      "  most_frequent_team_id = stats.mode(predicted_team_id).mode\n",
      "/Users/atom/Github/SportsLabKit/sportslabkit/mot/callbacks.py:76: FutureWarning: Unlike other reduction functions (e.g. `skew`, `kurtosis`), the default behavior of `mode` typically preserves the axis it acts along. In SciPy 1.11.0, this behavior will change: the default value of `keepdims` will become False, the `axis` over which the statistic is taken will be eliminated, and the value None will no longer be accepted. Set `keepdims` to True or False to avoid this warning.\n",
      "  most_frequent_team_id = stats.mode(predicted_team_id).mode\n",
      "/Users/atom/Github/SportsLabKit/sportslabkit/mot/callbacks.py:76: FutureWarning: Unlike other reduction functions (e.g. `skew`, `kurtosis`), the default behavior of `mode` typically preserves the axis it acts along. In SciPy 1.11.0, this behavior will change: the default value of `keepdims` will become False, the `axis` over which the statistic is taken will be eliminated, and the value None will no longer be accepted. Set `keepdims` to True or False to avoid this warning.\n",
      "  most_frequent_team_id = stats.mode(predicted_team_id).mode\n"
     ]
    },
    {
     "ename": "TypeError",
     "evalue": "unhashable type: 'numpy.ndarray'",
     "output_type": "error",
     "traceback": [
      "\u001b[0;31m---------------------------------------------------------------------------\u001b[0m",
      "\u001b[0;31mTypeError\u001b[0m                                 Traceback (most recent call last)",
      "File \u001b[0;32m~/miniconda3/envs/sportslabkit_dev_env/lib/python3.10/site-packages/pandas/core/arrays/categorical.py:441\u001b[0m, in \u001b[0;36mCategorical.__init__\u001b[0;34m(self, values, categories, ordered, dtype, fastpath, copy)\u001b[0m\n\u001b[1;32m    440\u001b[0m \u001b[39mtry\u001b[39;00m:\n\u001b[0;32m--> 441\u001b[0m     codes, categories \u001b[39m=\u001b[39m factorize(values, sort\u001b[39m=\u001b[39;49m\u001b[39mTrue\u001b[39;49;00m)\n\u001b[1;32m    442\u001b[0m \u001b[39mexcept\u001b[39;00m \u001b[39mTypeError\u001b[39;00m \u001b[39mas\u001b[39;00m err:\n",
      "File \u001b[0;32m~/miniconda3/envs/sportslabkit_dev_env/lib/python3.10/site-packages/pandas/core/algorithms.py:822\u001b[0m, in \u001b[0;36mfactorize\u001b[0;34m(values, sort, na_sentinel, use_na_sentinel, size_hint)\u001b[0m\n\u001b[1;32m    820\u001b[0m             values \u001b[39m=\u001b[39m np\u001b[39m.\u001b[39mwhere(null_mask, na_value, values)\n\u001b[0;32m--> 822\u001b[0m     codes, uniques \u001b[39m=\u001b[39m factorize_array(\n\u001b[1;32m    823\u001b[0m         values,\n\u001b[1;32m    824\u001b[0m         na_sentinel\u001b[39m=\u001b[39;49mna_sentinel_arg,\n\u001b[1;32m    825\u001b[0m         size_hint\u001b[39m=\u001b[39;49msize_hint,\n\u001b[1;32m    826\u001b[0m     )\n\u001b[1;32m    828\u001b[0m \u001b[39mif\u001b[39;00m sort \u001b[39mand\u001b[39;00m \u001b[39mlen\u001b[39m(uniques) \u001b[39m>\u001b[39m \u001b[39m0\u001b[39m:\n",
      "File \u001b[0;32m~/miniconda3/envs/sportslabkit_dev_env/lib/python3.10/site-packages/pandas/core/algorithms.py:578\u001b[0m, in \u001b[0;36mfactorize_array\u001b[0;34m(values, na_sentinel, size_hint, na_value, mask)\u001b[0m\n\u001b[1;32m    577\u001b[0m table \u001b[39m=\u001b[39m hash_klass(size_hint \u001b[39mor\u001b[39;00m \u001b[39mlen\u001b[39m(values))\n\u001b[0;32m--> 578\u001b[0m uniques, codes \u001b[39m=\u001b[39m table\u001b[39m.\u001b[39;49mfactorize(\n\u001b[1;32m    579\u001b[0m     values,\n\u001b[1;32m    580\u001b[0m     na_sentinel\u001b[39m=\u001b[39;49mna_sentinel,\n\u001b[1;32m    581\u001b[0m     na_value\u001b[39m=\u001b[39;49mna_value,\n\u001b[1;32m    582\u001b[0m     mask\u001b[39m=\u001b[39;49mmask,\n\u001b[1;32m    583\u001b[0m     ignore_na\u001b[39m=\u001b[39;49mignore_na,\n\u001b[1;32m    584\u001b[0m )\n\u001b[1;32m    586\u001b[0m \u001b[39m# re-cast e.g. i8->dt64/td64, uint8->bool\u001b[39;00m\n",
      "File \u001b[0;32mpandas/_libs/hashtable_class_helper.pxi:5943\u001b[0m, in \u001b[0;36mpandas._libs.hashtable.PyObjectHashTable.factorize\u001b[0;34m()\u001b[0m\n",
      "File \u001b[0;32mpandas/_libs/hashtable_class_helper.pxi:5857\u001b[0m, in \u001b[0;36mpandas._libs.hashtable.PyObjectHashTable._unique\u001b[0;34m()\u001b[0m\n",
      "\u001b[0;31mTypeError\u001b[0m: unhashable type: 'numpy.ndarray'",
      "\nDuring handling of the above exception, another exception occurred:\n",
      "\u001b[0;31mTypeError\u001b[0m                                 Traceback (most recent call last)",
      "Cell \u001b[0;32mIn[1], line 23\u001b[0m\n\u001b[1;32m     20\u001b[0m callbacks \u001b[39m=\u001b[39m [TeamClassificationCallback(vector_model)]\n\u001b[1;32m     22\u001b[0m tracker \u001b[39m=\u001b[39m DeepSORTTracker(detection_model\u001b[39m=\u001b[39mdet_model, motion_model\u001b[39m=\u001b[39mmotion_model, image_model\u001b[39m=\u001b[39mimage_model, callbacks\u001b[39m=\u001b[39mcallbacks)\n\u001b[0;32m---> 23\u001b[0m tracker\u001b[39m.\u001b[39;49mtrack(cam[:\u001b[39m5\u001b[39;49m])\n\u001b[1;32m     24\u001b[0m res \u001b[39m=\u001b[39m tracker\u001b[39m.\u001b[39mto_bbdf()\n",
      "File \u001b[0;32m~/Github/SportsLabKit/sportslabkit/mot/base.py:121\u001b[0m, in \u001b[0;36mMultiObjectTracker.track\u001b[0;34m(self, sequence)\u001b[0m\n\u001b[1;32m    118\u001b[0m \u001b[39mself\u001b[39m\u001b[39m.\u001b[39mtrack_sequence(sequence)\n\u001b[1;32m    119\u001b[0m \u001b[39mself\u001b[39m\u001b[39m.\u001b[39malive_tracklets \u001b[39m=\u001b[39m \u001b[39mself\u001b[39m\u001b[39m.\u001b[39mcleanup_tracklets(\u001b[39mself\u001b[39m\u001b[39m.\u001b[39malive_tracklets)\n\u001b[0;32m--> 121\u001b[0m bbdf \u001b[39m=\u001b[39m \u001b[39mself\u001b[39;49m\u001b[39m.\u001b[39;49mto_bbdf()\n\u001b[1;32m    122\u001b[0m \u001b[39mreturn\u001b[39;00m bbdf\n",
      "File \u001b[0;32m~/Github/SportsLabKit/sportslabkit/mot/base.py:211\u001b[0m, in \u001b[0;36mMultiObjectTracker.to_bbdf\u001b[0;34m(self)\u001b[0m\n\u001b[1;32m    209\u001b[0m \u001b[39m\u001b[39m\u001b[39m\"\"\"Create a bounding box dataframe.\"\"\"\u001b[39;00m\n\u001b[1;32m    210\u001b[0m all_tracklets \u001b[39m=\u001b[39m \u001b[39mself\u001b[39m\u001b[39m.\u001b[39malive_tracklets \u001b[39m+\u001b[39m \u001b[39mself\u001b[39m\u001b[39m.\u001b[39mdead_tracklets\n\u001b[0;32m--> 211\u001b[0m \u001b[39mreturn\u001b[39;00m pd\u001b[39m.\u001b[39mconcat([t\u001b[39m.\u001b[39mto_bbdf() \u001b[39mfor\u001b[39;00m t \u001b[39min\u001b[39;00m all_tracklets], axis\u001b[39m=\u001b[39m\u001b[39m1\u001b[39m)\u001b[39m.\u001b[39msort_index()\n",
      "File \u001b[0;32m~/Github/SportsLabKit/sportslabkit/mot/base.py:211\u001b[0m, in \u001b[0;36m<listcomp>\u001b[0;34m(.0)\u001b[0m\n\u001b[1;32m    209\u001b[0m \u001b[39m\u001b[39m\u001b[39m\"\"\"Create a bounding box dataframe.\"\"\"\u001b[39;00m\n\u001b[1;32m    210\u001b[0m all_tracklets \u001b[39m=\u001b[39m \u001b[39mself\u001b[39m\u001b[39m.\u001b[39malive_tracklets \u001b[39m+\u001b[39m \u001b[39mself\u001b[39m\u001b[39m.\u001b[39mdead_tracklets\n\u001b[0;32m--> 211\u001b[0m \u001b[39mreturn\u001b[39;00m pd\u001b[39m.\u001b[39mconcat([t\u001b[39m.\u001b[39;49mto_bbdf() \u001b[39mfor\u001b[39;00m t \u001b[39min\u001b[39;00m all_tracklets], axis\u001b[39m=\u001b[39m\u001b[39m1\u001b[39m)\u001b[39m.\u001b[39msort_index()\n",
      "File \u001b[0;32m~/Github/SportsLabKit/sportslabkit/types/tracklet.py:297\u001b[0m, in \u001b[0;36mTracklet.to_bbdf\u001b[0;34m(self)\u001b[0m\n\u001b[1;32m    294\u001b[0m team_id \u001b[39m=\u001b[39m \u001b[39mself\u001b[39m\u001b[39m.\u001b[39mteam_id \u001b[39mor\u001b[39;00m \u001b[39m0\u001b[39m\n\u001b[1;32m    295\u001b[0m player_id \u001b[39m=\u001b[39m \u001b[39mself\u001b[39m\u001b[39m.\u001b[39mplayer_id \u001b[39mor\u001b[39;00m df\u001b[39m.\u001b[39mid\u001b[39m.\u001b[39munique()[\u001b[39m0\u001b[39m]\n\u001b[0;32m--> 297\u001b[0m idx \u001b[39m=\u001b[39m pd\u001b[39m.\u001b[39;49mMultiIndex\u001b[39m.\u001b[39;49mfrom_product(\n\u001b[1;32m    298\u001b[0m     [[team_id], [player_id], box_df\u001b[39m.\u001b[39;49mcolumns],\n\u001b[1;32m    299\u001b[0m     names\u001b[39m=\u001b[39;49m[\u001b[39m\"\u001b[39;49m\u001b[39mTeamID\u001b[39;49m\u001b[39m\"\u001b[39;49m, \u001b[39m\"\u001b[39;49m\u001b[39mPlayerID\u001b[39;49m\u001b[39m\"\u001b[39;49m, \u001b[39m\"\u001b[39;49m\u001b[39mAttributes\u001b[39;49m\u001b[39m\"\u001b[39;49m],\n\u001b[1;32m    300\u001b[0m )\n\u001b[1;32m    302\u001b[0m bbdf \u001b[39m=\u001b[39m BBoxDataFrame(box_df\u001b[39m.\u001b[39mvalues, index\u001b[39m=\u001b[39mdf\u001b[39m.\u001b[39mindex, columns\u001b[39m=\u001b[39midx)\n\u001b[1;32m    303\u001b[0m \u001b[39mreturn\u001b[39;00m bbdf\n",
      "File \u001b[0;32m~/miniconda3/envs/sportslabkit_dev_env/lib/python3.10/site-packages/pandas/core/indexes/multi.py:638\u001b[0m, in \u001b[0;36mMultiIndex.from_product\u001b[0;34m(cls, iterables, sortorder, names)\u001b[0m\n\u001b[1;32m    635\u001b[0m \u001b[39melif\u001b[39;00m is_iterator(iterables):\n\u001b[1;32m    636\u001b[0m     iterables \u001b[39m=\u001b[39m \u001b[39mlist\u001b[39m(iterables)\n\u001b[0;32m--> 638\u001b[0m codes, levels \u001b[39m=\u001b[39m factorize_from_iterables(iterables)\n\u001b[1;32m    639\u001b[0m \u001b[39mif\u001b[39;00m names \u001b[39mis\u001b[39;00m lib\u001b[39m.\u001b[39mno_default:\n\u001b[1;32m    640\u001b[0m     names \u001b[39m=\u001b[39m [\u001b[39mgetattr\u001b[39m(it, \u001b[39m\"\u001b[39m\u001b[39mname\u001b[39m\u001b[39m\"\u001b[39m, \u001b[39mNone\u001b[39;00m) \u001b[39mfor\u001b[39;00m it \u001b[39min\u001b[39;00m iterables]\n",
      "File \u001b[0;32m~/miniconda3/envs/sportslabkit_dev_env/lib/python3.10/site-packages/pandas/core/arrays/categorical.py:3007\u001b[0m, in \u001b[0;36mfactorize_from_iterables\u001b[0;34m(iterables)\u001b[0m\n\u001b[1;32m   3003\u001b[0m \u001b[39mif\u001b[39;00m \u001b[39mlen\u001b[39m(iterables) \u001b[39m==\u001b[39m \u001b[39m0\u001b[39m:\n\u001b[1;32m   3004\u001b[0m     \u001b[39m# For consistency, it should return two empty lists.\u001b[39;00m\n\u001b[1;32m   3005\u001b[0m     \u001b[39mreturn\u001b[39;00m [], []\n\u001b[0;32m-> 3007\u001b[0m codes, categories \u001b[39m=\u001b[39m \u001b[39mzip\u001b[39;49m(\u001b[39m*\u001b[39;49m(factorize_from_iterable(it) \u001b[39mfor\u001b[39;49;00m it \u001b[39min\u001b[39;49;00m iterables))\n\u001b[1;32m   3008\u001b[0m \u001b[39mreturn\u001b[39;00m \u001b[39mlist\u001b[39m(codes), \u001b[39mlist\u001b[39m(categories)\n",
      "File \u001b[0;32m~/miniconda3/envs/sportslabkit_dev_env/lib/python3.10/site-packages/pandas/core/arrays/categorical.py:3007\u001b[0m, in \u001b[0;36m<genexpr>\u001b[0;34m(.0)\u001b[0m\n\u001b[1;32m   3003\u001b[0m \u001b[39mif\u001b[39;00m \u001b[39mlen\u001b[39m(iterables) \u001b[39m==\u001b[39m \u001b[39m0\u001b[39m:\n\u001b[1;32m   3004\u001b[0m     \u001b[39m# For consistency, it should return two empty lists.\u001b[39;00m\n\u001b[1;32m   3005\u001b[0m     \u001b[39mreturn\u001b[39;00m [], []\n\u001b[0;32m-> 3007\u001b[0m codes, categories \u001b[39m=\u001b[39m \u001b[39mzip\u001b[39m(\u001b[39m*\u001b[39m(factorize_from_iterable(it) \u001b[39mfor\u001b[39;00m it \u001b[39min\u001b[39;00m iterables))\n\u001b[1;32m   3008\u001b[0m \u001b[39mreturn\u001b[39;00m \u001b[39mlist\u001b[39m(codes), \u001b[39mlist\u001b[39m(categories)\n",
      "File \u001b[0;32m~/miniconda3/envs/sportslabkit_dev_env/lib/python3.10/site-packages/pandas/core/arrays/categorical.py:2980\u001b[0m, in \u001b[0;36mfactorize_from_iterable\u001b[0;34m(values)\u001b[0m\n\u001b[1;32m   2975\u001b[0m     codes \u001b[39m=\u001b[39m values\u001b[39m.\u001b[39mcodes\n\u001b[1;32m   2976\u001b[0m \u001b[39melse\u001b[39;00m:\n\u001b[1;32m   2977\u001b[0m     \u001b[39m# The value of ordered is irrelevant since we don't use cat as such,\u001b[39;00m\n\u001b[1;32m   2978\u001b[0m     \u001b[39m# but only the resulting categories, the order of which is independent\u001b[39;00m\n\u001b[1;32m   2979\u001b[0m     \u001b[39m# from ordered. Set ordered to False as default. See GH #15457\u001b[39;00m\n\u001b[0;32m-> 2980\u001b[0m     cat \u001b[39m=\u001b[39m Categorical(values, ordered\u001b[39m=\u001b[39;49m\u001b[39mFalse\u001b[39;49;00m)\n\u001b[1;32m   2981\u001b[0m     categories \u001b[39m=\u001b[39m cat\u001b[39m.\u001b[39mcategories\n\u001b[1;32m   2982\u001b[0m     codes \u001b[39m=\u001b[39m cat\u001b[39m.\u001b[39mcodes\n",
      "File \u001b[0;32m~/miniconda3/envs/sportslabkit_dev_env/lib/python3.10/site-packages/pandas/core/arrays/categorical.py:443\u001b[0m, in \u001b[0;36mCategorical.__init__\u001b[0;34m(self, values, categories, ordered, dtype, fastpath, copy)\u001b[0m\n\u001b[1;32m    441\u001b[0m     codes, categories \u001b[39m=\u001b[39m factorize(values, sort\u001b[39m=\u001b[39m\u001b[39mTrue\u001b[39;00m)\n\u001b[1;32m    442\u001b[0m \u001b[39mexcept\u001b[39;00m \u001b[39mTypeError\u001b[39;00m \u001b[39mas\u001b[39;00m err:\n\u001b[0;32m--> 443\u001b[0m     codes, categories \u001b[39m=\u001b[39m factorize(values, sort\u001b[39m=\u001b[39;49m\u001b[39mFalse\u001b[39;49;00m)\n\u001b[1;32m    444\u001b[0m     \u001b[39mif\u001b[39;00m dtype\u001b[39m.\u001b[39mordered:\n\u001b[1;32m    445\u001b[0m         \u001b[39m# raise, as we don't have a sortable data structure and so\u001b[39;00m\n\u001b[1;32m    446\u001b[0m         \u001b[39m# the user should give us one by specifying categories\u001b[39;00m\n\u001b[1;32m    447\u001b[0m         \u001b[39mraise\u001b[39;00m \u001b[39mTypeError\u001b[39;00m(\n\u001b[1;32m    448\u001b[0m             \u001b[39m\"\u001b[39m\u001b[39m'\u001b[39m\u001b[39mvalues\u001b[39m\u001b[39m'\u001b[39m\u001b[39m is not ordered, please \u001b[39m\u001b[39m\"\u001b[39m\n\u001b[1;32m    449\u001b[0m             \u001b[39m\"\u001b[39m\u001b[39mexplicitly specify the categories order \u001b[39m\u001b[39m\"\u001b[39m\n\u001b[1;32m    450\u001b[0m             \u001b[39m\"\u001b[39m\u001b[39mby passing in a categories argument.\u001b[39m\u001b[39m\"\u001b[39m\n\u001b[1;32m    451\u001b[0m         ) \u001b[39mfrom\u001b[39;00m \u001b[39merr\u001b[39;00m\n",
      "File \u001b[0;32m~/miniconda3/envs/sportslabkit_dev_env/lib/python3.10/site-packages/pandas/core/algorithms.py:822\u001b[0m, in \u001b[0;36mfactorize\u001b[0;34m(values, sort, na_sentinel, use_na_sentinel, size_hint)\u001b[0m\n\u001b[1;32m    819\u001b[0m             \u001b[39m# Don't modify (potentially user-provided) array\u001b[39;00m\n\u001b[1;32m    820\u001b[0m             values \u001b[39m=\u001b[39m np\u001b[39m.\u001b[39mwhere(null_mask, na_value, values)\n\u001b[0;32m--> 822\u001b[0m     codes, uniques \u001b[39m=\u001b[39m factorize_array(\n\u001b[1;32m    823\u001b[0m         values,\n\u001b[1;32m    824\u001b[0m         na_sentinel\u001b[39m=\u001b[39;49mna_sentinel_arg,\n\u001b[1;32m    825\u001b[0m         size_hint\u001b[39m=\u001b[39;49msize_hint,\n\u001b[1;32m    826\u001b[0m     )\n\u001b[1;32m    828\u001b[0m \u001b[39mif\u001b[39;00m sort \u001b[39mand\u001b[39;00m \u001b[39mlen\u001b[39m(uniques) \u001b[39m>\u001b[39m \u001b[39m0\u001b[39m:\n\u001b[1;32m    829\u001b[0m     \u001b[39mif\u001b[39;00m na_sentinel \u001b[39mis\u001b[39;00m \u001b[39mNone\u001b[39;00m:\n\u001b[1;32m    830\u001b[0m         \u001b[39m# TODO: Can remove when na_sentinel=na_sentinel as in TODO above\u001b[39;00m\n",
      "File \u001b[0;32m~/miniconda3/envs/sportslabkit_dev_env/lib/python3.10/site-packages/pandas/core/algorithms.py:578\u001b[0m, in \u001b[0;36mfactorize_array\u001b[0;34m(values, na_sentinel, size_hint, na_value, mask)\u001b[0m\n\u001b[1;32m    575\u001b[0m hash_klass, values \u001b[39m=\u001b[39m _get_hashtable_algo(values)\n\u001b[1;32m    577\u001b[0m table \u001b[39m=\u001b[39m hash_klass(size_hint \u001b[39mor\u001b[39;00m \u001b[39mlen\u001b[39m(values))\n\u001b[0;32m--> 578\u001b[0m uniques, codes \u001b[39m=\u001b[39m table\u001b[39m.\u001b[39;49mfactorize(\n\u001b[1;32m    579\u001b[0m     values,\n\u001b[1;32m    580\u001b[0m     na_sentinel\u001b[39m=\u001b[39;49mna_sentinel,\n\u001b[1;32m    581\u001b[0m     na_value\u001b[39m=\u001b[39;49mna_value,\n\u001b[1;32m    582\u001b[0m     mask\u001b[39m=\u001b[39;49mmask,\n\u001b[1;32m    583\u001b[0m     ignore_na\u001b[39m=\u001b[39;49mignore_na,\n\u001b[1;32m    584\u001b[0m )\n\u001b[1;32m    586\u001b[0m \u001b[39m# re-cast e.g. i8->dt64/td64, uint8->bool\u001b[39;00m\n\u001b[1;32m    587\u001b[0m uniques \u001b[39m=\u001b[39m _reconstruct_data(uniques, original\u001b[39m.\u001b[39mdtype, original)\n",
      "File \u001b[0;32mpandas/_libs/hashtable_class_helper.pxi:5943\u001b[0m, in \u001b[0;36mpandas._libs.hashtable.PyObjectHashTable.factorize\u001b[0;34m()\u001b[0m\n",
      "File \u001b[0;32mpandas/_libs/hashtable_class_helper.pxi:5857\u001b[0m, in \u001b[0;36mpandas._libs.hashtable.PyObjectHashTable._unique\u001b[0;34m()\u001b[0m\n",
      "\u001b[0;31mTypeError\u001b[0m: unhashable type: 'numpy.ndarray'"
     ]
    }
   ],
   "source": [
    "import sportslabkit as slk\n",
    "from sportslabkit.utils import get_git_root\n",
    "from sportslabkit.mot import DeepSORTTracker\n",
    "from sportslabkit.mot.callbacks import TeamClassificationCallback\n",
    "\n",
    "dataset_path = slk.datasets.get_path(\"top_view\")\n",
    "path_to_mp4 = sorted(dataset_path.glob(\"videos/*.mp4\"))[0]\n",
    "\n",
    "root = get_git_root()\n",
    "cam = slk.Camera(path_to_mp4)\n",
    "\n",
    "det_model = slk.detection_model.load('YOLOv8x', model=root / 'models/yolov8/soccer_top_view-model=yolov8x-imgsz=2048.pt', imgsz=640)\n",
    "motion_model = slk.motion_model.load('KalmanFilter', dt=1/30, process_noise=10000, measurement_noise=10)\n",
    "\n",
    "model='https://drive.google.com/file/d/1d6SskM1VFc_kIjFbQqEKgnMrmVnDRwWZ/view'\n",
    "\n",
    "image_model = slk.image_model.load('resnet50')\n",
    "\n",
    "vector_model = slk.vector_model.load('sklearnvectormodel', model_path=model)\n",
    "callbacks = [TeamClassificationCallback(vector_model)]\n",
    "\n",
    "tracker = DeepSORTTracker(detection_model=det_model, motion_model=motion_model, image_model=image_model, callbacks=callbacks)\n",
    "tracker.track(cam[:5])\n",
    "res = tracker.to_bbdf()"
   ]
  }
 ],
 "metadata": {
  "kernelspec": {
   "display_name": "sportslabkit_dev_env",
   "language": "python",
   "name": "python3"
  },
  "language_info": {
   "codemirror_mode": {
    "name": "ipython",
    "version": 3
   },
   "file_extension": ".py",
   "mimetype": "text/x-python",
   "name": "python",
   "nbconvert_exporter": "python",
   "pygments_lexer": "ipython3",
   "version": "3.10.0"
  },
  "orig_nbformat": 4
 },
 "nbformat": 4,
 "nbformat_minor": 2
}
