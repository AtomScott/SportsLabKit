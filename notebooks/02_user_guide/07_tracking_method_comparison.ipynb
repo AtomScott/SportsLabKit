{
 "cells": [
  {
   "attachments": {},
   "cell_type": "markdown",
   "metadata": {},
   "source": [
    "# Tracking Comparison"
   ]
  },
  {
   "attachments": {},
   "cell_type": "markdown",
   "metadata": {},
   "source": [
    ":::{note}\n",
    "**Work in progress**, we are planning to add more explainations to each algorithm.\n",
    ":::"
   ]
  },
  {
   "attachments": {},
   "cell_type": "markdown",
   "metadata": {},
   "source": [
    "## Prepare dataset\n",
    "\n",
    "First, we'll prepare the dataset. To perform tuning we also need the ground truth tracking data."
   ]
  },
  {
   "cell_type": "code",
   "execution_count": 1,
   "metadata": {},
   "outputs": [],
   "source": [
    "import sportslabkit as slk\n",
    "from sportslabkit.logger import set_log_level\n",
    "\n",
    "dataset_path = slk.datasets.get_path(\"top_view\")\n",
    "path_to_csv = sorted(dataset_path.glob(\"annotations/*.csv\"))[0]\n",
    "path_to_mp4 = sorted(dataset_path.glob(\"videos/*.mp4\"))[0]\n",
    "\n",
    "root = slk.utils.get_git_root()\n",
    "cam = slk.Camera(path_to_mp4)\n",
    "\n",
    "# For the sake of speed, we'll only use the first 10 frames\n",
    "n_frames = 10\n",
    "frames = cam[:n_frames]\n",
    "\n",
    "bbdf_gt = slk.load_df(path_to_csv)\n",
    "# TODO: Hopefully we can get rid of this \n",
    "if bbdf_gt.index[0] == 0:\n",
    "    bbdf_gt.index += 1\n",
    "bbdf_gt = bbdf_gt[:n_frames]"
   ]
  },
  {
   "attachments": {},
   "cell_type": "markdown",
   "metadata": {},
   "source": [
    "## SORT Tracker\n",
    "\n",
    "Next, we'll set up the tracker to be used, focusing on SORT, a simple yet effective Tracker in SportsLabKit. SORT relies on both a detection model and a motion model, each with specific configurations. Here are the details:\n",
    "\n",
    "* **Detection Model - `YOLOv8x`**\n",
    "    * `conf` - Confidence threshold for detecting objects (Default: 0.5)\n",
    "    * `iou` - Intersection-over-Union threshold for suppressing duplicate detections (Default: 0.3)\n",
    "    * `imgsz` - Image size to which the input is resized, affecting detection (Default: 2560x2560 pixels)\n",
    "\n",
    "\n",
    "* **Motion Model - `KalmanFilterMotionModel`**\n",
    "    * `dt` - Time step between consecutive measurements, crucial for predicting object position (Default: 1/30)\n",
    "    * `process_noise` - Noise in the process model, representing uncertainty in motion prediction (Default: 1e-4)\n",
    "    * `measurement_noise` - Noise in the measurements, representing sensor noise (Default: 1e-1)\n",
    "    * `confidence_scaler` - Factor to scale the confidence in prediction, adjusting the influence of measurements vs predictions (Default: 0.5)\n",
    "\n",
    "* **Tracking Algorithm - `SORTTracker`**\n",
    "    * `metric` - The cost metric to use for assignment\n",
    "    * `metric_gate` - The gate threshold for the cost metric\n",
    "    * `max_staleness` - The number of frames to wait before removing a track\n",
    "    * `min_length` - The number of frames to wait before confirming a track\n",
    "\n",
    "These configurations are essential in setting up the SORT Tracker, and the given defaults provide a good starting point. They can be tuned further as needed to align with the specific use case and environment."
   ]
  },
  {
   "cell_type": "code",
   "execution_count": 2,
   "metadata": {},
   "outputs": [
    {
     "name": "stderr",
     "output_type": "stream",
     "text": [
      "Tracking Progress: 100%|██████████| 10/10 [00:12<00:00,  1.24s/it, Active: 28, Dead: 5]\n"
     ]
    },
    {
     "name": "stdout",
     "output_type": "stream",
     "text": [
      "HOTA Score before Tuning (SORTTracker): 0.498\n"
     ]
    }
   ],
   "source": [
    "from sportslabkit.mot import SORTTracker\n",
    "\n",
    "det_model = slk.detection_model.load(\n",
    "    model_name='yolov8',\n",
    "    model=root/'models/yolov8/soccer_top_view-model=yolov8x-imgsz=2048.pt',\n",
    "    conf=0.25,\n",
    "    iou=0.6,\n",
    "    imgsz=960,\n",
    "    device='mps',\n",
    "    classes=0,\n",
    "    augment=True,\n",
    "    max_det=35\n",
    ")\n",
    "\n",
    "motion_model = slk.motion_model.load(\n",
    "    model_name='kalmanfilter',\n",
    "    dt=1/30,\n",
    "    process_noise=500,\n",
    "    measurement_noise=10,\n",
    "    confidence_scaler=1\n",
    ")\n",
    "\n",
    "matching_fn = slk.matching.SimpleMatchingFunction(\n",
    "    metric=slk.metrics.IoUCMM(use_pred_box=True),\n",
    "    gate=0.9\n",
    ")\n",
    "\n",
    "tracker = SORTTracker(\n",
    "    detection_model=det_model,\n",
    "    motion_model=motion_model,\n",
    "    matching_fn=matching_fn,\n",
    "    max_staleness=2,\n",
    "    min_length=2\n",
    ")\n",
    "\n",
    "bbdf_pred = tracker.track(frames)\n",
    "hota = slk.metrics.hota_score(bbdf_gt, bbdf_pred)[\"HOTA\"]\n",
    "print(f\"HOTA Score before Tuning (SORTTracker): {hota:.3f}\")"
   ]
  },
  {
   "cell_type": "code",
   "execution_count": 3,
   "metadata": {},
   "outputs": [
    {
     "name": "stdout",
     "output_type": "stream",
     "text": [
      "\u001b[36mtune_hparams:0284  💬| Hyperparameter search space: \u001b[0m\n",
      "\u001b[36mtune_hparams:0286  💬| self: \u001b[0m\n",
      "\u001b[36mtune_hparams:0286  💬| motion_model: \u001b[0m\n",
      "\u001b[36mtune_hparams:0288  💬| \tprocess_noise: {'type': 'logfloat', 'low': 100, 'high': 1000} \u001b[0m\n",
      "\u001b[36mtune_hparams:0288  💬| \tmeasurement_noise: {'type': 'logfloat', 'low': 0.1, 'high': 100} \u001b[0m\n",
      "\u001b[36mtune_hparams:0286  💬| matching_fn: \u001b[0m\n",
      "\u001b[36mtune_hparams:0288  💬| \tgate: {'type': 'float', 'low': 0.1, 'high': 1} \u001b[0m\n"
     ]
    },
    {
     "name": "stderr",
     "output_type": "stream",
     "text": [
      "Detecting frames for reuse: 100%|██████████| 10/10 [00:06<00:00,  1.54it/s]\n",
      "Tracking Progress: 100%|██████████| 10/10 [00:00<00:00, 146.03it/s, Active: 30, Dead: 7]\n",
      "Tracking Progress: 100%|██████████| 10/10 [00:00<00:00, 197.38it/s, Active: 28, Dead: 6]\n",
      "Tracking Progress: 100%|██████████| 10/10 [00:00<00:00, 101.45it/s, Active: 31, Dead: 11]\n",
      "Tracking Progress: 100%|██████████| 10/10 [00:00<00:00, 200.27it/s, Active: 29, Dead: 6]\n",
      "Tracking Progress: 100%|██████████| 10/10 [00:00<00:00, 188.96it/s, Active: 28, Dead: 5]\n",
      "Tracking Progress: 100%|██████████| 10/10 [00:00<00:00, 146.40it/s, Active: 28, Dead: 5]\n",
      "Tracking Progress: 100%|██████████| 10/10 [00:00<00:00, 183.85it/s, Active: 30, Dead: 5]\n",
      "Tracking Progress: 100%|██████████| 10/10 [00:00<00:00, 195.18it/s, Active: 28, Dead: 7]\n",
      "Tracking Progress: 100%|██████████| 10/10 [00:00<00:00, 192.69it/s, Active: 29, Dead: 5]\n",
      "Tracking Progress: 100%|██████████| 10/10 [00:00<00:00, 187.59it/s, Active: 29, Dead: 7]\n"
     ]
    },
    {
     "name": "stdout",
     "output_type": "stream",
     "text": [
      "Best params: {'self': {}, 'motion_model': {'process_noise': 285.79024851377466, 'measurement_noise': 0.148890060403773}, 'matching_fn': {'gate': 0.6024539532390903}}\n",
      "HOTA score after tuning (SORTTracker): 0.500\n"
     ]
    }
   ],
   "source": [
    "import optuna\n",
    "\n",
    "hparam_search_space = {\n",
    "    'self': {},\n",
    "    'motion_model':{\n",
    "        'process_noise': {'type': 'logfloat', 'low': 100,'high': 1000},\n",
    "        'measurement_noise': {'type': 'logfloat','low': 0.1,'high': 100},\n",
    "    },\n",
    "    'matching_fn':{\n",
    "        'gate': {'type': 'float', 'low': 0.1, 'high': 1}\n",
    "    }\n",
    "}\n",
    "\n",
    "sampler = optuna.samplers.CmaEsSampler()\n",
    "pruner = optuna.pruners.HyperbandPruner()\n",
    "\n",
    "best_params, best_hota, study = tracker.tune_hparams(\n",
    "    frames_list=[frames],\n",
    "    bbdf_gt_list=[bbdf_gt],\n",
    "    n_trials=10,\n",
    "    reuse_detections=True, # Changed to TRUE to reuse detections\n",
    "    hparam_search_space=hparam_search_space,\n",
    "    verbose=False, # Changed to False to quiet down the output\n",
    "    sampler=sampler,\n",
    "    pruner=pruner,\n",
    "    return_study=True,\n",
    ")\n",
    "\n",
    "print(f\"Best params: {best_params}\")\n",
    "print(f\"HOTA score after tuning (SORTTracker): {best_hota:.3f}\")"
   ]
  },
  {
   "attachments": {},
   "cell_type": "markdown",
   "metadata": {},
   "source": [
    "## DeepSORT Tracker\n"
   ]
  },
  {
   "cell_type": "code",
   "execution_count": 4,
   "metadata": {},
   "outputs": [
    {
     "name": "stderr",
     "output_type": "stream",
     "text": [
      "[W NNPACK.cpp:64] Could not initialize NNPACK! Reason: Unsupported hardware.\n",
      "Tracking Progress: 100%|██████████| 10/10 [00:16<00:00,  1.68s/it, Active: 36, Dead: 26]\n"
     ]
    },
    {
     "name": "stdout",
     "output_type": "stream",
     "text": [
      "HOTA Score before Tuning (DeepSORTTracker): 0.408\n"
     ]
    }
   ],
   "source": [
    "from sportslabkit.mot import DeepSORTTracker\n",
    "\n",
    "slk.logger.set_log_level('INFO')\n",
    "det_model = slk.detection_model.load(\n",
    "    model_name='yolov8',\n",
    "    model=root/'models/yolov8/soccer_top_view-model=yolov8x-imgsz=2048.pt',\n",
    "    conf=0.25,\n",
    "    iou=0.6,\n",
    "    imgsz=960,\n",
    "    device='mps',\n",
    "    classes=0,\n",
    "    augment=True,\n",
    "    max_det=35\n",
    ")\n",
    "\n",
    "image_model = slk.image_model.load(\n",
    "    model_name='mobilenetv2_x1_0',\n",
    "    image_size=(32,32),\n",
    "    device='mps'\n",
    ")\n",
    "\n",
    "motion_model = slk.motion_model.load(\n",
    "    model_name='kalmanfilter',\n",
    "    dt=1/30,\n",
    "    process_noise=500,\n",
    "    measurement_noise=10,\n",
    "    confidence_scaler=1\n",
    ")\n",
    "\n",
    "matching_fn = slk.matching.MotionVisualMatchingFunction(\n",
    "    motion_metric=slk.metrics.IoUCMM(use_pred_box=True),\n",
    "    motion_metric_gate=0.2,\n",
    "    visual_metric=slk.metrics.CosineCMM(),\n",
    "    visual_metric_gate=0.2,\n",
    "    beta=0.9,\n",
    ")\n",
    "\n",
    "tracker = DeepSORTTracker(\n",
    "    detection_model=det_model,\n",
    "    image_model=image_model,\n",
    "    motion_model=motion_model,\n",
    "    matching_fn=matching_fn,\n",
    "    max_staleness=2,\n",
    "    min_length=2\n",
    ")\n",
    "\n",
    "bbdf_pred = tracker.track(frames)\n",
    "hota = slk.metrics.hota_score(bbdf_gt, bbdf_pred)[\"HOTA\"]\n",
    "print(f\"HOTA Score before Tuning (DeepSORTTracker): {hota:.3f}\")"
   ]
  },
  {
   "cell_type": "code",
   "execution_count": 5,
   "metadata": {},
   "outputs": [
    {
     "name": "stdout",
     "output_type": "stream",
     "text": [
      "\u001b[36mtune_hparams:0284  💬| Hyperparameter search space: \u001b[0m\n",
      "\u001b[36mtune_hparams:0286  💬| motion_model: \u001b[0m\n",
      "\u001b[36mtune_hparams:0288  💬| \tprocess_noise: {'type': 'logfloat', 'low': 100, 'high': 1000} \u001b[0m\n",
      "\u001b[36mtune_hparams:0288  💬| \tmeasurement_noise: {'type': 'logfloat', 'low': 0.1, 'high': 100} \u001b[0m\n",
      "\u001b[36mtune_hparams:0286  💬| matching_fn: \u001b[0m\n",
      "\u001b[36mtune_hparams:0288  💬| \tmotion_metric_gate: {'type': 'float', 'low': 0.0001, 'high': 1} \u001b[0m\n",
      "\u001b[36mtune_hparams:0288  💬| \tvisual_metric_gate: {'type': 'float', 'low': 0.0001, 'high': 1} \u001b[0m\n",
      "\u001b[36mtune_hparams:0288  💬| \tbeta: {'type': 'float', 'low': 0.0001, 'high': 1} \u001b[0m\n"
     ]
    },
    {
     "name": "stderr",
     "output_type": "stream",
     "text": [
      "Detecting frames for reuse: 100%|██████████| 10/10 [00:07<00:00,  1.28it/s]\n",
      "Tracking Progress: 100%|██████████| 10/10 [00:01<00:00,  6.65it/s, Active: 33, Dead: 11]\n",
      "Tracking Progress: 100%|██████████| 10/10 [00:01<00:00,  8.55it/s, Active: 28, Dead: 5]\n",
      "Tracking Progress: 100%|██████████| 10/10 [00:00<00:00, 10.53it/s, Active: 29, Dead: 7]\n",
      "Tracking Progress: 100%|██████████| 10/10 [00:00<00:00, 10.63it/s, Active: 28, Dead: 5]\n",
      "Tracking Progress: 100%|██████████| 10/10 [00:01<00:00,  6.20it/s, Active: 28, Dead: 0]\n",
      "Tracking Progress: 100%|██████████| 10/10 [00:01<00:00,  8.50it/s, Active: 28, Dead: 0]\n",
      "Tracking Progress: 100%|██████████| 10/10 [00:00<00:00, 10.55it/s, Active: 28, Dead: 0]\n",
      "Tracking Progress: 100%|██████████| 10/10 [00:00<00:00, 10.68it/s, Active: 28, Dead: 5]\n",
      "Tracking Progress: 100%|██████████| 10/10 [00:01<00:00,  8.92it/s, Active: 28, Dead: 0]\n",
      "Tracking Progress: 100%|██████████| 10/10 [00:01<00:00,  9.80it/s, Active: 28, Dead: 5]\n"
     ]
    },
    {
     "name": "stdout",
     "output_type": "stream",
     "text": [
      "Best HOTA: 0.499\n",
      "HOTA score after tuning (DeepSORTTracker): 0.499\n"
     ]
    }
   ],
   "source": [
    "import optuna\n",
    "\n",
    "hparam_search_space = {\n",
    "    'motion_model':{\n",
    "        'process_noise': {'type': 'logfloat', 'low': 100,'high': 1000},\n",
    "        'measurement_noise': {'type': 'logfloat','low': 0.1,'high': 100},\n",
    "    },\n",
    "    'matching_fn':{\n",
    "        'motion_metric_gate': {'type': 'float', 'low': 1e-4, 'high': 1},\n",
    "        'visual_metric_gate': {'type': 'float', 'low': 1e-4, 'high': 1},\n",
    "        'beta': {'type': 'float', 'low': 1e-4, 'high': 1},\n",
    "    }\n",
    "}\n",
    "\n",
    "sampler = optuna.samplers.CmaEsSampler()\n",
    "pruner = optuna.pruners.HyperbandPruner()\n",
    "\n",
    "best_params, best_hota, study = tracker.tune_hparams(\n",
    "    frames_list=[frames],\n",
    "    bbdf_gt_list=[bbdf_gt],\n",
    "    n_trials=10,\n",
    "    reuse_detections=True, # Changed to TRUE to reuse detections\n",
    "    hparam_search_space=hparam_search_space,\n",
    "    verbose=False, # Changed to False to quiet down the output\n",
    "    sampler=sampler,\n",
    "    pruner=pruner,\n",
    "    return_study=True,\n",
    ")\n",
    "\n",
    "print(f\"Best HOTA: {best_hota:.3f}\")\n",
    "print(f\"HOTA score after tuning (DeepSORTTracker): {best_hota:.3f}\")"
   ]
  },
  {
   "attachments": {},
   "cell_type": "markdown",
   "metadata": {},
   "source": [
    "## ByteTrack Tracker\n"
   ]
  },
  {
   "cell_type": "code",
   "execution_count": 6,
   "metadata": {},
   "outputs": [
    {
     "name": "stderr",
     "output_type": "stream",
     "text": [
      "Tracking Progress: 100%|██████████| 10/10 [08:00<00:00, 48.03s/it, Active: 33, Dead: 13]\n"
     ]
    },
    {
     "name": "stdout",
     "output_type": "stream",
     "text": [
      "HOTA Score before Tuning (BYTETracker): 0.424\n"
     ]
    }
   ],
   "source": [
    "from sportslabkit.mot import BYTETracker\n",
    "\n",
    "slk.logger.set_log_level('INFO')\n",
    "det_model = slk.detection_model.load(\n",
    "    model_name='yolov8',\n",
    "    model=root/'models/yolov8/soccer_top_view-model=yolov8x-imgsz=2048.pt',\n",
    "    conf=0.25,\n",
    "    iou=0.6,\n",
    "    imgsz=960,\n",
    "    device='mps',\n",
    "    classes=0,\n",
    "    augment=True,\n",
    "    max_det=35\n",
    ")\n",
    "\n",
    "image_model = slk.image_model.load(\n",
    "    model_name='mobilenetv2_x1_0',\n",
    "    image_size=(32,32),\n",
    "    device='mps'\n",
    ")\n",
    "\n",
    "motion_model = slk.motion_model.load(\n",
    "    model_name='kalmanfilter',\n",
    "    dt=1/30,\n",
    "    process_noise=500,\n",
    "    measurement_noise=10,\n",
    "    confidence_scaler=1\n",
    ")\n",
    "\n",
    "first_matching_fn = slk.matching.MotionVisualMatchingFunction(\n",
    "    motion_metric=slk.metrics.IoUCMM(use_pred_box=True),\n",
    "    motion_metric_gate=0.2,\n",
    "    visual_metric=slk.metrics.CosineCMM(),\n",
    "    visual_metric_gate=0.2,\n",
    "    beta=0.9,\n",
    ")\n",
    "\n",
    "second_matching_fn = slk.matching.SimpleMatchingFunction(\n",
    "    metric=slk.metrics.IoUCMM(use_pred_box=True),\n",
    "    gate=0.9,\n",
    ")\n",
    "\n",
    "tracker = BYTETracker(\n",
    "    detection_model=det_model,\n",
    "    image_model=image_model,\n",
    "    motion_model=motion_model,\n",
    "    first_matching_fn=first_matching_fn,\n",
    "    second_matching_fn=second_matching_fn,\n",
    "    detection_score_threshold=0.6,\n",
    "    max_staleness=2,\n",
    "    min_length=2\n",
    ")\n",
    "\n",
    "bbdf_pred = tracker.track(frames)\n",
    "hota = slk.metrics.hota_score(bbdf_gt, bbdf_pred)[\"HOTA\"]\n",
    "print(f\"HOTA Score before Tuning (BYTETracker): {hota:.3f}\")"
   ]
  },
  {
   "cell_type": "code",
   "execution_count": 7,
   "metadata": {},
   "outputs": [
    {
     "name": "stdout",
     "output_type": "stream",
     "text": [
      "\u001b[36mtune_hparams:0284  💬| Hyperparameter search space: \u001b[0m\n",
      "\u001b[36mtune_hparams:0286  💬| self: \u001b[0m\n",
      "\u001b[36mtune_hparams:0288  💬| \tdetection_score_threshold: {'type': 'float', 'low': 0.1, 'high': 0.5} \u001b[0m\n",
      "\u001b[36mtune_hparams:0286  💬| motion_model: \u001b[0m\n",
      "\u001b[36mtune_hparams:0288  💬| \tprocess_noise: {'type': 'logfloat', 'low': 100, 'high': 1000} \u001b[0m\n",
      "\u001b[36mtune_hparams:0288  💬| \tmeasurement_noise: {'type': 'logfloat', 'low': 0.1, 'high': 100} \u001b[0m\n",
      "\u001b[36mtune_hparams:0286  💬| first_matching_fn: \u001b[0m\n",
      "\u001b[36mtune_hparams:0288  💬| \tmotion_metric_gate: {'type': 'float', 'low': 0.0001, 'high': 1} \u001b[0m\n",
      "\u001b[36mtune_hparams:0288  💬| \tvisual_metric_gate: {'type': 'float', 'low': 0.0001, 'high': 1} \u001b[0m\n",
      "\u001b[36mtune_hparams:0288  💬| \tbeta: {'type': 'logfloat', 'low': 0.0001, 'high': 1} \u001b[0m\n",
      "\u001b[36mtune_hparams:0286  💬| second_matching_fn: \u001b[0m\n",
      "\u001b[36mtune_hparams:0288  💬| \tgate: {'type': 'float', 'low': 0.1, 'high': 1} \u001b[0m\n"
     ]
    },
    {
     "name": "stderr",
     "output_type": "stream",
     "text": [
      "Detecting frames for reuse:   0%|          | 0/10 [00:00<?, ?it/s]"
     ]
    },
    {
     "name": "stderr",
     "output_type": "stream",
     "text": [
      "Detecting frames for reuse: 100%|██████████| 10/10 [05:23<00:00, 32.39s/it]\n",
      "Tracking Progress: 100%|██████████| 10/10 [00:59<00:00,  5.93s/it, Active: 23, Dead: 0]\n",
      "Tracking Progress: 100%|██████████| 10/10 [00:18<00:00,  1.85s/it, Active: 25, Dead: 0]\n",
      "Tracking Progress: 100%|██████████| 10/10 [00:14<00:00,  1.42s/it, Active: 23, Dead: 0]\n",
      "Tracking Progress: 100%|██████████| 10/10 [00:23<00:00,  2.31s/it, Active: 26, Dead: 1]\n",
      "Tracking Progress: 100%|██████████| 10/10 [00:08<00:00,  1.25it/s, Active: 27, Dead: 1]\n",
      "Tracking Progress: 100%|██████████| 10/10 [00:04<00:00,  2.18it/s, Active: 28, Dead: 0]\n",
      "Tracking Progress: 100%|██████████| 10/10 [00:18<00:00,  1.83s/it, Active: 28, Dead: 0]\n",
      "Tracking Progress: 100%|██████████| 10/10 [00:20<00:00,  2.04s/it, Active: 27, Dead: 1]\n",
      "Tracking Progress: 100%|██████████| 10/10 [00:11<00:00,  1.17s/it, Active: 26, Dead: 0]\n",
      "Tracking Progress: 100%|██████████| 10/10 [00:12<00:00,  1.23s/it, Active: 25, Dead: 0]\n"
     ]
    },
    {
     "name": "stdout",
     "output_type": "stream",
     "text": [
      "Best HOTA: 0.506\n",
      "HOTA score after tuning (BYTETracker): 0.506\n"
     ]
    }
   ],
   "source": [
    "import optuna\n",
    "\n",
    "hparam_search_space = {\n",
    "    'self': {\n",
    "        'detection_score_threshold': {'type': 'float', 'low': 0.1, 'high': 0.5},\n",
    "    },\n",
    "    'motion_model':{\n",
    "        'process_noise': {'type': 'logfloat', 'low': 100,'high': 1000},\n",
    "        'measurement_noise': {'type': 'logfloat','low': 0.1,'high': 100},\n",
    "    },\n",
    "    'first_matching_fn':{\n",
    "        'motion_metric_gate': {'type': 'float', 'low': 1e-4, 'high': 1},\n",
    "        'visual_metric_gate': {'type': 'float', 'low': 1e-4, 'high': 1},\n",
    "        'beta': {'type': 'logfloat', 'low': 1e-4, 'high': 1},\n",
    "    },\n",
    "    'second_matching_fn':{\n",
    "        'gate': {'type': 'float', 'low': 0.1, 'high': 1}\n",
    "    }\n",
    "}\n",
    "\n",
    "sampler = optuna.samplers.CmaEsSampler()\n",
    "pruner = optuna.pruners.HyperbandPruner()\n",
    "\n",
    "best_params, best_hota, study = tracker.tune_hparams(\n",
    "    frames_list=[frames],\n",
    "    bbdf_gt_list=[bbdf_gt],\n",
    "    n_trials=10,\n",
    "    reuse_detections=True, # Changed to TRUE to reuse detections\n",
    "    hparam_search_space=hparam_search_space,\n",
    "    verbose=False, # Changed to False to quiet down the output\n",
    "    sampler=sampler,\n",
    "    pruner=pruner,\n",
    "    return_study=True,\n",
    ")\n",
    "\n",
    "print(f\"Best HOTA: {best_hota:.3f}\")\n",
    "print(f\"HOTA score after tuning (BYTETracker): {best_hota:.3f}\")"
   ]
  },
  {
   "attachments": {},
   "cell_type": "markdown",
   "metadata": {},
   "source": [
    "## TeamTrack Tracker"
   ]
  },
  {
   "attachments": {},
   "cell_type": "markdown",
   "metadata": {},
   "source": [
    "Work in progress"
   ]
  }
 ],
 "metadata": {
  "kernelspec": {
   "display_name": "Python 3 (ipykernel)",
   "language": "python",
   "name": "python3"
  },
  "language_info": {
   "codemirror_mode": {
    "name": "ipython",
    "version": 3
   },
   "file_extension": ".py",
   "mimetype": "text/x-python",
   "name": "python",
   "nbconvert_exporter": "python",
   "pygments_lexer": "ipython3",
   "version": "3.10.12"
  },
  "orig_nbformat": 4
 },
 "nbformat": 4,
 "nbformat_minor": 2
}
