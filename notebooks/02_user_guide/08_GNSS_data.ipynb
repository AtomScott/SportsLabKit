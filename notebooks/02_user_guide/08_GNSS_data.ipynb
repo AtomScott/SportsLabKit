{
 "cells": [
  {
   "attachments": {},
   "cell_type": "markdown",
   "metadata": {},
   "source": [
    "# Working with GNSS data\n",
    "\n",
    "In this tutorial, you will learn how to calculate the Homography transform between pitch coordinates and global coordinates."
   ]
  },
  {
   "cell_type": "markdown",
   "metadata": {},
   "source": [
    "## Reading GNSS data"
   ]
  },
  {
   "cell_type": "code",
   "execution_count": 1,
   "metadata": {},
   "outputs": [],
   "source": [
    "%load_ext autoreload\n",
    "%autoreload 2"
   ]
  },
  {
   "cell_type": "markdown",
   "metadata": {},
   "source": [
    "### Download a GNSS data file from Kaggle"
   ]
  },
  {
   "cell_type": "markdown",
   "metadata": {},
   "source": [
    "I you have not used the KaggleDownloader, see the [Dataset Preparation](./dataset_preparation.html) tutorial."
   ]
  },
  {
   "cell_type": "code",
   "execution_count": 2,
   "metadata": {},
   "outputs": [
    {
     "name": "stdout",
     "output_type": "stream",
     "text": [
      "\u001b[36mauthenticate:0172  💬| Authentication successful. \u001b[0m\n",
      "Downloading G_20200220_1_0000_0030.csv to /Users/atom/Github/SoccerTrack/sportslabkit/datasets\n"
     ]
    },
    {
     "name": "stderr",
     "output_type": "stream",
     "text": [
      "100%|██████████| 167k/167k [00:00<00:00, 420kB/s]"
     ]
    },
    {
     "name": "stdout",
     "output_type": "stream",
     "text": [
      "\n"
     ]
    },
    {
     "name": "stderr",
     "output_type": "stream",
     "text": [
      "\n"
     ]
    }
   ],
   "source": [
    "import sportslabkit as slk\n",
    "\n",
    "dl = slk.datasets.KaggleDownloader()\n",
    "path = dl.download(file_name='GNSS/G_20200220_1_0000_0030.csv', force=True) "
   ]
  },
  {
   "cell_type": "code",
   "execution_count": 3,
   "metadata": {},
   "outputs": [
    {
     "data": {
      "text/html": [
       "<div>\n",
       "<style scoped>\n",
       "    .dataframe tbody tr th:only-of-type {\n",
       "        vertical-align: middle;\n",
       "    }\n",
       "\n",
       "    .dataframe tbody tr th {\n",
       "        vertical-align: top;\n",
       "    }\n",
       "\n",
       "    .dataframe thead tr th {\n",
       "        text-align: left;\n",
       "    }\n",
       "</style>\n",
       "<table border=\"1\" class=\"dataframe\">\n",
       "  <thead>\n",
       "    <tr>\n",
       "      <th>TeamID</th>\n",
       "      <th colspan=\"10\" halign=\"left\">0</th>\n",
       "      <th>...</th>\n",
       "      <th colspan=\"10\" halign=\"left\">1</th>\n",
       "    </tr>\n",
       "    <tr>\n",
       "      <th>PlayerID</th>\n",
       "      <th colspan=\"2\" halign=\"left\">0</th>\n",
       "      <th colspan=\"2\" halign=\"left\">1</th>\n",
       "      <th colspan=\"2\" halign=\"left\">2</th>\n",
       "      <th colspan=\"2\" halign=\"left\">3</th>\n",
       "      <th colspan=\"2\" halign=\"left\">4</th>\n",
       "      <th>...</th>\n",
       "      <th colspan=\"2\" halign=\"left\">6</th>\n",
       "      <th colspan=\"2\" halign=\"left\">7</th>\n",
       "      <th colspan=\"2\" halign=\"left\">8</th>\n",
       "      <th colspan=\"2\" halign=\"left\">9</th>\n",
       "      <th colspan=\"2\" halign=\"left\">10</th>\n",
       "    </tr>\n",
       "    <tr>\n",
       "      <th>Attributes</th>\n",
       "      <th>Lat</th>\n",
       "      <th>Lon</th>\n",
       "      <th>Lat</th>\n",
       "      <th>Lon</th>\n",
       "      <th>Lat</th>\n",
       "      <th>Lon</th>\n",
       "      <th>Lat</th>\n",
       "      <th>Lon</th>\n",
       "      <th>Lat</th>\n",
       "      <th>Lon</th>\n",
       "      <th>...</th>\n",
       "      <th>Lat</th>\n",
       "      <th>Lon</th>\n",
       "      <th>Lat</th>\n",
       "      <th>Lon</th>\n",
       "      <th>Lat</th>\n",
       "      <th>Lon</th>\n",
       "      <th>Lat</th>\n",
       "      <th>Lon</th>\n",
       "      <th>Lat</th>\n",
       "      <th>Lon</th>\n",
       "    </tr>\n",
       "  </thead>\n",
       "  <tbody>\n",
       "    <tr>\n",
       "      <th>0</th>\n",
       "      <td>36.102640</td>\n",
       "      <td>140.107754</td>\n",
       "      <td>36.102705</td>\n",
       "      <td>140.107389</td>\n",
       "      <td>36.102580</td>\n",
       "      <td>140.107293</td>\n",
       "      <td>36.102643</td>\n",
       "      <td>140.107461</td>\n",
       "      <td>36.102676</td>\n",
       "      <td>140.107914</td>\n",
       "      <td>...</td>\n",
       "      <td>36.102448</td>\n",
       "      <td>140.107435</td>\n",
       "      <td>36.102396</td>\n",
       "      <td>140.107551</td>\n",
       "      <td>36.102207</td>\n",
       "      <td>140.107629</td>\n",
       "      <td>36.102509</td>\n",
       "      <td>140.107602</td>\n",
       "      <td>36.102488</td>\n",
       "      <td>140.107538</td>\n",
       "    </tr>\n",
       "    <tr>\n",
       "      <th>1</th>\n",
       "      <td>36.102640</td>\n",
       "      <td>140.107755</td>\n",
       "      <td>36.102705</td>\n",
       "      <td>140.107390</td>\n",
       "      <td>36.102579</td>\n",
       "      <td>140.107294</td>\n",
       "      <td>36.102642</td>\n",
       "      <td>140.107461</td>\n",
       "      <td>36.102676</td>\n",
       "      <td>140.107915</td>\n",
       "      <td>...</td>\n",
       "      <td>36.102448</td>\n",
       "      <td>140.107436</td>\n",
       "      <td>36.102396</td>\n",
       "      <td>140.107550</td>\n",
       "      <td>36.102207</td>\n",
       "      <td>140.107629</td>\n",
       "      <td>36.102509</td>\n",
       "      <td>140.107604</td>\n",
       "      <td>36.102488</td>\n",
       "      <td>140.107538</td>\n",
       "    </tr>\n",
       "    <tr>\n",
       "      <th>2</th>\n",
       "      <td>36.102640</td>\n",
       "      <td>140.107756</td>\n",
       "      <td>36.102705</td>\n",
       "      <td>140.107391</td>\n",
       "      <td>36.102579</td>\n",
       "      <td>140.107294</td>\n",
       "      <td>36.102642</td>\n",
       "      <td>140.107460</td>\n",
       "      <td>36.102676</td>\n",
       "      <td>140.107916</td>\n",
       "      <td>...</td>\n",
       "      <td>36.102448</td>\n",
       "      <td>140.107437</td>\n",
       "      <td>36.102396</td>\n",
       "      <td>140.107550</td>\n",
       "      <td>36.102207</td>\n",
       "      <td>140.107629</td>\n",
       "      <td>36.102508</td>\n",
       "      <td>140.107605</td>\n",
       "      <td>36.102488</td>\n",
       "      <td>140.107538</td>\n",
       "    </tr>\n",
       "    <tr>\n",
       "      <th>3</th>\n",
       "      <td>36.102640</td>\n",
       "      <td>140.107757</td>\n",
       "      <td>36.102705</td>\n",
       "      <td>140.107392</td>\n",
       "      <td>36.102579</td>\n",
       "      <td>140.107294</td>\n",
       "      <td>36.102641</td>\n",
       "      <td>140.107460</td>\n",
       "      <td>36.102676</td>\n",
       "      <td>140.107916</td>\n",
       "      <td>...</td>\n",
       "      <td>36.102448</td>\n",
       "      <td>140.107437</td>\n",
       "      <td>36.102397</td>\n",
       "      <td>140.107550</td>\n",
       "      <td>36.102207</td>\n",
       "      <td>140.107629</td>\n",
       "      <td>36.102508</td>\n",
       "      <td>140.107606</td>\n",
       "      <td>36.102489</td>\n",
       "      <td>140.107539</td>\n",
       "    </tr>\n",
       "    <tr>\n",
       "      <th>4</th>\n",
       "      <td>36.102641</td>\n",
       "      <td>140.107758</td>\n",
       "      <td>36.102705</td>\n",
       "      <td>140.107393</td>\n",
       "      <td>36.102579</td>\n",
       "      <td>140.107294</td>\n",
       "      <td>36.102640</td>\n",
       "      <td>140.107460</td>\n",
       "      <td>36.102676</td>\n",
       "      <td>140.107916</td>\n",
       "      <td>...</td>\n",
       "      <td>36.102448</td>\n",
       "      <td>140.107437</td>\n",
       "      <td>36.102397</td>\n",
       "      <td>140.107551</td>\n",
       "      <td>36.102207</td>\n",
       "      <td>140.107629</td>\n",
       "      <td>36.102508</td>\n",
       "      <td>140.107607</td>\n",
       "      <td>36.102489</td>\n",
       "      <td>140.107539</td>\n",
       "    </tr>\n",
       "  </tbody>\n",
       "</table>\n",
       "<p>5 rows × 44 columns</p>\n",
       "</div>"
      ],
      "text/plain": [
       "TeamID              0                                                \\\n",
       "PlayerID            0                      1                      2   \n",
       "Attributes        Lat         Lon        Lat         Lon        Lat   \n",
       "0           36.102640  140.107754  36.102705  140.107389  36.102580   \n",
       "1           36.102640  140.107755  36.102705  140.107390  36.102579   \n",
       "2           36.102640  140.107756  36.102705  140.107391  36.102579   \n",
       "3           36.102640  140.107757  36.102705  140.107392  36.102579   \n",
       "4           36.102641  140.107758  36.102705  140.107393  36.102579   \n",
       "\n",
       "TeamID                                                                ...  \\\n",
       "PlayerID                        3                      4              ...   \n",
       "Attributes         Lon        Lat         Lon        Lat         Lon  ...   \n",
       "0           140.107293  36.102643  140.107461  36.102676  140.107914  ...   \n",
       "1           140.107294  36.102642  140.107461  36.102676  140.107915  ...   \n",
       "2           140.107294  36.102642  140.107460  36.102676  140.107916  ...   \n",
       "3           140.107294  36.102641  140.107460  36.102676  140.107916  ...   \n",
       "4           140.107294  36.102640  140.107460  36.102676  140.107916  ...   \n",
       "\n",
       "TeamID              1                                                \\\n",
       "PlayerID            6                      7                      8   \n",
       "Attributes        Lat         Lon        Lat         Lon        Lat   \n",
       "0           36.102448  140.107435  36.102396  140.107551  36.102207   \n",
       "1           36.102448  140.107436  36.102396  140.107550  36.102207   \n",
       "2           36.102448  140.107437  36.102396  140.107550  36.102207   \n",
       "3           36.102448  140.107437  36.102397  140.107550  36.102207   \n",
       "4           36.102448  140.107437  36.102397  140.107551  36.102207   \n",
       "\n",
       "TeamID                                                                \n",
       "PlayerID                        9                     10              \n",
       "Attributes         Lon        Lat         Lon        Lat         Lon  \n",
       "0           140.107629  36.102509  140.107602  36.102488  140.107538  \n",
       "1           140.107629  36.102509  140.107604  36.102488  140.107538  \n",
       "2           140.107629  36.102508  140.107605  36.102488  140.107538  \n",
       "3           140.107629  36.102508  140.107606  36.102489  140.107539  \n",
       "4           140.107629  36.102508  140.107607  36.102489  140.107539  \n",
       "\n",
       "[5 rows x 44 columns]"
      ]
     },
     "execution_count": 3,
     "metadata": {},
     "output_type": "execute_result"
    }
   ],
   "source": [
    "import sportslabkit\n",
    "\n",
    "codf = slk.load_df(path, df_type='coordinates')\n",
    "codf.reset_index(inplace=True, drop=True)\n",
    "codf.head()"
   ]
  },
  {
   "cell_type": "code",
   "execution_count": 4,
   "metadata": {},
   "outputs": [
    {
     "name": "stdout",
     "output_type": "stream",
     "text": [
      "Downloading gnss_keypoints.json to /Users/atom/Github/SoccerTrack/sportslabkit/datasets\n"
     ]
    },
    {
     "name": "stderr",
     "output_type": "stream",
     "text": [
      "100%|██████████| 4.98k/4.98k [00:00<00:00, 4.34MB/s]"
     ]
    },
    {
     "name": "stdout",
     "output_type": "stream",
     "text": [
      "\n"
     ]
    },
    {
     "name": "stderr",
     "output_type": "stream",
     "text": [
      "\n"
     ]
    }
   ],
   "source": [
    "path = dl.download(file_name='gnss_keypoints.json', force=True) \n",
    "codf.set_keypoints(mapping_file=path)"
   ]
  }
 ],
 "metadata": {
  "kernelspec": {
   "display_name": "Python 3.8.12 ('soccertrack')",
   "language": "python",
   "name": "python3"
  },
  "language_info": {
   "codemirror_mode": {
    "name": "ipython",
    "version": 3
   },
   "file_extension": ".py",
   "mimetype": "text/x-python",
   "name": "python",
   "nbconvert_exporter": "python",
   "pygments_lexer": "ipython3",
   "version": "3.10.12"
  },
  "orig_nbformat": 4,
  "vscode": {
   "interpreter": {
    "hash": "86fd77fde5270c410244ce73bc0b68c8749dec758c13de6d70fa5ce033ba65ff"
   }
  }
 },
 "nbformat": 4,
 "nbformat_minor": 2
}
