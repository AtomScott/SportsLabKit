{
 "cells": [
  {
   "cell_type": "code",
   "execution_count": 1,
   "metadata": {},
   "outputs": [],
   "source": [
    "import numpy as np"
   ]
  },
  {
   "cell_type": "code",
   "execution_count": null,
   "metadata": {},
   "outputs": [],
   "source": [
    "@staticmethod\n",
    "def iou(boxA, boxB):\n",
    "    # if boxes dont intersect\n",
    "    if Evaluator._boxesIntersect(boxA, boxB) is False:\n",
    "        return 0\n",
    "    interArea = Evaluator._getIntersectionArea(boxA, boxB)\n",
    "    union = Evaluator._getUnionAreas(boxA, boxB, interArea=interArea)\n",
    "    # intersection over union\n",
    "    iou = interArea / union\n",
    "    assert iou >= 0\n",
    "    return iou"
   ]
  }
 ],
 "metadata": {
  "kernelspec": {
   "display_name": "Python 3.8.12 ('base_atom')",
   "language": "python",
   "name": "python3"
  },
  "language_info": {
   "codemirror_mode": {
    "name": "ipython",
    "version": 3
   },
   "file_extension": ".py",
   "mimetype": "text/x-python",
   "name": "python",
   "nbconvert_exporter": "python",
   "pygments_lexer": "ipython3",
   "version": "3.8.12"
  },
  "orig_nbformat": 4,
  "vscode": {
   "interpreter": {
    "hash": "47bcc98a91e0639070087bf2bbd0f353a7498108652c8107efb5221696e92166"
   }
  }
 },
 "nbformat": 4,
 "nbformat_minor": 2
}
